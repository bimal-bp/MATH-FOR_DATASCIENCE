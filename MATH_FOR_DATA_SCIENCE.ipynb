{
  "cells": [
    {
      "cell_type": "markdown",
      "metadata": {
        "id": "view-in-github",
        "colab_type": "text"
      },
      "source": [
        "<a href=\"https://colab.research.google.com/github/bimal-bp/NETFLIX-DASHBOARD-/blob/main/MATH_FOR_DATA_SCIENCE.ipynb\" target=\"_parent\"><img src=\"https://colab.research.google.com/assets/colab-badge.svg\" alt=\"Open In Colab\"/></a>"
      ]
    },
    {
      "cell_type": "markdown",
      "metadata": {
        "id": "UdRyKR44dcNI"
      },
      "source": [
        "<div class=\"markdown-google-sans\">\n",
        "\n",
        "## Data science\n",
        "</div>\n",
        "\n",
        "With Colab you can harness the full power of popular Python libraries to analyze and visualize data. The code cell below uses **numpy** to generate some random data, and uses **matplotlib** to visualize it. To edit the code, just click the cell and start editing."
      ]
    },
    {
      "cell_type": "code",
      "execution_count": null,
      "metadata": {
        "colab": {
          "base_uri": "https://localhost:8080/",
          "height": 281
        },
        "id": "C4HZx7Gndbrh",
        "outputId": "46abc637-6abd-41b2-9bba-80a7ae992e06"
      },
      "outputs": [
        {
          "data": {
            "image/png": "[encoded data removed]",
            "text/plain": [
              "<Figure size 432x288 with 1 Axes>"
            ]
          },
          "metadata": {
            "tags": []
          },
          "output_type": "display_data"
        }
      ],
      "source": [
        "import numpy as np\n",
        "from matplotlib import pyplot as plt\n",
        "\n",
        "ys = 200 + np.random.randn(100)\n",
        "x = [x for x in range(len(ys))]\n",
        "\n",
        "plt.plot(x, ys, '-')\n",
        "plt.fill_between(x, ys, 195, where=(ys > 195), facecolor='g', alpha=0.6)\n",
        "\n",
        "plt.title(\"Sample Visualization\")\n",
        "plt.show()"
      ]
    },
    {
      "cell_type": "markdown",
      "metadata": {
        "id": "4_kCnsPUqS6o"
      },
      "source": [
        "You can import your own data into Colab notebooks from your Google Drive account, including from spreadsheets, as well as from Github and many other sources. To learn more about importing data, and how Colab can be used for data science, see the links below under [Working with Data](#working-with-data)."
      ]
    },
    {
      "cell_type": "markdown",
      "metadata": {
        "id": "OwuxHmxllTwN"
      },
      "source": [
        "<div class=\"markdown-google-sans\">\n",
        "\n",
        "## Machine learning\n",
        "</div>\n",
        "\n",
        "With Colab you can import an image dataset, train an image classifier on it, and evaluate the model, all in just [a few lines of code](https://colab.research.google.com/github/tensorflow/docs/blob/master/site/en/tutorials/quickstart/beginner.ipynb). Colab notebooks execute code on Google's cloud servers, meaning you can leverage the power of Google hardware, including [GPUs and TPUs](#using-accelerated-hardware), regardless of the power of your machine. All you need is a browser."
      ]
    },
    {
      "cell_type": "markdown",
      "metadata": {
        "id": "ufxBm1yRnruN"
      },
      "source": [
        "Colab is used extensively in the machine learning community with applications including:\n",
        "- Getting started with TensorFlow\n",
        "- Developing and training neural networks\n",
        "- Experimenting with TPUs\n",
        "- Disseminating AI research\n",
        "- Creating tutorials\n",
        "\n",
        "To see sample Colab notebooks that demonstrate machine learning applications, see the [machine learning examples](#machine-learning-examples) below."
      ]
    },
    {
      "cell_type": "markdown",
      "source": [
        "# **Probability Theory**\n",
        "\n",
        "\n",
        "\n",
        "* The Law of Large Numbers states that the sample mean converges to the true mean\n",
        "as the sample size increases. The Central Limit Theorem states that the sample mean follows a normal distribution as the sample size increases.\n",
        "\n",
        "*  Probability theory is a branch of mathematics that deals with the study of randomness and uncertainty\n",
        "\n",
        "*  Probability is always a number between 0 and 1, with 0 indicating that an event is impossible and 1 indicating that an event is certain.\n",
        "\n",
        "*   P(A') = 1 - P(A)\n",
        "\n",
        "\n",
        "* Union rule-:P(A or B) = P(A) + P(B) - P(A and B)\n",
        "* Conditional probability: -P(A|B) = P(A and B) / P(B)\n",
        "\n",
        "*  Bayes' Theorem:-P(A|B) = P(B|A) * P(A) / P(B)\n",
        "*  🎲 Random variables are used to describe the possible outcomes of a random process. A random variable is a function that maps each outcome of a random process to a numerical value. For example, if we roll a die, the random variable can be defined as the number that appears on the top face.\n",
        "\n",
        "🔢 Random variables can be classified into two types: discrete and continuous. A discrete random variable can take on a countable number of values, while a continuous random variable can take on any value in a continuous range\n",
        "\n",
        "* The probability distribution of a discrete random variable can be represented by a probability mass function (PMF)  \n",
        "*   continuous random variable can be represented by a probability density function (PDF).\n",
        "\n",
        "\n",
        "\n",
        "\n",
        "\n"
      ],
      "metadata": {
        "id": "3y9YA_I6lKUk"
      }
    },
    {
      "cell_type": "code",
      "source": [
        "import random\n",
        "\n",
        "# Simulate rolling a six-sided die\n",
        "die_roll = random.randint(1, 6)\n",
        "print(\"You rolled a\", die_roll)\n",
        "\n",
        "# Simulate flipping a coin\n",
        "coin_flip = random.choice([\"heads\", \"tails\"])\n",
        "print(\"The coin landed on\", coin_flip)"
      ],
      "metadata": {
        "id": "TDtDIUJNnaGU",
        "outputId": "8440591e-a828-4912-e40b-327e62291114",
        "colab": {
          "base_uri": "https://localhost:8080/"
        }
      },
      "execution_count": null,
      "outputs": [
        {
          "output_type": "stream",
          "name": "stdout",
          "text": [
            "You rolled a 5\n",
            "The coin landed on heads\n"
          ]
        }
      ]
    },
    {
      "cell_type": "markdown",
      "source": [
        "**BAYES THRM EXAMPLE**\n",
        "\n",
        "Suppose a test for a disease is 95% accurate, meaning that if a person has the disease, the test will correctly identify it 95% of the time. However, the test also has a false positive rate of 5%, meaning that if a person does not have the disease, the test will incorrectly identify them as having it 5% of the time. If 1% of the population has the disease, what is the probability that a person who tests positive actually has the disease?\n",
        "Answer:\n",
        "\n",
        "Here, A is the event of having the disease, and B is the event of testing positive. The probability of having the disease is P(A) = 0.01, and the probability of testing positive given that the person has the disease is P(B|A) = 0.95. The probability of testing positive given that the person does not have the disease is P(B|¬A) = 0.05. Using Bayes' theorem, we can calculate the probability of having the disease given that the person tests positive as P(A|B) = P(B|A) * P(A) / (P(B|A) * P(A) + P(B|¬A) * P(¬A)) = (0.95 * 0.01) / (0.95 * 0.01 + 0.05 * 0.99) = 0.16, which is the probability of having the disease given that the person tests positive."
      ],
      "metadata": {
        "id": "wAF_mXe9vzzf"
      }
    },
    {
      "cell_type": "markdown",
      "source": [
        "# **Law of large numbers**\n",
        "\n",
        "*  the more data you have, the more accurate your estimate of the true underlying probability distribution will be.\n",
        "*  The law of large numbers is closely related to the central limit theorem, which states that the distribution of the sample means approaches a normal distribution as the sample size increases.\n",
        "\n",
        "*The law of large numbers has important implications for decision-making and risk management. It suggests that making decisions based on a large sample size is generally more reliable and accurate than making decisions based on a small sample size.   \n",
        "\n",
        "\n",
        "\n",
        "\n"
      ],
      "metadata": {
        "id": "x22A67np8isy"
      }
    },
    {
      "cell_type": "markdown",
      "source": [
        "# **Central Limit Theorem**\n",
        "\n",
        "*   var(x_bar) = (sigma)^2/n\n",
        "\n",
        "*  s.d (x_bar) = sigma/n\n",
        "\n",
        "*  increase in saample mean its distrubuted normaly\n",
        "\n",
        "* E(x_bar) = mu\n"
      ],
      "metadata": {
        "id": "YaIaeoeo9KE4"
      }
    },
    {
      "cell_type": "markdown",
      "source": [
        "# **Data Summarization**"
      ],
      "metadata": {
        "id": "YsMesmQvWtBz"
      }
    },
    {
      "cell_type": "markdown",
      "source": [
        "1️⃣ Descriptive statistics:\n",
        "\n",
        "These are statistical measures that describe the main features of a dataset, including measures of central tendency (mean, median, mode) and measures of dispersion (range, variance, standard deviation).\n",
        "\n",
        "4️⃣ Sampling:\n",
        "\n",
        "This involves selecting a subset of data from a larger dataset in order to gain insights about the larger population. Various sampling techniques can be used depending on the nature of the data and the research question.\n",
        "\n",
        "5️⃣ Dimensionality reduction:\n",
        "\n",
        "This involves reducing the number of variables in a dataset while still retaining as much information as possible. Techniques such as principal component analysis and factor analysis can be used for this purpose.\n",
        "\n",
        "6️⃣ Machine learning:\n",
        "\n",
        "This involves using algorithms to automatically identify patterns and relationships in a dataset. Techniques such as clustering, regression, and classification can be used to summarize data and make predictions."
      ],
      "metadata": {
        "id": "rpOPf9LXW0XV"
      }
    },
    {
      "cell_type": "code",
      "source": [
        "import pandas as pd\n",
        "\n",
        "data = pd.read_csv('mydata.csv') # mydata.csv can be any numerical data\n",
        "print('Mean:', data.mean())\n",
        "print('Standard deviation:', data.std())\n",
        "print('Range:', data.max() - data.min())"
      ],
      "metadata": {
        "id": "7i-8zFOEX2xr"
      },
      "execution_count": null,
      "outputs": []
    },
    {
      "cell_type": "markdown",
      "source": [
        "# **Descriptive statistics and their uses**"
      ],
      "metadata": {
        "id": "bTWiDpwsYRLa"
      }
    },
    {
      "cell_type": "markdown",
      "source": [
        "\n",
        "📊 Descriptive statistics are used to summarize and describe the important characteristics of a dataset, including measures of central tendency (mean, median, mode) and measures of variability (range, variance, standard deviation).\n",
        "\n",
        "📈 These statistics help to provide a quick overview of the data, identify patterns or trends, and determine if the data is skewed or has outliers.\n",
        "\n",
        "📉 Descriptive statistics can be calculated using various Python libraries such as NumPy, Pandas, and SciPy.\n",
        "\n",
        "📊 The most common descriptive statistics include:\n",
        "\n",
        "Mean: the arithmetic average of a set of values.\n",
        "\n",
        "Median: the middle value in a set of values when arranged in order.\n",
        "\n",
        "Mode: the value that appears most frequently in a set of values.\n",
        "\n",
        "Range: the difference between the maximum and minimum values in a set of values.\n",
        "\n",
        "Variance: a measure of how spread out the values are from the mean.\n",
        "\n",
        "Standard deviation: the square root of the variance, providing a measure of the spread of the data around the mean."
      ],
      "metadata": {
        "id": "SS-8cg1KX3j0"
      }
    },
    {
      "cell_type": "code",
      "source": [
        "import numpy as np\n",
        "\n",
        "data = np.array([10, 20, 30, 40, 50])\n",
        "\n",
        "# Mean\n",
        "mean = np.mean(data)\n",
        "print(\"Mean:\", mean)\n",
        "\n",
        "# Median\n",
        "median = np.median(data)\n",
        "print(\"Median:\", median)\n",
        "\n",
        "# Range\n",
        "range = np.ptp(data)\n",
        "print(\"Range:\", range)\n",
        "\n",
        "# Variance\n",
        "variance = np.var(data)\n",
        "print(\"Variance:\", variance)\n",
        "\n",
        "# Standard deviation\n",
        "std_dev = np.std(data)\n",
        "print(\"Standard deviation:\", std_dev)"
      ],
      "metadata": {
        "id": "3ZUK2R47YOdU"
      },
      "execution_count": null,
      "outputs": []
    },
    {
      "cell_type": "markdown",
      "source": [
        "\n",
        "\n",
        "*   mean = (sum of all values) / (number of observations)\n",
        "*   It is the middle value in a dataset when the values are arranged in ascending or descending order.\n",
        "\n",
        "*   It is the most frequently occurring value in a dataset\n",
        "\n",
        "\n",
        "\n",
        "\n"
      ],
      "metadata": {
        "id": "JTGHeowFYakN"
      }
    },
    {
      "cell_type": "markdown",
      "source": [
        "# Measures of dispersion: Variance, Standard Deviation, and Range:"
      ],
      "metadata": {
        "id": "NQJFPE0xYzQh"
      }
    },
    {
      "cell_type": "markdown",
      "source": [
        "📏 Range is the simplest measure of dispersion and is defined as the difference between the maximum and minimum values in a dataset.\n",
        "\n",
        "📐 Variance is a measure of how much the data points are dispersed around the mean value. It is calculated by taking the average of the squared differences between each data point and the mean.\n",
        "\n",
        "📈 Standard deviation is another measure of dispersion that indicates how much the data deviates from the mean value. It is the square root of the variance and is often used as a more interpretable measure of dispersion compared to variance."
      ],
      "metadata": {
        "id": "7dpk0gRAZEXv"
      }
    },
    {
      "cell_type": "code",
      "source": [
        "data = [5, 10, 15, 20, 25]\n",
        "range_value = max(data) - min(data)\n",
        "print(\"Range value:\", range_value)\n",
        "data = [5, 10, 15, 20, 25]\n",
        "import statistics\n",
        "variance = statistics.variance(data)\n",
        "std_deviation = statistics.stdev(data)\n",
        "print(\"Variance:\", variance)\n",
        "print(\"Standard deviation:\", std_deviation)"
      ],
      "metadata": {
        "colab": {
          "base_uri": "https://localhost:8080/"
        },
        "id": "ca5F1RbBZFk_",
        "outputId": "14500af3-02ec-4885-e21e-c3fe02ef4535"
      },
      "execution_count": 6,
      "outputs": [
        {
          "output_type": "stream",
          "name": "stdout",
          "text": [
            "Range value: 20\n",
            "Variance: 62.5\n",
            "Standard deviation: 7.905694150420948\n"
          ]
        }
      ]
    },
    {
      "cell_type": "code",
      "source": [
        "data = [5, 10, 15, 20, 25]\n",
        "mean = sum(data) / len(data)\n",
        "variance = sum((x - mean) ** 2 for x in data) / len(data)\n",
        "std_deviation = variance ** 0.5"
      ],
      "metadata": {
        "id": "jL5g72hiZTws"
      },
      "execution_count": null,
      "outputs": []
    },
    {
      "cell_type": "markdown",
      "source": [
        "**Percentiles and Quartiles:**\n",
        "\n",
        "📊 Percentiles and quartiles are important measures of relative standing or position of a value in a data set.\n",
        "\n",
        "📈 Percentiles divide a dataset into 100 equal parts, each representing 1% of the data. For example, the 75th percentile is the value below which 75% of the data falls.\n",
        "\n",
        "📊 Quartiles divide a dataset into four equal parts, each representing 25% of the data. The first quartile (Q1) is the 25th percentile, the second quartile (Q2) is the 50th percentile (also known as the median), and the third quartile (Q3) is the 75th percentile.\n",
        "\n",
        "📈 Percentiles and quartiles can be calculated using various methods, such as interpolation, nearest rank, and the inverse of the cumulative distribution function.\n",
        "\n",
        "📊 The most commonly used method for calculating percentiles and quartiles is the interpolation method. This method estimates the percentile value by interpolating between the two nearest values in the dataset."
      ],
      "metadata": {
        "id": "6OSuZZVgcavn"
      }
    },
    {
      "cell_type": "code",
      "source": [
        "import numpy as np\n",
        "\n",
        "data = [3, 1, 4, 2, 5, 7, 6, 8, 9, 10]\n",
        "q1 = np.quantile(data, 0.25)\n",
        "q2 = np.quantile(data, 0.5)\n",
        "q3 = np.quantile(data, 0.75)\n",
        "\n",
        "print(\"Q1 value is:\", q1)\n",
        "print(\"Q2 value is:\", q2)\n",
        "print(\"Q3 value is:\", q3)"
      ],
      "metadata": {
        "colab": {
          "base_uri": "https://localhost:8080/"
        },
        "id": "PB700Si8ceGU",
        "outputId": "9a7a07f1-8559-439d-dbbe-a0146d2577dc"
      },
      "execution_count": 8,
      "outputs": [
        {
          "output_type": "stream",
          "name": "stdout",
          "text": [
            "Q1 value is: 3.25\n",
            "Q2 value is: 5.5\n",
            "Q3 value is: 7.75\n"
          ]
        }
      ]
    },
    {
      "cell_type": "code",
      "source": [
        "import matplotlib.pyplot as plt\n",
        "import numpy as np\n",
        "\n",
        "# example data\n",
        "data = [3, 5, 7, 9, 11, 13, 15, 17, 19, 21]\n",
        "\n",
        "# calculate quartiles\n",
        "q1, q2, q3 = np.percentile(data, [25, 50, 75])\n",
        "\n",
        "# create box plot\n",
        "plt.boxplot(data)\n",
        "plt.title(\"Box Plot with Quartiles\")\n",
        "plt.text(1.05, q1, f\"Q1: {q1:.2f}\", fontsize=10, color=\"r\")\n",
        "plt.text(1.05, q2, f\"Q2: {q2:.2f}\", fontsize=10, color=\"r\")\n",
        "plt.text(1.05, q3, f\"Q3: {q3:.2f}\", fontsize=10, color=\"r\")\n",
        "plt.show()"
      ],
      "metadata": {
        "colab": {
          "base_uri": "https://localhost:8080/",
          "height": 452
        },
        "id": "0h0GM0OqcuXJ",
        "outputId": "3710db12-3a1a-48e5-9a93-aa94a949060e"
      },
      "execution_count": 9,
      "outputs": [
        {
          "output_type": "display_data",
          "data": {
            "text/plain": [
              "<Figure size 640x480 with 1 Axes>"
            ],
            "image/png": "[encoded data removed]"
          },
          "metadata": {}
        }
      ]
    },
    {
      "cell_type": "markdown",
      "source": [
        "IQR = Q3-Q1\n",
        "\n",
        "Lower Q = Q1 -1.5IQR\n",
        "\n",
        "Upper Q = Q3 + 1.5IQR"
      ],
      "metadata": {
        "id": "UIkAeBAuh9DK"
      }
    },
    {
      "cell_type": "markdown",
      "source": [
        "# **Skewness and Kurtosis**\n",
        "\n",
        "📊 Skewness and Kurtosis are important measures of the shape of a distribution in descriptive statistics.\n",
        "\n",
        "📈 Skewness refers to the degree of asymmetry in a distribution. A positive skew indicates that the distribution has a longer tail on the right side, while a negative skew indicates a longer tail on the left side.\n",
        "\n",
        "📉 Kurtosis, on the other hand, measures the degree of peakedness of a distribution. A high kurtosis indicates that the distribution has a sharper peak and heavier tails, while a low kurtosis indicates a flatter peak and lighter tails."
      ],
      "metadata": {
        "id": "m2c8d2WCkQ3Z"
      }
    },
    {
      "cell_type": "code",
      "source": [
        "import numpy as np\n",
        "from scipy.stats import skew\n",
        "\n",
        "data = np.array([1, 2, 3, 4, 5, 6, 7, 8, 9, 10])\n",
        "skewness = skew(data)\n",
        "\n",
        "print(\"Skewness:\", skewness)\n"
      ],
      "metadata": {
        "colab": {
          "base_uri": "https://localhost:8080/"
        },
        "id": "he8wZJLgkUkv",
        "outputId": "3c2a42e9-2624-4ccc-856b-b5ba8c44617e"
      },
      "execution_count": 10,
      "outputs": [
        {
          "output_type": "stream",
          "name": "stdout",
          "text": [
            "Skewness: 0.0\n"
          ]
        }
      ]
    },
    {
      "cell_type": "code",
      "source": [
        "import numpy as np\n",
        "from scipy.stats import kurtosis\n",
        "\n",
        "data = np.array([1, 2, 3, 4, 5, 6, 7, 8, 9, 10])\n",
        "kurt = kurtosis(data)\n",
        "\n",
        "print(\"Kurtosis:\", kurt)"
      ],
      "metadata": {
        "colab": {
          "base_uri": "https://localhost:8080/"
        },
        "id": "yXbMi4jFn3EF",
        "outputId": "773063c7-d0f3-41f0-f423-f17407ee14b2"
      },
      "execution_count": 11,
      "outputs": [
        {
          "output_type": "stream",
          "name": "stdout",
          "text": [
            "Kurtosis: -1.2242424242424244\n"
          ]
        }
      ]
    },
    {
      "cell_type": "markdown",
      "source": [
        "# 1.** Types of Skewness:**\n",
        "Positive skewness:\n",
        "\n",
        "A distribution is said to be positively skewed if its tail is longer on the positive side (to the right) of the distribution. This means that the majority of the data is on the left side of the distribution.\n",
        "\n",
        "Negative skewness:\n",
        "\n",
        "A distribution is said to be negatively skewed if its tail is longer on the negative side (to the left) of the distribution. This means that the majority of the data is on the right side of the distribution.\n",
        "\n",
        "Zero skewness:\n",
        "\n",
        "A distribution is said to have zero skewness if it is symmetric around its mean. This means that the left and right tails are of equal length"
      ],
      "metadata": {
        "id": "inTOlRsYoA3j"
      }
    },
    {
      "cell_type": "markdown",
      "source": [
        "\n",
        "\n",
        "# **2. Types of Kurtosis: **\n",
        "Leptokurtic:\n",
        "\n",
        "A distribution is said to be leptokurtic if it has a high degree of peakedness. This means that the data is heavily concentrated around the mean, and the tails are relatively thin.\n",
        "\n",
        "Mesokurtic:\n",
        "\n",
        "A distribution is said to be mesokurtic if it has a moderate degree of peakedness. This means that the data is moderately concentrated around the mean, and the tails are neither too thick nor too thin.\n",
        "\n",
        "Platykurtic:\n",
        "\n",
        "A distribution is said to be platykurtic if it has a low degree of peakedness. This means that the data is widely spread out, and the tails are relatively thick."
      ],
      "metadata": {
        "id": "Sp0h9yP7oteI"
      }
    },
    {
      "cell_type": "code",
      "source": [
        "import numpy as np\n",
        "# Sample dataset (with outliers)\n",
        "data = np.array([25, 30, 35, 40, 45, 50, 1000])\n",
        "# Calculate the z-scores for each data point\n",
        "z_scores = (data - np.mean(data)) / np.std(data)\n",
        "# Define a threshold for outlier detection (e.g., 2 standard deviations from the mean)\n",
        "threshold = 2\n",
        "# Identify outliers\n",
        "outliers = np.abs(z_scores) > threshold\n",
        "# Print the original dataset and the outliers\n",
        "print(\"Original data:\", data)\n",
        "print(\"Z-scores:\", z_scores)\n",
        "print(\"Outliers:\", data[outliers])"
      ],
      "metadata": {
        "colab": {
          "base_uri": "https://localhost:8080/"
        },
        "id": "HQoBmBKXowU6",
        "outputId": "c87c51a3-8baa-4569-94b1-4ed9e0b1fcf1"
      },
      "execution_count": 12,
      "outputs": [
        {
          "output_type": "stream",
          "name": "stdout",
          "text": [
            "Original data: [  25   30   35   40   45   50 1000]\n",
            "Z-scores: [-0.44523913 -0.43039783 -0.41555652 -0.40071522 -0.38587392 -0.37103261\n",
            "  2.44881523]\n",
            "Outliers: [1000]\n"
          ]
        }
      ]
    },
    {
      "cell_type": "markdown",
      "source": [
        "Conclusion:\n",
        "📊 Data summarization is an important step in the exploratory data analysis process.\n",
        "\n",
        "📈 Descriptive statistics help to summarize and describe the key features of a dataset.\n",
        "\n",
        "📉 Measures of central tendency such as mean, median, and mode help to identify the typical value of a dataset.\n",
        "\n",
        "📊 Measures of dispersion such as variance, standard deviation, and range help to identify the spread of data points.\n",
        "\n",
        "📈 Percentiles and quartiles provide information about the distribution of the dataset.\n",
        "\n",
        "📉 Skewness and kurtosis help to identify the shape of the distribution.\n",
        "\n",
        "📊 Outlier detection and treatment is an important step to identify and handle extreme values in a dataset.\n",
        "\n",
        "📈 Python provides a number of libraries such as NumPy, Pandas, and Matplotlib to perform data summarization and exploratory data analys"
      ],
      "metadata": {
        "id": "7VjUXkMCpgoc"
      }
    },
    {
      "cell_type": "markdown",
      "source": [
        "# ***Discrete Probability Distribution***"
      ],
      "metadata": {
        "id": "vJIIkuTRuA9s"
      }
    },
    {
      "cell_type": "markdown",
      "source": [
        "🎲 Probability mass function: A function that maps each possible outcome of a random variable to its probability.\n",
        "\n",
        "📈 Cumulative distribution function: A function that shows the probability of a random variable being less than or equal to a certain value.\n",
        "\n",
        "🔮 Expected value and variance: Measures of the central tendency and variability of a probability distribution, respectively.\n",
        "\n",
        "🎯 Binomial distribution: A probability distribution that describes the number of successes in a fixed number of independent trials.\n",
        "\n",
        "🐠 Poisson distribution: A probability distribution that describes the number of events occurring in a fixed interval of time or space.\n",
        "\n",
        "🚶 Geometric distribution: A probability distribution that describes the number of trials needed to obtain the first success.\n",
        "\n",
        "🃏 Hypergeometric distribution: A probability distribution that describes the number of successes in a sample drawn without replacement from a finite population."
      ],
      "metadata": {
        "id": "b--XxmRwujLr"
      }
    },
    {
      "cell_type": "markdown",
      "source": [
        "Discrete Probability is 5 types as\n",
        "\n",
        "1. Bernoli\n",
        "\n",
        "2. Geometric\n",
        "\n",
        "3. Binomial\n",
        "\n",
        "4. poission\n",
        "\n",
        "5. Hyper Geometric\n",
        "\n",
        "\n",
        "\n"
      ],
      "metadata": {
        "id": "40Hbyd33v-3-"
      }
    },
    {
      "cell_type": "markdown",
      "source": [
        "**Bernoli probability** distribution is about getting os success as i toss 10 coins and get 6 head so p(h) = 0.6 and q = 1-p so q = 0.4"
      ],
      "metadata": {
        "id": "CoUPPSe1xVJ2"
      }
    },
    {
      "cell_type": "markdown",
      "source": [
        "**Geometric Distribution**\n",
        "\n",
        "📊 Definition:\n",
        "\n",
        "Geometric Distribution is a probability distribution that represents the number of Bernoulli trials needed to obtain the first success in a sequence of independent trials.\n",
        "\n",
        "📈 Formula:\n",
        "\n",
        "The probability mass function (PMF) of the Geometric Distribution is given by P(X=k)=q(k−1)p, where X is the number of trials needed to obtain the first success, p is the probability of success in each trial, and q=1-p is the probability of failure.\n",
        "\n",
        "📊 Mean and Variance:\n",
        "\n",
        "# The mean of the Geometric Distribution is **μ=1/p** and the variance is  **σ2=q/p2**"
      ],
      "metadata": {
        "id": "3xxEb7LPx-xO"
      }
    },
    {
      "cell_type": "code",
      "source": [
        "import numpy as np\n",
        "p = 0.3\n",
        "k = 5\n",
        "from scipy.stats import geom\n",
        "gp = geom.pmf(k,p)\n",
        "geom.mean(p)\n",
        "geom.var(p)\n",
        "print(gp)"
      ],
      "metadata": {
        "colab": {
          "base_uri": "https://localhost:8080/"
        },
        "id": "34AZcxfqyDz3",
        "outputId": "d2bd6a09-f236-454b-abfa-0ae899184290"
      },
      "execution_count": 15,
      "outputs": [
        {
          "output_type": "stream",
          "name": "stdout",
          "text": [
            "0.07202999999999998\n"
          ]
        }
      ]
    },
    {
      "cell_type": "markdown",
      "source": [
        "**Binomial Distribution**\n",
        "\n",
        "🎲 Introduction:\n",
        "\n",
        "Binomial distribution is a type of discrete probability distribution that deals with the probability of a certain number of successes in a fixed number of independent trials, each with the same probability of success.\n",
        "\n",
        "🎲 Properties:\n",
        "\n",
        "The trials must be independent.\n",
        "\n",
        "The probability of success, denoted by p, must be constant for each trial.\n",
        "\n",
        "The number of trials, denoted by n, must be fixed.\n",
        "\n",
        "The random variable X, which represents the number of successes, can take on integer values from 0 to n.\n",
        "\n",
        "🎲 Probability Mass Function (PMF):\n",
        "\n",
        "The PMF of a binomial distribution is given by:\n",
        "\n",
        "Using the factorial function:  P(X=k)=n!k!(n−k)!pk(1−p)n−k .\n",
        "\n",
        "🎲 Mean and Variance:\n",
        "\n",
        "The mean of a binomial distribution is given by:\n",
        "\n",
        "μ=np\n",
        "\n",
        "The variance of a binomial distribution is given by:\n",
        "\n",
        "σ2=np(1−p)\n",
        "\n",
        "\n",
        "1.binom=   p(x=r) = p^r * q ^n-r\n",
        "2. expo =  μ=np\n",
        "3. var = σ2=np(1−p)\n",
        "\n"
      ],
      "metadata": {
        "id": "SlljW1b-6-D_"
      }
    },
    {
      "cell_type": "markdown",
      "source": [
        "Suppose we have a coin that has a probability of landing heads (success) of 0.6. We flip the coin 10 times. What is the probability of getting exactly 5 heads?"
      ],
      "metadata": {
        "id": "PUjopVn27ywb"
      }
    },
    {
      "cell_type": "code",
      "source": [
        "\n",
        "\n",
        "\n",
        "from scipy.stats import binom\n",
        "n = 10\n",
        "p = 0.6\n",
        "bp = binom.pmf(5,n,p)\n",
        "print(round(bp,3))\n",
        "binom.mean(n,p)\n",
        "binom.var(n,p)"
      ],
      "metadata": {
        "colab": {
          "base_uri": "https://localhost:8080/"
        },
        "id": "b3A33Es670Yo",
        "outputId": "50f7f194-52f2-4dcf-fd29-63a64fafa3ab"
      },
      "execution_count": 28,
      "outputs": [
        {
          "output_type": "stream",
          "name": "stdout",
          "text": [
            "0.201\n"
          ]
        },
        {
          "output_type": "execute_result",
          "data": {
            "text/plain": [
              "2.4000000000000004"
            ]
          },
          "metadata": {},
          "execution_count": 28
        }
      ]
    },
    {
      "cell_type": "code",
      "source": [],
      "metadata": {
        "id": "Xizx0LAU9YSb"
      },
      "execution_count": null,
      "outputs": []
    },
    {
      "cell_type": "markdown",
      "source": [
        "# **Poisson Distribution**\n",
        "\n",
        "📊 Poisson Distribution:\n",
        "\n",
        "Poisson distribution is a discrete probability distribution that describes the number of events occurring in a fixed interval of time or space, given the average rate of occurrence of the events.\n",
        "\n",
        "📈 Parameters:\n",
        "\n",
        "The Poisson distribution is determined by a single parameter, λ, which represents the average rate of occurrence of the event in the given interval.\n",
        "\n",
        "📝 Probability Mass Function:\n",
        "\n",
        "The probability mass function (PMF) of a Poisson distribution is given by:\n",
        "\n",
        "P(X=k)=(λk∗e(−λ))/k!\n",
        "\n",
        "where X is the random variable representing the number of events, k is the number of events, λ is the average rate of occurrence, and e is the base of the natural logarithm.\n",
        "\n",
        "🔍 Uses:\n",
        "\n",
        "The Poisson distribution is commonly used in many fields such as biology, physics, finance, and economics to model the occurrence of rare events.\n",
        "\n",
        "Some examples of the Poisson distribution in real-life applications include:\n",
        "\n",
        "The number of customers arriving at a service desk in a given time interval.\n",
        "\n",
        "The number of defects in a manufacturing process.\n",
        "\n",
        "The number of earthquakes in a region over a given time period.\n",
        "\n",
        "E(x) = lamda\n",
        "\n",
        "var = lambda\n"
      ],
      "metadata": {
        "id": "3kxyFUrs-E8e"
      }
    },
    {
      "cell_type": "code",
      "source": [
        "from scipy.stats import poisson\n",
        "avg = 3\n",
        "r = 7\n",
        "pp = poisson.pmf(r,avg)\n",
        "print(round(pp,2))"
      ],
      "metadata": {
        "colab": {
          "base_uri": "https://localhost:8080/"
        },
        "id": "SHmSaBn_-Tlp",
        "outputId": "576c7fd6-96b2-4564-d567-62b0e1b28b3b"
      },
      "execution_count": 35,
      "outputs": [
        {
          "output_type": "stream",
          "name": "stdout",
          "text": [
            "0.02\n"
          ]
        }
      ]
    },
    {
      "cell_type": "code",
      "source": [
        "from scipy.stats import poisson\n",
        "avg = 6\n",
        "r = 12\n",
        "pp2 = poisson.pmf(r,avg)\n",
        "print(round(pp2,2))"
      ],
      "metadata": {
        "colab": {
          "base_uri": "https://localhost:8080/"
        },
        "id": "_TPhJIsr-ufZ",
        "outputId": "43d3ff40-e446-49e1-d980-a826872ee36e"
      },
      "execution_count": 34,
      "outputs": [
        {
          "output_type": "stream",
          "name": "stdout",
          "text": [
            "0.01\n"
          ]
        }
      ]
    },
    {
      "cell_type": "markdown",
      "source": [
        "# Hypergeometric Distribution"
      ],
      "metadata": {
        "id": "OSsGK8eA_WZ8"
      }
    },
    {
      "cell_type": "markdown",
      "source": [
        "🎓 Introduction:\n",
        "\n",
        "Hypergeometric Distribution is a probability distribution used to model the probability of drawing a specified number of objects from a finite population without replacement. It is a discrete probability distribution and is widely used in statistical inference, sampling theory, and quality control.\n",
        "\n",
        "🎲 Definition:\n",
        "\n",
        "The hypergeometric distribution describes the probability of k successes in n draws from a finite population size N with M total successes and N - M total failures, where the draws are made without replacement.\n",
        "\n",
        "📊 Formula:\n",
        "\n",
        "The probability mass function (PMF) for Hypergeometric Distribution is given by:\n",
        "\n",
        "(nk)=n!k!(n−k)!\n",
        "\n",
        "Where, k = number of successes\n",
        "\n",
        "n = number of draws\n",
        "\n",
        "M = total number of successes in the population\n",
        "\n",
        "N = population size"
      ],
      "metadata": {
        "id": "sEeN-EYQ_QlW"
      }
    },
    {
      "cell_type": "code",
      "source": [
        "from scipy.stats import hypergeom\n",
        "\n",
        "# Define the parameters\n",
        "M = 10  # Total number of successes\n",
        "N = 15  # Population size\n",
        "n = 3   # Number of draws\n",
        "m = 2   # Number of successes\n",
        "\n",
        "# Calculate the PMF\n",
        "pmf = hypergeom.pmf(m, N, M, n)\n",
        "print(\"PMF:\", pmf)\n",
        "\n",
        "# Calculate the mean and variance\n",
        "mean = hypergeom.mean(N, M, n)\n",
        "var = hypergeom.var(N, M, n)\n",
        "print(\"Mean:\", mean)\n",
        "print(\"Variance:\", var)\n"
      ],
      "metadata": {
        "colab": {
          "base_uri": "https://localhost:8080/"
        },
        "id": "MBkrugdm_nPs",
        "outputId": "9067052e-7fad-45a0-a414-a327168700df"
      },
      "execution_count": 36,
      "outputs": [
        {
          "output_type": "stream",
          "name": "stdout",
          "text": [
            "PMF: 0.49450549450549447\n",
            "Mean: 2.0\n",
            "Variance: 0.5714285714285714\n"
          ]
        }
      ]
    },
    {
      "cell_type": "markdown",
      "source": [
        "Geometric = 1st success **p(x=r) = pq^r-1**  , ** rp**\n",
        "\n",
        "Binomial = getting n numner success in n trial  **p(x=r) = nCr p^nq^n-r**,\n",
        " **rnp**\n",
        "\n",
        "Poisson = **lambda / r!**\n",
        "\n",
        "Hyper geometric = **mMNn**\n"
      ],
      "metadata": {
        "id": "D1q8TjYq_tHi"
      }
    },
    {
      "cell_type": "markdown",
      "source": [
        "# **Continuous Probability**"
      ],
      "metadata": {
        "id": "XGNolz90Fk9z"
      }
    },
    {
      "cell_type": "code",
      "source": [
        "from scipy.stats import norm\n",
        "import matplotlib.pyplot as plt\n",
        "\n",
        "x = np.linspace(-4, 4, num=100)\n",
        "y = norm.cdf(x, loc=0, scale=1)\n",
        "\n",
        "plt.plot(x, y)\n",
        "plt.title('Cumulative Distribution Function of Normal Distribution')\n",
        "plt.xlabel('x')\n",
        "plt.ylabel('Cumulative Probability')\n",
        "plt.show()\n"
      ],
      "metadata": {
        "id": "9fc0pQngFig8"
      },
      "execution_count": null,
      "outputs": []
    },
    {
      "cell_type": "markdown",
      "source": [
        "# **Continuous Probability- **\n",
        "\n",
        "1.Uniform distributio\n",
        "\n",
        "2.Normal distribution\n",
        "\n",
        "3.Exponential distribution\n",
        "\n",
        "4.Gmma distribution\n",
        "\n",
        "5.Beeta distribution\n",
        "\n",
        "\n"
      ],
      "metadata": {
        "id": "V0EISOdcF1Fe"
      }
    },
    {
      "cell_type": "markdown",
      "source": [
        "**Uniform Distribution**\n",
        "\n",
        "\n",
        "Uniform distribution is a continuous probability distribution that is used to model random variables that have an equal chance of taking on any value within a specified range. Here are some important points to know about uniform distribution:\n",
        "\n",
        "In uniform distribution, the probability of a random variable taking any value within a given range is the same.\n",
        "\n",
        "The probability density function (PDF) for uniform distribution is a horizontal line over the range of values, with a height equal to 1 divided by the range.\n",
        "\n",
        "The cumulative distribution function (CDF) for uniform distribution is a straight line that increases linearly from 0 to 1 over the range of values.\n",
        "\n",
        "The expected value (mean) of a uniform distribution is the average of the minimum and maximum values in the range.\n",
        "\n",
        "The variance of a uniform distribution is calculated as  (range2)/12\n",
        "\n",
        "P(x) = 1/b-a\n",
        "\n",
        "MU  = (b+a)/2\n",
        "\n",
        "S.D = sqrt((b-a)^2)/12\n",
        "\n",
        "P(c<=x<=d) = d-c/b-a"
      ],
      "metadata": {
        "id": "u2KzfH8yGcXq"
      }
    },
    {
      "cell_type": "markdown",
      "source": [
        "we have a uniform distribution from 2 to 10 so prob of getting 7 is loc is start point scale is 8 means loc+8 is 10 ,scale = one type of range as 10-2 ,x to get result"
      ],
      "metadata": {
        "id": "fbKvTxpdIUjw"
      }
    },
    {
      "cell_type": "code",
      "source": [
        "from scipy.stats import uniform\n",
        "prob_x_less_7_mins = uniform.cdf(x=7, loc=2, scale=8)\n",
        "prob_x_less_7_mins"
      ],
      "metadata": {
        "colab": {
          "base_uri": "https://localhost:8080/"
        },
        "id": "IXfIv_hAHHAs",
        "outputId": "e2efa697-9259-4a7e-fe21-02a85e873fc1"
      },
      "execution_count": 38,
      "outputs": [
        {
          "output_type": "execute_result",
          "data": {
            "text/plain": [
              "0.625"
            ]
          },
          "metadata": {},
          "execution_count": 38
        }
      ]
    },
    {
      "cell_type": "markdown",
      "source": [
        "# **Normal Distribution**\n",
        "\n",
        "📈 Normal distribution, also known as Gaussian distribution, is a continuous probability distribution that describes the probability of a random variable taking on a range of values.\n",
        "\n",
        "📈 The probability density function (PDF) of a normal distribution is defined by two parameters: the mean (μ) and the standard deviation (σ).\n",
        "\n",
        "📈 The shape of the normal distribution is symmetric around the mean, with the highest point of the curve occurring at the mean.\n",
        "\n",
        "📈 The standard normal distribution is a normal distribution with a mean of 0 and a standard deviation of 1.\n",
        "\n",
        "📈 The cumulative distribution function (CDF) of the normal distribution is given by the area under the normal curve to the left of a given value.\n",
        "\n",
        "📈 The normal distribution is widely used in statistical analysis and modeling, as many natural phenomena follow this distribution.\n",
        "\n",
        "📈 The normal distribution can be simulated in Python using the numpy and scipy libraries. Here's an example code snippet to generate random numbers from a normal distribution with a mean of 0 and a standard deviation of 1:"
      ],
      "metadata": {
        "id": "zArAmXGrnXRN"
      }
    },
    {
      "cell_type": "code",
      "source": [
        "from scipy.stats import norm\n",
        "\n",
        "mean=166\n",
        "sd=20\n",
        "\n",
        "rv=1 - norm.cdf(170, loc=mean, scale=sd)\n",
        "print(rv)\n",
        "print('As the 170 is more than 166 so we will calculate the left side so we minus it from 1')"
      ],
      "metadata": {
        "colab": {
          "base_uri": "https://localhost:8080/"
        },
        "id": "S2FME3GpnmCQ",
        "outputId": "e70683c4-a6c7-4645-e393-456cc5f5842b"
      },
      "execution_count": 5,
      "outputs": [
        {
          "output_type": "stream",
          "name": "stdout",
          "text": [
            "0.420740290560897\n",
            "As the 170 is more than 166 so we will calculate the left side so we minus it from 1\n"
          ]
        }
      ]
    },
    {
      "cell_type": "code",
      "source": [
        "norm.cdf(190, loc=mean, scale=sd) - norm.cdf(170, loc=mean, scale=sd)"
      ],
      "metadata": {
        "colab": {
          "base_uri": "https://localhost:8080/"
        },
        "id": "hKGqQR76TDbc",
        "outputId": "442123e8-a73d-4975-e1ce-120995f7be9f"
      },
      "execution_count": 3,
      "outputs": [
        {
          "output_type": "execute_result",
          "data": {
            "text/plain": [
              "0.3056706203391888"
            ]
          },
          "metadata": {},
          "execution_count": 3
        }
      ]
    },
    {
      "cell_type": "markdown",
      "source": [
        "Exponential Distribution\n",
        "📈 Introduction to Exponential Distribution:\n",
        "\n",
        "Exponential Distribution is a type of continuous probability distribution that describes the time between events in a Poisson process, where events occur continuously and independently at a constant average rate.\n",
        "\n",
        "📊 Probability Density Function:\n",
        "\n",
        "The probability density function of Exponential Distribution is given by  f(x)=λe(−λx) , where λ is the rate parameter.\n",
        "\n",
        "📈 Cumulative Distribution Function:\n",
        "\n",
        "The cumulative distribution function of Exponential Distribution is given by  F(x)=1−e(−λx)\n",
        "\n",
        "🔎 Expected Value and Variance:\n",
        "\n",
        "The expected value of Exponential Distribution is E(X) = 1/λ, and the variance is  Var(X)=1/λ2"
      ],
      "metadata": {
        "id": "oOrbXMfXWfWh"
      }
    },
    {
      "cell_type": "markdown",
      "source": [
        "📊 Applications:\n",
        "\n",
        "Exponential Distribution is used in a wide range of applications, such as:\n",
        "\n",
        "Modeling the time between events, such as the time between calls in a call center.\n",
        "\n",
        "Reliability analysis, such as predicting the time until a component fails.\n",
        "\n",
        "Financial modeling, such as modeling the time between trades in financial markets."
      ],
      "metadata": {
        "id": "4lWRoEJDcjAX"
      }
    },
    {
      "cell_type": "code",
      "source": [
        "lamda = 10\n",
        "beta = 6\n",
        "r = 5\n",
        "\n",
        "from scipy.stats import expon\n",
        "\n",
        "1 - expon.cdf(5, scale=beta)\n",
        "print(\"As we are calculating exponential we have to find beta for this we will use lamba as beta = 1/lambda and if i am getting 6 calls per avg is poission this is lambda and for this the beta is 10min per call\")"
      ],
      "metadata": {
        "colab": {
          "base_uri": "https://localhost:8080/"
        },
        "id": "KawOd7yGWntR",
        "outputId": "8153e8b1-33fc-4b46-b3d6-6c86f7a9ec44"
      },
      "execution_count": 7,
      "outputs": [
        {
          "output_type": "stream",
          "name": "stdout",
          "text": [
            "As we are calculating exponential we have to find beta for this we will use lamba as beta = 1/lambda and if i am getting 6 calls per avg is poission this is lambda and for this the beta is 10min per call\n"
          ]
        }
      ]
    },
    {
      "cell_type": "markdown",
      "source": [
        "In poisson we calculated probability of 12 calls in one hour but in exponenatial we calculate time taken between 1st and 2nd call"
      ],
      "metadata": {
        "id": "NhYwQaHqb_mR"
      }
    },
    {
      "cell_type": "code",
      "source": [],
      "metadata": {
        "id": "1zPfpimpapld"
      },
      "execution_count": null,
      "outputs": []
    },
    {
      "cell_type": "markdown",
      "source": [
        "![lambda.jpg](data:image/jpeg;base64,/9j/4AAQSkZJRgABAQEAYABgAAD/2wBDAAMCAgMCAgMDAwMEAwMEBQgFBQQEBQoHBwYIDAoMDAsKCwsNDhIQDQ4RDgsLEBYQERMUFRUVDA8XGBYUGBIUFRT/2wBDAQMEBAUEBQkFBQkUDQsNFBQUFBQUFBQUFBQUFBQUFBQUFBQUFBQUFBQUFBQUFBQUFBQUFBQUFBQUFBQUFBQUFBT/wAARCAHWA0ADASIAAhEBAxEB/8QAHwAAAQUBAQEBAQEAAAAAAAAAAAECAwQFBgcICQoL/8QAtRAAAgEDAwIEAwUFBAQAAAF9AQIDAAQRBRIhMUEGE1FhByJxFDKBkaEII0KxwRVS0fAkM2JyggkKFhcYGRolJicoKSo0NTY3ODk6Q0RFRkdISUpTVFVWV1hZWmNkZWZnaGlqc3R1dnd4eXqDhIWGh4iJipKTlJWWl5iZmqKjpKWmp6ipqrKztLW2t7i5usLDxMXGx8jJytLT1NXW19jZ2uHi4+Tl5ufo6erx8vP09fb3+Pn6/8QAHwEAAwEBAQEBAQEBAQAAAAAAAAECAwQFBgcICQoL/8QAtREAAgECBAQDBAcFBAQAAQJ3AAECAxEEBSExBhJBUQdhcRMiMoEIFEKRobHBCSMzUvAVYnLRChYkNOEl8RcYGRomJygpKjU2Nzg5OkNERUZHSElKU1RVVldYWVpjZGVmZ2hpanN0dXZ3eHl6goOEhYaHiImKkpOUlZaXmJmaoqOkpaanqKmqsrO0tba3uLm6wsPExcbHyMnK0tPU1dbX2Nna4uPk5ebn6Onq8vP09fb3+Pn6/9oADAMBAAIRAxEAPwD9N/Cv/Hvf/wDX5J/IVuVh+Ff+Pe//AOvyT+QrcpsAooopAFFFFABRRRQAUUUUAFFFFABRRRQAUUUUAFFFFABRRRQAUUUUAFFFFABRRRQAUUUUAFFFFABRRRQAUUUUAFFFFABRRRQBycvjqW3+K1t4Nl0mZYbrRZdXt9W81TG7RTxxSwbPvBlE8LbuhD46g11leRWcYl/a21iR8s1v4HsliyfueZf3W/Hpu8qPPrsHpXrtABRRRQAUUUUAFFFFABRRRQAUUUUAFFFFABRRRQAUUUUAFFFNd1jRndgqqMlmOAB60AOoqvp+oWurWNve2VzDeWdwiyw3Fu4eORCMhlYcEEdCKsUAFFFFABRRXifwZ+Mmp/Er43fGPQpGVfD/AIXuLCy06IxKsnmYuEuWZgSWzLCdv+yo4BJoA9sooooAKKKKACiiigAooooAKKKKACiiigDy341fF67+HGtfD7RNKsBqWreKNft7B42id1gsfMRbq4JXpsEkYGeMuDggGvUq8n8QbNU/ag8G2sqEf2V4X1W/icHq8txZQ4PsFDfiw9K9YoAKKKKACiisXxj400P4f+HrvXPEep2+kaVarukubhsD2VR1Zj0CqCxPABNAG1RWH4L8U/8ACZ6BDqy6TqWjRTO4it9Wt/IuGRWIWQx5LIGA3AOA2CMqK3KACiiigAooooAKKKKACiiigAooooAKKKKACiiigAooooAKKKKACudb/kIX/wD12/8AZFroq51v+Qhf/wDXb/2RaaEybwr/AMe9/wD9fkn8hW5WH4V/497/AP6/JP5CtyhjCvJ/Ff7Vnwn8F+IYtD1LxpZPqsm//R9PilvjGUOGWQwI4jYf3XIPtV748Wuv694Z0rwxoMV1jxFqkGmapeWi/NaaawZ7uQSEFYyYkaNWPO6Rdvzba5r40eF9D+GfhfwR4j0bTLDQrDwbr9pO7WlqsaW1hO32W8+4AQnlTmRsdTEpbO2kB6Z4F+Inhv4l6OdU8MaxbaxZq5ikaBiHicdUkQgMjYwdrAHBB6EV0deefEP4J6H44vDrlmZPDfjWGPFn4n0ljDdRMANol2kC4jGADFKGUqWGBnNXfg/47ufH3guC51S1/s7xJYSNput2G3Atr+IATKvzNlCSHQ7jlHQ55oA7aiiigAoorm/h38RNA+KnhGy8TeGb7+0dGvC4in8tozuR2R1KsAykMpHI7Z6EUAdJRRXJ/EL4laX8NYfD8uqxXUy63rVnoVsLVFYrcXL7I2fcwwgPUjJA6A0AdZRRXz/oHjCTXv24vFGkQXV4bHRfBlvazWzuwtxdNcrOzKudpbyp4BuxntQB9AUUUUAFFFFABRRRQAUUUUAFFFFABRRRQAUUUUAFFFFABRRRQAUUUUAFFFFABRRRQB5FYyLH+1trUbHa83gexaMH+IJf3e/H08xM/wC8K9drzPxPdx2H7Q3gAynaL3QNbs4m7GXzdPlC/XZFIf8AgJr0ygAooooAKK5f4ifEKw+G+h2+oXsFxfT3l7Bp1jp9n5f2i8uZnCRxR+Y6LnqxLMAFViTgGjwD8QLL4g6ffTW9jqGk3unXbWF/pmq2/k3NpOER9jAEqwKSRuHRmVlcEMaAOoooooAKy9B8U6N4pjvH0bVrHVks7l7O5axuEmEE6Y3xPtJ2uMjKnkZFalfG3/BPVPLu/HeF27rPSnb3Je+GT74A/IUAfZNFFFABRRUdxcRWlvJPPIkMMal3kkYKqKBkkk9AB3oAkorzvwV8evCXxA8TDRdFnvJjNBLcWOoTWUkVlqSROqTG1mYBZvLZ0BK5HOQSASOS+Pvx+1b4Va5bWmiaZYatFp+n/wBt68t3JJHJFZG6it4xCVXaZXZ5mG44xA3HIoA9xooooAK8+/aGz/woH4mY6/8ACManjH/XrJXoNc58QvF2j+B/CGoarrkclzYKoh+xww+fLeSSEIlvHF/y0eRmCKvct6UAQfCvR9O0D4a+GLHSrSCx0+PToGigtUCRruQMSAOOSxP411VfKvwB8MfFLWvgzDLYeO/+Eb1LRZbvS7DwrLYW89tava3c0aW17cMsksg2pGm6Jo9qYIDH5m99+GPxAj+I3hk372Emj6raXElhqmkzyLJJYXkRxLCWXhhyGVxwyOjADdigDp7OSaa3V54fs8pJzGHD45OOfcYP41NXn/xw8Zal4Q8D7NAlhh8T61e2+iaO9wpZI7q4kCCVgFbIiQyTEEYIiIryX4j2Gh/sg+H9M8X6JZ654i13UL2HTdSutR1e7uzcwhGuLu7ljaUoZFgtp3BVQFJ6bcigD6ar5a/YtjOpeLvjNrhSOKSTxFNps2wfNLJHeXtwZT9VvUQD0i96+pa+c/2KNV0zWPDvxNudK2m1uPHurXcThCvmQTNHJBJzzhomTGe1AH0ZRRRQAUUUUAFFFFABRRRQAUUUUAFFFFAHk14P+MrtIP8A1JV7/wCl1rXrNeUXg/4yq0g/9SXe/wDpda16vQAUUUUAMmmjt4ZJZXWKKNSzyOQFVQMkknoK8V+GdjffHHWdM+J/iJXtvD1uzzeEfDrDiKMhkGo3PZ55EJMYHyxRvwWZyw1v2mNTk/4VqPDNu3l3njS/t/C0U2zeIVu2KTyYDAkpAJmHuozxmvUbS1hsbWG2t41hghRY440GFVQMAAegAoAmooooAKKKKACiiigAooooAKKKKACiikZgoJJwBySaAForwv4HftYeG/jh8SvGvhDTAiz6JM72FxC7SpqFmhjje4DBdoHmvgDJypBHevdKACiiigAooooAKKKKACudb/kIX/8A12/9kWuirnW/5CF//wBdv/ZFpoTJvCv/AB73/wD1+SfyFblYfhX/AI97/wD6/JP5CtyhjCsD4geFV8eeAvEnhprj7Ius6Zc6cbjbu8sTRNHuxkZxuzj2rfopAcN8C/Ep8YfBvwXq7n9/caTb/aATkrMsYWVT7h1YfhWN8KZBbfFD4xadEipAmuWd4MZz5kumWof8Mxg/UmsL4PeMNO+Hn7N9z4j1aTytO0u51m5lwQGYLqN1hFyRlmOFUdyQO9df8GPCWr+H/Dt5q3ifZ/wl/iO6/tbV0j2mO3laNI0tkIJykMUccYOTuKM2fmoA9Aor5x+IHx6+IWn+Ij/wi2gaLPp514+HtO0XVluV1TW54yPtE0LIPLgt0HmfvXDqFiLn7yrXffs8+Mp/EXw/tNG1u6un8b+HYotO8RWmogLdRXYQEu2CQ8cg+dJVJV1OQcggAHqFcR8NfhZp/wALrrxSujstvpOtan/akOmxR7I7ORoY0lC8nId42k7AFyAK7eigAr5g/ba1+HRr/wCDckvmOmneMrPXLmOMZxa28iRySenDXUQ5PV/rX0/Xh+taHa/Ez9ozxFouoqmpeH9M8E/2beW5cfuZdQuH3qO4ZobVCT2G3pnkA9g8Ra/YeFfD+p61qk/2XTNNtpLy6nKlvLijUu7YAJOFBOAM185fA3wnqOg/GrSPEWs2xt9a8aeFL/Wr9SzEx3DX9s/kHcePKgntoRjAxDnFVdJ8S33xW8O+GvgvqgN/4j028EXjGSdX2Cw0+5QB5C+Gdr0LblQM5SaRui8+oftAWs/h/S9H+Iun+d9v8GXBvLmOHJNxpkm1b+IrkAgRATDOfnt0xQB6vWY3ijRo/ECaC2rWK648P2ldMNyguWizjzBFncVyCN2McVfjnjmhSaORZIXUOsisCpUjIIPpivk3T9Dj174e2XxivbdovEuseOtO1eyupIRFcR6a+oRWFtb7sAmNrN8+jeaSQSckA+tqK8h0v9oSC6+OGseA73RZbLTLe4XTtP8AEiymS2vNQFtHcyWZwmIpBHISAWO7y3HBwp9eoAKwPGfj7w58O9LGo+JtbstEs2bYkl5ME8xv7qDq7f7Kgn2ryPR/i9qPw18N+MNA1yRvFPivQdci0nR7aW6SK51dL0q+nK0jBQGxI0bybcD7NK3O012Pw7+D0WhamfFniya38T/EO5GZtaki+SyUhh9mslbJggUOwwPmfczOSW4ANDwL8cPA/wASdUm0zw7r8N/qMURna1aKSGQxggF1WRVLAEgEjONwz1Fd1XD/ABY+GcHxG0GPyJjpfifTGN3omtwopnsLoYIKkjlG2hZEPDoSD2IsfB/x1/wsz4X+GfEzCNLnULKOS7ihVlSK5A2zxgNzhJVkXv8Ad6nrQB2FFFFABRRRQAUUUUAFFFFABRRRQAUUUUAFFFFABRRRQB5b8ULeQfFr4OXe3MK6vqFuzdgz6XdMo/ERtXqVebfF4Z8SfCv/ALGsf+m6+r0mgAooooA8cvLrTNa+Pmua1q96i6N8PdCiZGnULb2l5dedJcys5H30tYbfv8qXDf360f2e7e/vvDGt+LdRS4gn8YazPrkFvdoqSw2jLHBZqwUkA/ZoIGI6gsQeQa4XRfhTL8UfiB8SItb1uZvBsPirde+Gootg1GVdNsRH584YM0IBU+TjaxRSSRlT9GUAJuG7bnnrivCviJ8dtb0r4ueHfDfhy1sZdDh1qx0nXr+6V2bz7qOV0t4MYUMkaCR2JOPNiGOTXnXirQpPEXwv8afHmyuILvxjpOp3WsaJqKyvGkekabPLGLSJwW/dXFvHcO2AFka5ywwFx674b+B2jX3wB0vwfPJJFdT2kN9LrdqzJd/2phZTqIkzu87zh5m4sfQ/LxQB3PxA+IGlfDbw62rar58oaVLW1sbOPzbq9uHOI7eCPI3yMeg4AAJJCgkfHH7EeteM/CfgvVPF5+GOs65oeukCG+0vU7FpRbWokVNttJIjMTK0/Ic5BXapwC3ruo/s2+NPir420nVPip4zs7/RdHtpLa30fwxbTWK3hkBWWWeQylkLodjLGRlSVBUFg/YfsjwJa/s7+EII0WJIo7iMRqMBcXMoxjtjGKAO1i+J/hub4bx+PBqK/wDCMPYDUheBGY+SV3fcALbu2wDdu4xnivOZPjd43sfM1zUfAUNj4WhCXN1p7al5niG0snyBdy2UaMu3KuSiyFwFbgspWrngaOy+HPx48WeD7FZLXR9Y0mHxRZ2MQH2e2nE8kN6VHVN5a2faPl3GQ8EnNb4K3Vn4Z+DerfFPXLUR6p4kgn8V6rcq3mTNalXltYdzH7sNr5capkKuGxjcSQD1DUdYi1nwPdapot0LqG605rmyurVtwkVoi0boR1yCCCPUV4B4S1O9+PHhP4beBpp5b3SrXw7o2u+M76adWN4JbcNBYsDlnM0iGSUnA8tNpJ83Fetfs86VcaH8Bvh5Y3atHdQ6BYrLGwwUbyEJUj1GcfhXmX7Afh230v8AZ5stXR3e717Uby9uN2MJ5czW0ca4H3Vjt04OeS3rigDrfj1Gmh6l8JtWso4re7sPF9nZRMsa8W9zFLbSxjjhSsgOB3RfQVxXxO8DzeKP2v8AwxZ6zIkfg3VvDscj2rzBBqd3p91NOkBHVlQ3EUxTgNsB+YI4r2z4heAYfiBa6HFLdvZyaTrNlrMTqgYM1vKH2MMjhl3LnPBIPOMGx47+H+h/EjRY9M121eeKG4jvLaeCZ4Li1uIzmOaGVCHjkU5wykHBI6EggHE/tLeMvEvhn4fx6b4GnWLx9r13Hp+iDZHIQ4zLNIVcFdqwRykkg4O3uRXO6L8atf8AjpFpVh8NJ9P02GXSoL7XPEl1F9sj0uWaMMlnDGGVZLpc7m3nbGANysWC13PgP4J6N4I12fXp9Q1TxX4ieFLSHWfEc6XV1a2yggQROEXamSxY43OWy7Nxjt9M0mx0W3aDT7K3sIGkeZorWJY1MjsWdyFAG5mJJPUkkmgDzf4WeMtcsfFms/DvxnfjVfE2mwLqdlq6W8cC6pp0jlFlKIcJLHIrxuuFHCMMhjjqfHHgOLxtqPhG5muBEmgayusCJog4nZbeeJV5Py4aYOG5wUH1F/VfB+max4k0PX7iKQaro3ni1njkZPkmTZJG4Bw6HCNtPG6ND1UVt0AcF8K/Bt94JvfHcE+46fqHiS41TTmZlJMVxDBJL06AXDXIAPOAO2Ky/AlpcaL8dvijY+er2OoW2ka9HCox5Ussc9pJ9SRp8Zz716jXL2HhOez+JmueJjcRtbajpFhpwg2nej2815IWz0wwuwP+AH1oA5/45eEtb8SaL4e1Hw9aw6lqvhvWoNcj02abyPtwiSRWgWQghHYSHaW+XIAJAJI5FtHuf2kPFFvda5oOueHvAWk2FxCmm6zbmyudSvbu2kt5i0eSyxwwTSxhhjc8rFWKoC3u1FAHzlH4k+JS+BIfhi+k65P45aX+yJvGMlnusFsS4B1IT7gjS+QSRFnf5y/MpHLereC/hDofw91oX2gPd2FudLttKk08S7reVbdFjgmYEFvNWNRHuzyoAIO0EdvRQAUUUUAFFFFABRRRQAUUUUAFFFFABRRRQB5VeD/jKbSD/wBSZe/+l1rXqteWXn/J0WkH/qTr3/0tta9ToAKKKKAPLfiB5upfHL4UacJfKt7VdW1thjPmPFbpaqnXjjUHbPP3AO+a9OuBK0EggZEm2nY0illDY4JAIyM+4ry/4hXA0X45fCvU7gbbK7i1bQ1lLABLiaOC4iBz2ZbKVR3LFRjnj1SgD5o0f9ozx98N/ifo/gv40eGtI0+216YW2keK/DMkrafNM23bE6S5dDubaSSMHB2lMuPpevn39szwXH8SPCvgXwmVDzav4pht0+UsUBtLrfJgc4RNzE9sU26+Jmt+Jv2afCcdnLcw+OPFRt/CzTTWzGW11Alob+Z0XGDAIbuXsP3Q7GgDppvj5e6lq14/hLwFrXjfwtYSSW91r2kXFqqvOgO9LaOaVDcBWG1nQ43ZC7iDXdeAfiDovxK8Prq+iTvJCsr21xbXEbRXFncIcSQTxN80cinqpHcEZBBPnfxO8S618I/DXg/wP8LdIstT8RvbyR6fpeoLI0S2Fnb5cs4ZdrFvs8KszAbpwTnBrvfhz4o8NeO9Fk8S+HI4lGoyf6afIENytxGojaO5XG4SxhQhVuQFA6YoA4C2/aXh1vwXoWoaD4U1LU/FWt315YWfhOaeG2ug1pLIlw8zu2yNEEWSxzy8a9WrJ0P4gX37T+qR2Xhy51bwr4K0h1HiK4VzaalcX21HOmIynfCse7E0i4YkBI2xuanfBT4e3nhX9pD44alc6RcW+m3smmyaRfzwt5TpLHLNdJA7cY+0O7uqnG5gSMmu9+D/AMKT8Kv+E2X+0RqK+IvE994iXEHl+R9o2ExH5ju2lT83Gc9BQBy+mwXPwT+K2h6DDqOpal4K8YGWC1i1a9mvH0rUYYTJsSeZ2cxTxxyHy2YkSRkrw5A6b4pX89v4s+F9ol5PaWd54ikW7WCdoRKkemX06o5UjKeZFGxU8HYMgjisr4/abd3c/wAMr23tpbi303xpYXF20KFzFE8c8Acgc48yaMEjoGyeASGftR/CnVvjB8Ib/SPDlxHZeKbWeK+0m6kmaIRTocN86gkbonlT/gfPFAFvwL+0N4c8eeILXS4LHV9KXUop7nRb/VLVYbbWYYWKyS2rBySANr4cIxR1YAjJFBv2nPDoVtTXRdfk8FLd/Yz41S2iOk7vumTd5vmmEP8AIZhF5eQTu2/NWh46+AHh74heBfCnhO+lvNN0jQJYGjg0ucxebClu9u9qz/e8qSKV42AIJU4yK9DXR7BNJGlrZW66YIPswshEvkiHbt8vZjbt28bcYxxQBZhmjuIUlidZYpFDI6EFWBGQQR1FfNH7bPxh0/Q/hpqngzTtTki1jVpLWz1O5tYJJ00iwmmVJZ7nywSqsm6MJkO+/wCUHBI7eb9j/wCEE00kg8GQQb2LGO1vLmGJcnJCokgVR7AAV6H4K+H/AIa+HGk/2Z4X0LT9BschmisLdYvMYKF3uQMu2AMsxJOOTQB8kfCP4Ty/s4P4B+I2pJLpNrqt5c6bri3aYlsLC8WP7Es+TtjxcxRySkbQkl06gbBX2vVHXNDsPE2i32k6paR32m30L29zbTDKSxsCGU+xBNcv8N/AuteAhf2F14qn8Q6Bv/4ldtqEBa7so8sTG9yZC06jICllDAKAS3WgDtqKKKACiiigAooooAK51v8AkIX/AP12/wDZFroq51v+Qhf/APXb/wBkWmhMm8K/8e9//wBfkn8hW5WH4V/497//AK/JP5CtyhjCsjxZ4u0bwL4evdd8Qalb6TpNmnmT3dy+1FHQD1LE4AUZJJAAJIFa9c5rXw/0TxH4n0fXtUtTf3ukBjYxzuWggkYj98sR+XzQBgPjcoJwRk0gPBf2f/Ct/wDE7ZqesWTaZ4H8N+JNXuNE0S8jIubu7a/uJBc3Ubj935AlKRxH5g6s7YIQD6drzL4EXSNp/jWxKulzY+LtWjnR1IwZLg3CEeoMU8TZ/wBqvTaAPIfATp8RPjT4v8XsPO0zw2D4V0gszYEysJNRlCEAAmTyYdw6/ZmwcNyfGvPw91zw/wDE+yyp0+4g0jXYVcL9s0y4l8tRgqdzw3EsUq8qdvnLn5yDW+Bd9a+FfFfxC8D6leW8HiL/AISS+1y3tC5Vrqxu3FxHNEGALqpkaJyuQrxsM9CZf2kNS07WtB0f4fpeI3iDxNq+nRQWMLBpxbx3cc9xOUzkIkMEx3HjIA6kCgDs/jDf3Ol/CPxve2VxJaXltod9NDcQsUeN1t3KspHIIIBBHpVv4a3c9/8ADrwtdXUz3FzNpVrJLNKxZncwqSxJ6kkk5ra1TTLbWtLvNOvYVuLO7he3nhfo8bqVZT7EEivPf2bdXfVPgn4VtrlWj1HRrb+wr6ORwzrc2TG1lyR6tCWGecMKAPTK86+EPh+88M+H9f17xLEdO1vXdVu9Y1AXU0bm3h3FLaNnU7QI7WKBTgkAqxyck16LXA/tAW0178B/iPb20Tz3EvhvUUjijUszsbWQBQByST2oA8U+EurappPxEsvixqflWWjfF67WwksZF8s2PkxMNIcMcl/Ohjl3HgF7iEKMDn6ju7WC/tZra5hjuLaZGjlhlUMjqRgqwPBBBIwa8k+N0dl4m/Zb8R6jpt7sgt/D39t6bfWTY2SW8QureWNh0+aNCCO3SnaR4k+NOueGrS6h8N+B7W4vLZZo7ifWr3EW9dyl7cWmSQCMoJRkgjcOtAEn7OrXVv8ADK68GXsrz6h4Nu5vDEl06gLOkKI1vIoBOAbeWAkHkHcOcZOB8Kl8M/ED9lnS9A1+6k0y38OafDpOt/6WLW40u807YHdnVsxFJLdZVJIO3YxABxXo/wALvh7N8P8ATdX+3axJr2s6zqMmq6jfNbrbo87pHHiOJc7EVIo1ALMeCSxJqj4w+A/g3x1q2pajqllfJPqlulrqSafq13ZRahEgZVW4jhlRZcKzL84J2nb04oA88+H/AMLV+JXwS1XUJmuND13xVrtz4v0++miVpdOuDPnT50QjjbBFbblPLBpFJ+YivTvhB8QX+I3gq2vr62XTvEFo5sdb0wdbK/jAE0WMn5ckMpydyOjZOa7SONYo1RFCIowqqMAAdhTY4I4nkdI1R5G3OyqAXOAMn1OAB9AKAPnT4heGYrH9uD4Ua5v3DVtD1S3aAjIElomUl/3tt7IufTI719H1Vn0uyur61vprOCW9tQ629zJErSQhwA4RiMruAGcdcDNWqAEJxyeBXkH7I9rNa/s9+FTNE8X2g3l3FvUjdFLeTSxOM9mR1YHuGBrc+N1nrXiLw7pvhXRBcwf8JHqEenahqFuCDZaftaS6fftYIzxRtChOMPMhBBGR3Wl6ZaaJplpp1hbx2ljaQpb29vCu1Io0UKqKOwAAAHtQBaooooAKKKKACiiigAooooAKKKKACiiigAooooAKKKKAPOPi2M+JPhZ/2NQ/9N19Xo9eefFRDJ4n+FqKMsfFBIH00y/Y/oDXodABRRRQB5P4s8N+JPh94y1Lxx4Ps28QWerG3/4SDwx5myaby18sXdmzMEE6xhFaJsLKsSjcrKN2H4p+PUHj/TZfCHw9GrjxxqRWzf7Xo91bHQo3H727ufNVAnlpuKrnLyeWoyCSPdKKAOe8P+A9F8PeAbDwbHZx3nh+005NK+y3qLKs1usYjKygja+5c7sjByeOa3ookgjSONFjjQBVRRgKB0AHYU+igAryv4H6lb6T4D8TzXtzDZadpvibxAWmndY4oIV1K5clmOAqqCTk8ACvVK8V8E+D/DXibxF8UvCHiDTrLXLax8Ux6zFpuoQCaKJbmzt5VkCsNvM32r8d/ryAO+GCS/FL4la18UPsVxY+HpdIj0Lw5JcgxyXtqZWmnvDERlY5W8nytxyUj3bQHFYfhr4I+PdS0Xw14H8baj4fm+HPh63htvI0c3AutbSBFSBLtHG1IyFDuiswZgF+7mvoNVCqABgDgAUtABVHRdD03w3pkOnaRp9rpWnw7vKtLKBYYk3MWbaigAZYknA5JJq9RQAUUUUAFFFFABRRRQAUUUUAFFFFABRRRQAUUUUAFFFFABRRRQAUUUUAFFFFABRRRQB5l4gWKx/aL8FXOGMt/wCHdXsm54ASewlU/wDoY/EV6bXmHjL/AJOA+Gn/AGC9b/8AbKvT6ACiiigDE8ZeDdI8feHLzQ9btFu7C5XDLkq8bA5WRGHKOpAZWGCpAIORXmq33xl+H8K6XDoGkfE6yiOy21iTWP7KvTGAMC5jaF0aTJI3xsA23JRScV7LRQB5b8Pfhzq194ofx/4/FvN4vdJINN0y2lM1poFox/1MLEL5kzgAyzlQW+4uEUA8lrnwlvrf4kT6NBNq9h4a1jUG8T6NrOisTL4f1lEZblXDo6eRcpJI2HBQs86lcyKa9/ooA4TwD8KIPB+uan4h1LWb/wAWeK9RjS2m1rVViWSO3TlLeGOJEjij3ZYqijcxLMScY6rT/D2maTqGo31lp9vaXmpOst5NDGEa4dV2qzkfeYKAMnnAA7Vo0UAFFFFABRRRQAUUUUAFFFFABRRRQAUUUUAFFFFABRRRQAVzrf8AIQv/APrt/wCyLXRVzrf8hC//AOu3/si00Jk3hX/j3v8A/r8k/kK3Kw/Cv/Hvf/8AX5J/IVt0MYtFFFIDzb4Y30LfEb4v2HmD7XH4gtLlosHIik0iwRH+haKUfVDXpNeb+D9Nv4/jl8R9RmsbmDTprHR7a2upoysc7xrdPJ5ZP3gvnICR3JHavSKAOW8efC/wp8ULGG08U6FZ6yluS1vJMmJrdiQS0Uq4eMnavKMDwKj8GfCnwr4Bvr2/0bSVj1W+/wCPrVbyeW7vrgYUBXuZmeVlARcKWwMDArraKACsfw74R0nwm2qnSbQWf9qX0mpXaqzEPcSBQ7gE8btoJAwMknqTWxRQAUUUUAeP2H7Lfgyzb7LNca3qHhlJjPB4TvNTkfR4WMnm4FsMK6B/mCSb1HYV7BRRQAUUUUAFFFFABRRRQAUUUUAFFFFABRRRQAUUUUAFFFFABRRRQAUUUUAFFFFABRRRQB5n8Stz/Fb4RR7iEXVb+Xb2LDTblQfydvzr0yvNfiApm+LnwqjT5njutRuGXuIxZOhb6bpEH/AhXpVABRSVheLPH3hnwHbxXHiTxDpegQzFhE2pXkdv5pAyQm8jcRxwMnmgDeorzLT/ANpL4ea5NJDo2t3HiKWMbnj0HSrzUWQerCCJ8D3NTSfG21uJGj0vwf411aReSF8Pz2Yx7NdiFT9M5oA9HorzV/iR4z1SOMaJ8LdWjlaQK0niLU7OxhVe7ZhkuJOOOPL9ee1Pur74u30kEdtovgrRoy3725l1e71AqvqsQtYMn6uPwoA9GyM4zzXj3w5P/GSXxlH/AE6aD/6Juao+LPgz8SPE3i7SfE9r8StH8O61p1vNaLPpfhZyJ4JCpaKZZb11dQyhl4G08jqcngf9nzxT4RuNUupPirqc+patc/atS1W30m0F5eOBhVZ5lmVY0X5UjRFVBnA5OQD3CiuA/wCFaeIf+iq+L/8AwG0j/wCQKP8AhWniH/oqvi//AMBtI/8AkCgDv6K4D/hWniH/AKKr4v8A/AbSP/kCmyfDPxGUby/iv4uV8fKWtdIIB9x9g5oA9BorzH/hB/idb4Fv8ULOcKflOoeGYpGYf7flTRAn/dC/Sn6jY/GG0t2ksNc8D6rOpG23udGvLJXHfMgupiv/AHw1AHpdFeeLrXxWCjd4O8HM2OSviy7AJ+n9m1mr8RPida3DxXnwj+0BXx52leJbWaN1/vL5ywt+BUfhQB6rRXmL/GbWIpGR/hN46DqcHbHpzj8Ct4QfwNPtfjvpwZ49T8JeONHuU6wy+F7y6H4SWqTRn8GoA9Lorzv/AIXt4d/6BXjL/wAIvWP/AJFrIuP2sPhPZXEtte+MbbTLuFiktpqVvPazxsOqvHLGrKfYgUAet0V5D/w118Hf+igaR/323/xNLH+1V8OdUkFr4c1efxjqz/6rSvD1nLdXMnvgKFRR3d2VR3IoA9dory2T4ueLL63f+yPhD4pluFI41W706yi7/wAX2l2P4KaF1L4y64tmYtC8GeEo3y073mp3OrTRjHAEUcNupOev70jn8wD1KivL5Ph/8SdWuCNT+KaWNm2d0Xhvw9DayY9BJcSXOPqBnpzVaX9mHwVqdrBDr83iTxUYSSra54l1C5GT1PlmYR8+y0Adp4j+Jvg/weVGveK9D0QsxRRqOow2+WHUDew5Fcbq37VHwq0m4WEeMLXVGZd2/Q4JtTjXkjDPbJIqnj7pIPtXV+H/AIS+B/CVw8+h+DfD+jTuuxpbDS4IHZfQlVBIrqYYY7eMRxIsaDoqAAD8KAPJrj9pTRlkBsvB/j/VbVlDx3dp4QvvKkUjIK741JHvirmm/GrVNegafSfhX44ubdX2F7y2s9ObOAeI7q5ikI567ce/Br1CigDzr/hZ3ij/AKJH4t/8DdH/APk+l/4Wd4n/AOiSeLf/AAN0f/5Pr0SigDzv/hZ3if8A6JJ4t/8AA3R//k+j/hZ3if8A6JJ4t/8AA3R//k+vRKKAPK9S+O1xoMyRav8ADLx7ZySLuX7LpcWpKRnHLWc0wU+zYNVf+GktP/6EH4jf+Ejd/wDxNevUUAfLvjr46W03xX+GOuReDvH1vHa3GoafNDP4Vu1edJ7RpAIwV+Zg1qrFRztDHopr0m+/ak+HukzeRqV3rml3W0M1te+GdTikXIzyDb1c+OlvttfA2pJI8dxp3i7S3j2nG7zpTaOD7GO5kr02gDx7/hrb4X/9BvUf/Cf1H/5Hq3pv7U3wt1K58k+K4tN4z52sWlxp0P0824jRM+2cmvVqRlDKVYAg8EGgDidO+OHw41i8jtLDx/4XvbuU4SC31m2kkc+gUPk11VrrenX0vlW1/a3EmM7IplY/kDVXVvB+g69ZSWep6Jp2o2kgw9vd2kcsbfVWBBrlZv2efhbPE6H4ceFEDAjdFotujjPdWVAVPuCCKAPQaK8tsf2a/BGjRyJo/wDwkOhJIwZ10rxRqdsrEdMqlwF/Snt8BbS3uoLrS/G3jvSbqE5WQeJLi9Q/70V2Zo2H1Q0Aen0V59/wrLxD/wBFY8Yf+A2j/wDyBR/wrLxD/wBFY8Yf+A2j/wDyBQB6DRXn3/CsvEP/AEVjxh/4DaP/APIFZ7fD34k20jLZ/FmSaAnKnVPDtpNKPbdEYVP/AHzQB6jRXmtt4b+LFjGVHjvwxqOTw174WmVwPrHfKD/3zUMesfGPTLGf7T4V8Ga9PEWKSWWv3ViZ1H3QIpLSQIx9DKRz170AeoUV5Rb/ABX8eWuZNX+DeuRWwXltK1bT7yTdkfwGaMkdeQc+3pJ/wu3Vv+iSePv+/Gn/APyZQB6nRXmFr8erJZJItW8F+OtDnXpHN4ZubwMPUSWazp+BbPtVkfHjw7nnSfGYHqfBWsf/ACLQB6NRXjw/a++DvR/HmnQP0Mc6Sxup7hlZAVPsRmugg/aG+FlzCksfxI8JFHAYbtbtlP4gvkH2NAHoNFeez/tD/Cy2heWT4k+Egigk7dctmPHoA+SfYVm6Z+014A8QLI+g32reJoYiFln0Dw/qGoRRseQrPDAyg47E5oA9Uorzj/hfXh7/AKA/jT/witY/+RaP+F9eHf8AoD+NP/CK1j/5FoA9HorxtP2xPgy6q3/Cf6YmRnbIsqMPYqUBB9iM0v8Aw2F8Gf8AooOk/m//AMTQB7HXOt/yEL//AK7f+yLXAL+2B8GXYKPiFpAJOPmZwPzK8V3VvdQ301zcW8sdxbzOskc0TBkdTGhDAjggjnIpoTLfhX/j3v8A/r8k/kK8l1L9lGwsPiNrnj7wZ4r1Twj4s1h2kuLhrW01GEFsbwq3ETSIGIyQkijsABgD1rwr/wAe9/8A9fkn8hW5QxnmF5pvxlsBG1lr/gfWsfehutFvLAn/ALaLdTY/74qJbn42/wAWneAPwv77/wCMV6pRSA8xW5+M38WneBfwv73/AOM1Olx8Xf49P8Ff8Bvrz/4zXo9FAHn6XHxT/jsPB/8AwG9uv/jNTrP8Sv4rLwqPpeXP/wAaruaKAOLdfiJNAQj+GLObszJcXC/lmP8AnUcelfEllBk8UeFUbuqeG7lh+Zvx/Ku4ooA4waT8Qu/ijw1/4Tdx/wDJ9L/ZXxA/6Gfw3/4Tlx/8nV2VFAHHf2X4/wD+hm8Of+E7cf8AydSjS/H3fxN4c/8ACen/APk6uwooA5D+y/Hv/Qy+Hf8Awnp//k6l/szx5/0Mnh3/AMJ+f/5OrrqKAOR/szx5/wBDJ4d/8J+f/wCTqDpfjzt4k8Og/wDYvz//ACdXXUUAcd/ZvxATkeIfDU3+z/YNxHn8ftjfyq6B4vVBltEkfudsyj+ZrpKKAOTuLjxzCymDT/D14vdZL+e3P5iGT+VNk8QeL7CKOS78IW97ubDRaLq6zSKPX/SI4FP/AH1XXUUAcb/wnWt/9E78Sn/t40z/AOTKRvH2rxqWl+HniaNF5LCXTnP5Jdkn8BXZ0UAcpJ8SNNt4Ukn07xBEzDmNdAvZWX2PlxMPyJFJD8UfDsqSNJcXlisfL/2hpt1aYHr+9jWusooA5K3+Lvga6ZUi8ZaA8jdI/wC04d35bs10Om6xYa1CZtPvra+iBwZLaVZFz6ZUmrleLfGzSNG/4SLwbouneGfC934n8Tao0RutY0aO7EdpDC89xKR8pbhI4+XHMwIzjFAHtNFcTJ8FPAcjAp4S0m2x/wA+lssA/JMVaHwv0GO2W3t/7UsYFORHY6ze2yj6COVaAOsorjW+FGit/wAv/iUfTxRqf/yRTf8AhU+lRyLJDqvieGVSGVv+Elv5Bx6q8zKR7EGgDtK8s8RePrzxFrGq/DibTtZ8E+INa03Ul0TXmaCaCURBY/tERhmMiMvnRyBZFjPbORWlJ8K9WfIX4meMIl7BW084/E2hP5mtHwV8LdG8E313qqNcax4ivAUutf1ZlmvpkyCI94VQkYwuI0CoMZxnJIB5P8MPgPo+t6VPZ+L/AA14n0XxBprLb3NwvjDVJbO/bH/HxbSC6BKN12sqspO0jjNdn/wzJ4C/54+If/Cs1b/5Kr1WigDyv/hmXwH/AM8fEP8A4Vmrf/JVO/4Zo8CD/ll4h/8ACr1b/wCSa9SooA+dtW/Z48FL8avCtj5Wum3fQNWuDu8TamX3pcacqkObjcoxI+QCAcjIOBjuR+zV8Pn4udM1HUoT9621PXb+8gf/AHopZ2RvxBrR1j/kvXhL/sWtZ/8ASrS67+gDzZf2a/hQowPh14Z/HS4T/wCy1veFfhR4K8D3RuvD3hLRNEuyCpuLDT4oZSD1G9VBx7Zrq6KACiiigAooooAKKKKACiiigArA8I+PNC8drrB0K/W/Gj6lPo99iN08m7hIEsR3AZxkcjIOeCa368M8O+GT8C/jhfpaPJJ4Q+JWoS3flySAjT9aETSyAZOSlzHHI3fa8IXgMooA9zooooAKKKKACiiigAooooAKKKKACiivFP2edQ8ZeJ9e8eeKNe1Zr3w3qmoyQ6LYnAFh9lvLy1kjC/7SQ2zk9CzN70Ae10UUUAFFFFABRRXEfDT4z+EPi4uqDwxq6Xs+mXUlpd2siNFPEyOU3GNgG2MVO18YOCM5DAAHb1g+PPF9r8P/AATr3ia+R5bTSLGa+kijxvkEaFtq54ycYHuRW9Xjv7Tk/n+GPB+hyxRzWOveMNG0+8WQEkwi6Wcgc9SYFXnPDGgCf4E+BPGfhVrzU/F+vXerXms6ZY3F3bXV48otdR33L3SxR5McUQWW3iUR4BEGSM8n1uvPfEfxq8C+B/Fk2iarr7w6rI1u1xGsNxcQ2XmssUJnkRWjtVdioBkKAls980nxm03Vb7Q4508Q3Xh3wvp8dxf67JpJKajcQRRFlhgl/wCWQLZLMuHwoCsu4kAF/wAQ/Gr4feEtWm0vW/HPhzSNShx5tnfarBDNHkZG5GcEZBB5HQ11Wl6rZa5p1tqGm3lvqFhcoJYLq1lWSKVD0ZWUkEH1FeUfsmeE5/C3wH8MyXs0d1qGtQLrd1MsSq7yXKrKfMcfNK4DAGRyzHAyTijw74Rs/hn+0Aun+HYYdJ8PeJ9Au9RudHtI/Lt0vrS4tYzcIgO1GkjvArbQN3kqTk0Abfx0Unw54dOOF8VaGSfT/iYwD+ZFejV5r+0Qxj+GEky8SQ6vo8yN6Mup2rA/mK9KoAKKKSgBaKKKACiiigAooooAKKKKACiiigAooooAKKKKACuevvh34V1O7lurzwzo93dStukmnsIndz6liuSa6GigDn9P+HvhbSbyK7sfDWj2d1Ecxz29hFG6H1DBciugoooAKKKKACiiigArnW/5CF//ANdv/ZFroq51v+Qhf/8AXb/2RaaEybwr/wAe9/8A9fkn8hW5WH4V/wCPe/8A+vyT+QrcoYwooopAFFFFABRRRQAUUUUAFFFFABRRRQAUUV5F8XvFXi2z+JPgLwz4W13TNAbVrfU7yWbVNPN3FcNbLblYCBIhVSs0rkqwb92OcZBAPXaK4/4P+NLr4jfCzwp4ovraOzvNX02C8mhhz5as6AnbnnbzkZzwRya6LWtYt/D+k3Oo3SXMlvbpvdbO1luZSP8AZiiVnc+yqTQBeorH8I+L9G8eeHbLXdA1CLU9JvE3w3MOcHBIKkEAqwIIKsAykEEAgitigAooooAKK5n4gfErw18LNFi1bxTqsekafLOtsk0kbvmQqzYwik4Co7E4wFViSACa6agAorlfhz8TvDfxY0O51fwvqSanYW95NYSSqpXbLE2GGD2IKsD3VlPeuqoAK8j8SWv/AAkv7TvguCNJlTwvoGoapcyiPMe67kit4Iy2eCRDdN7+X9ceuV5d8MVGr/Fb4sa+JxPGt/ZaDDsYFQlraJKw+omvJ1PuuO1AHqNFFFABRWX4l8U6P4N0efVte1Sz0fTIB+8u76ZYo19BuYgZPYdTXztqH7dGga/rj6H8PfD2q+LL/fg3z2s62kabSS7RwRzXYG7C4NuASc5AwSAfTtFfHulf8Lt8YXCar4o8M+MfEOmyoZLfTdN1y18LQwu3LfJFKt2yKRtQTuG2/MyBmwLN1pfxD0RrjUbTw98WvCKpGohh0vxLp/ieEyc5d4L2V5DweiPjgcA8kA+uaK+aPCX7T+o+G9Qm0zxpF/a1lZwpNc6vb6ZcaXqFjAdi/aL3TbgBxFuZt1xbGSMY5VBX0RoevaZ4m0uDUtH1G01bTpwTFeWM6zQyAHB2upIPII4PagC/RRRQBwGsf8l68Jf9i1rP/pVpdd/XnuvSCH49eC9/Am8Pa1Epx/F9o01sfkrH8K9CoAKKKKAM/wAQ6Ha+J9A1PR73zPsWoWstpP5Mhjfy5EKNtYcqcE4I5FebfBOKfwf4k8bfDx7i/vNM8PzWl3osuoXP2iSPT7mH5IPMOXYRzwXSrvJYJ5YyQBXrNfKdiNR+NH7Tfjqxtda8T+B/D8ejWsCzaTJHbT6s1tdXMTTeY8TPHEHlmjXyyN3ll8/dFAH1ZRXjvg+yuPh78d7vwpa6rqOo+HtX8Pf2tBbatqtxqE1lcQXCwy7Xnd3Ecq3ERwWI3RNjFexUAFFFFABRRRQAV5j+0dZzf8Kru9ZtbD+0rvw3e2XiOO2DbWdbO5juJVU4OGaKOVRx/FjnNenUjKGUqeQRg0AVdJ1S01zS7PUrCdbqxvIUuLeeP7skbqGVh7EEH8at15d+zfcSWfwxtfC12xOqeDp5PDd2CjLn7PgQyDcOklu0EoxkYlAzxXqNABRRRQAUUV5rrHwt1fxp4wvtQ8Q+LtZtvD8LhNM0Hw9qEunRmPylDyXM0OyaSQybyFEgRVC8ElqAPSqK4/wz8K9F8I6ouoWN34hmnCMm3UvEmo30WD1/dTzuhPvtyO1dhQAUUUUAFeV/s1SJ/wAKzuLbepuLXxDrsE8YYFopP7Vum2sOxwynHoQe9eqV474n0O8+EfxBi8ZeHoLi48N+ILyG18TaLaoZAk8jCOLU4Uz8rhiiTBB86HeQWTJAPYqKKKACiiigDhPCvxQOrePvEHg/WNJm0DWLGV5dOErM8Wq2IWP/AEmKQoq5DSbHjBYocZPzCvGtJ1rXvAfx+8T/AAu8K23nza1f2ni9NQu40AsLCe6dtTDMR+8VnXZEoXIa4YlsJmr37U3gvxH4g0HUtd1bxPa+GdC0CZLjRJPDulvPrr3DhIkjS4ZwI3lmcRhY1GcpucjcK+c/EnhH4xfs++P9B+Injjx1c203iJ7fTtW8UabptlcmzjlhBkgmgK5YQtbxsGjVl2rKwCsxDAH6PVwHxq8B3/jzwnZLozW6+ING1Sz1rTPtjskDT28qvskKgkK6eYmcHG/OOK5G1+GPxO1WwiubT4+XlxaXMQkhuLfw5prK6MMq6sEwQQQQRXqfgzRdS8O+F9P07WNdn8Talbx7JtWuYI4ZLg5JDMkYCjAIHA7ZOTk0AfNun3Hh4fsl/FXw+6yQ+NbPRNWuvE+n6usY1Eag8EkrTygf6xCShimGVKLHtPy4H0rosH9p+E7CHUohdfaLGNLmK5XcJN0YDhweucnIPrWT4w+Evgn4gXlvd+JfCeja7d2+3yri/sY5ZFAJIXcRnbkn5enPSutoA8T8M2PjT4Hi+8M6T4T1Hx14NhzJ4fltdUthc6fEVXFjN9qkjJiRg2yQNIwQqpHyiuh+HPgPxD/wkk/jnx1d203iu5s/sFtpuml/sWkWhcSNDGScyyOyRtJKwGTGoUKq8+l0UAea/tJW8svwL8Z3MDKtxpti2rRbuhe1ZblQfYmED8a9J61y/wAVdDHib4X+MNHMnlDUNHvLQyf3fMgdc/rT/hj4luPGfw18J+ILtI47vVtItL+ZIgQivLCjsFBPTLGgDpq81/aAkePwPpZRmVv+En0AZU4ODq1oCPyr0qvB/wBqD4r+FfDei6RoVzq0dx4hfxHocyaLYK11fMqajbSk+RGGcAqpwSAGJVRksAQD3iiuA+Hvxk03x9q11o8uja34V16CAXY0jxFaLb3E1sSFE8YV3Vk3HacNuU4DAZXPf0AFFFFABRXGfDv4iTfER9VuYfDeq6PotrMbez1DVBHEdQZJJI5GjhDGREBjGDIFLB+F4NdnQAUUUh5GKAKr6tYx6jHp73lut/InmJatKolZR1YLnJHB59qt181/ET4N+BvhlovgHSdA8P2jeLNQ8VaZFZ65JawvqTGO5F1cTS3G0SN+4hmDNyTuAP3ia+k8g9OaAForz/47eJPEHhj4cXM3hWaztfEN7fWGlWd1fIZIreS7vIbYSlR94p524A8ZUZBHB5m08UeMPg7r2lWHj3Wk8X+FtYmW0g8Tw6atrNp947BYobuOIlPKlJCpMqrtfCuPnDAA6z46+KtS8D/Bvxpr2jnZqmn6VcT20u0N5ThDiQggghPvYIwdtZv7N3jPVPH/AMGdA1rWr+LVdRka6t5NQhjWNboQ3UsKTbV+UF1jVjt4yxxgYo/aO1LSrb4N+JdN1XULuw/ty0k0e0GnWxubu4uJ0ZUhhhGDI7cjbkcZJZQCw8M+HniL4t/Ce38M+AdRsND8D+Hbh5oNB1bXbefVSA9yRbadO0E6xwzKjAJl2R1CKp3KwoA+v653x9460z4c+F7rXNVFxLBEyRRWtnCZri6mkcJFBDGOXkd2VVHqeSBkjxf4XeBfiR8EfFGvpdaSvxMHirWhf33itdUjs54IyscYElo6hVWNQdohZsgYwvygdn8d7aezvvAHiaXTLrWdC8N66dQ1S0srb7TLHG1pcQx3Ii+8/kyyxuQgZwAWUErQB0/wz+Jlj8T9L1O7tLC+0ufS9Rm0q9stQ8oywXEW3ehMUkiNjcOVY85BwQRW14u1a60HwprWp2Nm2oXtnZTXMFooJM8iRsyxjHOWIA49axPAvxJ8BeMma38IeJNB1WWRWvXtdKvIXlG9svI8aHcCWb5iwzluea62eeO1hkmmkWKGNS7ySMFVVAySSegAoA81/Zij1Nf2efh2+sahLqupXGiW1zNeTTtM8hkQSDc7csQGA/Ck/aCu7u88Iaf4S02a5t9R8YalDoSz2m0PDbPulvZAW+6VtIrnBGSG2455rM/Z7Y+EZvFPw3MbLZ+GblLnRZA29H0i6LvagPuJYo6XEXPO2JDznNWJFfx3+0dEA/8AxKfAWm+YwUsBJqV8pAB42nyrZCfUfax2NAHpeg6JZeGdFsNI06IwafYwJbW8RdnKRooVV3MSxwAOSSav0UUAFc63/IQv/wDrt/7ItdFXOt/yEL//AK7f+yLTQmTeFf8Aj3v/APr8k/kK3Kw/Cv8Ax73/AP1+SfyFblDGFFFFIDjfh948m8Xal4w0u+so9O1Pw7rMmnSQJOsnmQtHHNbz8dA8UyHB6MHHauyrx/4isPhv8XfCvjpV8nRtZUeGfEEvz7I97FrC4cAbQFmLwl2xgXYyeBj2CgAooooAKKKKACvP/jl8Wovgr8P5/E0unjU9lzBapbtcfZ03SyBFZ5SrCNASCWYYAB6nAPoFJQB4lB8TviNoepeG9b8T6P4bi8Fa9e2mnpDpFxczX1g9zhLeWR5UjWRDKyIyiNWXzQedhz7dXl37QVwv9g+EbIBnur3xhoaQRIpYuY76K4k6dliglcnsENeo0AFeJftWfDjxX8VPBunaD4NgW11pp5nj12e9W3h05Wt5IJN67HeQSxTyxhUXgkNuXaM+21X1DULXSNPub6+uYbKytYmnnubiQRxxRqCzOzHhVABJJ4AFAHEfBnxtpfibwsNJtNKl8M6n4cEelaj4bumzLpjpGuyPd0kjKbWjlXKupBBzkDJvv2mvANnraWMWo3WpWa3SWV3rmn2MtxpVhM5VY0nvFUxIWd1T7x2scNtryD4ieF/F/wAe21L4geE7OXSfCy2IsRpLzzWl74305JRKyORg2kTfvBC2DI6yvuKRy4r1H4nX2h6z+yL4rv8Aw5aw2nh678F3V1p9vDAsKRwPZM8YEYGEwCOB0oA9M0Hwlo/he41afSdOg0+TVrtr+9+zrtE9wyqrSkDjcwVckDkjJySTXl/x2+Mms/D3xP4e8NaDaxXmteJ9Ov4dHgeF3L6ik1mkJYrwsUcc880hOPlhPI7+zV4v8UvA+u67+0h8EPEdjYPc6FoP9tjUblWUC2aezVISQTk7mBXgHHfGaAKv7JugT+E9B8e6Fcatd65Jpviy5gfUL6VnluJPs1s0sh3McF5GkcjPBc17nXhXw2+J/hL4XyeKPCnjHWNO8Ga9Br2p6ls1y5is1v7a7vp57e5gkdgsylGCEgko0bKwGBn1TwP4+0X4j6RNq3h+6OoaUl1LaR3yxsIbho22u8LkYkj3BlDrlSVOCaAPDPj38Pbz4xftAeDPCct7bWugRaBeX96JoneVovtdokyQkMoV5I/3JZtwEc0owS1etfG7xrP4B+F+u6lYfNrckP2LSIFUu09/ORFbRqo5YmV04HYE9Aar/FTwBq3iK+8O+JPCtxp9n4v8PXEslq+ppIbe6gliaOa1lMZDKjExvuAba0KHaa5rS9E8c/FDx74d1Lxz4UsfCmg+GJJb+3sYdXTUvt9+y+XDKcQpsWFGmYZ5LyIQBsoAo/CTwzD8Hfi9eeBLaS6uNN1Hwrp1/aTyqNpmsESwnJP95ovsJwOBhjxnn3WvHviPdWMf7Q3wjaLVLZ9XQapZy6OrqbgWs9qZftRUNuEayWSR5K4JlHIIwfYaACvLf2bYluPhgNc+xtZP4j1XUte2Oclo7m9mlhb6GFoce2K2Pjhrl3oPwr199N8wavexLpWnGPG4Xd1IttbtzxgSTIT7A9elHibxZ4U/Z7+GNrPqd0un6Ho9pHY2dvuBmuDHHtit4VJBkkZUwFzzgk8AkAHX6tq1joOm3OoaleW+nWFshknurqVYookHVmdiAoHqTXy/4l/a01/4qa9L4U+A+hvr90JGgufFV7bt/Z9r8jfMuSBwf4pCM4+SObIFY2leFfH/AO2hqcereLJ77wb8HfMS4tNAt5PLm1dVYNGXYYYoSA5cnbwvlKf9dX1n4f8ADul+E9GtdJ0XT7fS9MtU8uC0tIxHHGvoAPz9yaAPmzUf2W9KuLP/AITb4/8AxA1Dxrc6VbtI4llGn6VYRkLuEccIVixIwWBXzMqCmcCu70G98X+INAttK+HPhbT/AIZ+EUUra6prVoBP5RDfNb6bGV2ZYhg07oepMRzXdeLvh/H408U+Gb7UbkTaLoskt5/ZLRBkuL35BbzOT1EQ84hcY3ujdUFdfQB5fJ+z7oWsZHinWvEnjWN2Dy2uuaq5s5mDBl32kXl27AEDCmPHGcZ5qxffs2fCjULV4JPhv4XjR+r22kwQSD6Oihl/AivSKKAPFPFX7IvgPxPFppjn8SaPe6XL52m31j4hvGlsX+X5oRNJIiHCgcL0ArA0b4B+NvhD401PxX4J8Qadr8N6pF74b1GyTTRfdD5hltgIRcAggSfZ1yHIcnqPoqigDkfh/wDErTfiAmoW8UF1pOuaXKINT0PUkEd3ZSEZXcoJDIw5SVCyOM7WODjrq8/+KHwtHi5odf0K4XRPHumQsulayrMo6hvs9wF/1tu7ABkYHGSy4bmtH4YeP/8AhYXh+a4udOm0bW9PuX07V9KnO5rO7QKXQOOHQq6OjjhkkQ8EkAAzvH1vF/wsb4Y3Juo4pl1K8gWBvvSq2n3DNj2BjUnt09s+gV5x8Wrq303xJ8LtQuCqCLxQIBIw6GewvIFXPu8iD64r0egAooooAK8kWSO3/am1OaV1jij8E27O7nCqBfTkknsK9br558deEtJ+M3xt8b+DpdZu7KCXwhZafqUukzLHcwg3jzNCWKtt3xOgIxykvvQBg/D349+EJPFvjPxmU1PxN4g127W30fStDspb7UU0W3jiEUht0y1tFJLLPMDLs3iVGweAPoD4f+PtJ+JXhuPWdHadYfNktp7a8haC5tZ43KSwzRN8ySKwIKn2IyCCZvBHgPw98N/DttoXhjSLXRdKt1AS3tUxkgAbmbq7nAy7EsTySTXnvhVk8NftPeN9GgDfZtf0Gw8QMiuQkdxHLLayts6bpEWDLDH+qGc9aAPYK5zxx8P9E+I2lw6fr0N1PaRSidFtb6e0beAQCWhdGIwx4JxXR1z/AI88eaH8NPDU/iDxFeNYaRbyRxy3IheURmR1RSQgJA3MMnGBQBk+B/g74Y+HOoTXugw6lbzTR+VItzrN7dRsMg5Mc0zrkY4bGRk88mu2ryb/AIaCj8QRqvgnwV4q8YSTQmW2u/7ObTdPkGAVY3V35alCT96MSHGSFPGe38D3Xiq90qafxdp2laVfvOTDZ6TeSXSRw7VwJJHjj3Sbt+dq7cYxmgDoqKKp6xrOn+H9NuNR1S+ttN0+3XfNd3kyxRRL6s7EAD3JoA898G2sWnfH34lRWzt5V5pui6lPGXyPtLfbLdmA7ExWtuMf7IPevTq8lk/aC+Glvq19/wAI5eJ4x124iSa4h8GWLarPKq/Ihlkt1ZVxnAMjqBntmpLjxt8UfEzFPDfw/tPDduUUi/8AGepoHB3fMBa2hlLccjdLHznp3APVqK8v1DwD8SdeMgvvihDpEXkskaeGfD0Vsd5HDO1zLckgHsmw+/ppfCH4Tt8K9DktrnxX4k8Y6nc7WutS8Q6pNdFmGf8AVRMxSFck8IMnjcWwKAO+oorxDw9p/wC0Fpulw6XfXngS/m85xJ4guJ7p5vLaVm3/AGVII0JVGACeYoO0At1NAHt9Fed+E/hbq+na5b634m8e6/4q1K3QpFbq66fp6Z6n7LbhVkPJx5xkxxjkZr0SgArybxZ+0A/hHxtqWgTfDfx7qdvaJGyaxpGiNd2dyWUMRGyNk7d2DkDkMO3PrNFAHkdn8ZPF3i7B8J/CzWvKjyJ7jxhONDjB4wsalJZXJz18sLx97PFW/wDhLvi7/wBE28N/+FhJ/wDIFeo0jMF6nH1oA8wfX/jDqFvLFb+DPCOj3BHyXV54kuLpEOepiSzQt9N6/WqtrpPxx1DzIr7xL4E0aMr8txp+iXl3JuyONsl0igYzzz9K9ZBB5HIpaAPKbXwJ8Wf7Y0qe8+K2mPp9tdxzXdnaeE0ia8hU/PCZGuX2BhkblGQcH2Pq1FFAHLeNPh/a+Or7QH1G+vU0/Sb5NROm28gjhu54yGgMxA3MsbgSBQQCyqWyFxWD4X/Z58AeD/EFprem6G/9p2autrNe39zdi2Dja3lLNI6xkr8uVAOOOlej0UAVNJ0my0HS7TTtOtYbGwtIlhgtrdAkcUajCqqjgAAdKt0UUAFFFFABRRRQBX1CzTUtPubSQssdxE0TFeoDAg4/OvOv2ZdWGsfs9/DybyzEYtEtbVlJz80MYiY/QlCfxr02vJv2VbeSw+A/hrT7hfLvNON1p91FkExzw3UsUiH6MjCgD1mvnG9+GD/DP4K6NBqa2dz4qvvFuiXetatbgs99cPrdu5d5GAZsBgBnoBgYAr6Oryn9qS4fTvgR4o1SIM1zpC2+rQKoyTLbXMVxGPxaID6GgCHx95Ws/tCfC6wsolk1TR4tR1e+lBAMFg9u1sFJ6/vJ5IiF7/Z2P8FeuV83+B/hF8YNe8Sa1468SeN7XwTrWuRRQpouk6db6g+m2kZd4bVrmZdrFTNJv2Jhn5DkYA9L+F/iPxKuu6/4N8XS2+pazokNrdxa1aRCGPULS4aZYpGiBPlyhraZXUfLwrLw2AAei0UUUAFFISFBJ4FCsGUMpyDyCKAFooooA8l8efsz+Ffid4/j8U+Kb7XdYEEH2a30WTUWj06BCAJAsUYUnzNo37mIbAB4AFcp8M/D/g/Vvjs2sfDXw7o2jeGfD2mXWmajq+iWcdvb6pdzyQMsCNEgWUQCAlmydrShRzur0P4l/CvUPiNceSvjXWdC0K5tvsepaRp6w7LyLcSwEjIZImZWKMyMCVx0IzXcaXpdloem2un6daQWFhaxrDBa20YjiiRRhVVQMAAdAKAM7xp4N0r4geGL/QNaga4028UCRUdo3VlYOjoykFXVlVlYcgqD2rx3X/hV8XPEOm2nhTUfFvhnV/CcV7ZTSandafPHq8sNvcxTgOVk8kyfugpYKA3XAJr32igDlfiN8O9P+JWi2the3N5p89lfQalY6hp7ItxaXMLbkkTerLn7ykMrAqzAjmuYuvgOmvX9jN4o8ceK/FlnZzRXCaXfz2tvZvJHIssbSx2tvD5u10U7ZCy8dK9RooAKKKKAKkOk2NvfS3sVnbx3ko2yXCRKJHHHBbGSOB+QqW7tYL+1mtrmGO4tpkaOWGZQySKRgqwPBBBIINTUUAc/4T+H3hbwDHcx+GPDekeHUuirTrpNjFaiUrnaW8tRuxk4z0ya4X9mi4j17wHqni0NK8/ijXtS1N2mILCMXL29un0WC3hX/gNdR8ZvE0/gv4R+NNdtJlgvdP0e7uLZ2/57rExiH1L7QB6muP8AiVo//Csf2SvEek6VJLbHRvCE9nBNu2yqUtCgfcuPnyN2R35oA7vwD8SvDfxR02/1DwvqiavY2N9Nps1xEjqnnxEb1UsBvHIwy5U54Jrp684/Z3+Hc/wn+DPhnwnd2VrY3mmQPDOtnMZY5ZPMYtMGIB/eE+Zgj5d+3tXoMtqk00MrGQNCSVCyMqnII+ZQcN17g4PPWgCaudb/AJCF/wD9dv8A2RafqXj/AMNaKt+2o69p2npY3UVjdPdXKRLDPKqPHExYgBmWRCB3DCmN/wAhC/8A+u3/ALItNCZN4V/497//AK/JP5CtysPwr/x73/8A1+SfyFblDGFFFFIDE8beE7Lx54P1vw5qK5sdVs5bKbAyVV0K7h7jOQexAryH4N/FTxp4t8aR+CNQtbGK88GWEdv4yvbkO8t3eyB1t2tCuxQkixfaCzKflmRNqsCa95r5V+G+pjRfiBY/FsXpm0b4k6/eaJeOA6xeUkhg0WZUx0K2pTccZN9k4A4APqqiiigAoryrXviV401zXtT0LwH4N81rGU2tz4h8TO9nYQzcE+XCF825AUg5TahyMSV6B4at9btdJjj8QX9hqWphm33Gm2T2kJGeAI3llIIHfec+goA1aRmCKWYhVAySegpa4n4vfCy2+MXg+Tw3e69rvh+ymkDXEvh+8FtNcR7WVoXYq2Y2DncuOcCgDxLUPiH4r+OHxm0i++Hfh+08R+A/CE8/la3fXwtNOvNTa3kiaRZAskkqQrIyL5cRBd3JcBQT6Slt8dWRWfUfh5ExGSi2F+4U+m7zhn64H0Feg+DfB+jfD/wvpvhzw9p8Ol6Np0IgtrWEYVFHcnqWJJJY5LEkkkkmtmgDz/wh/wALTh16NPFJ8H3mishLz6OLqC5jbBwBHIXVwTjneuOeDS/HjwfqPjz4Va3o2lW1vfX0ht50sLqTy4r1YbiOZ7Z27LKsbRknj5+eM139FAHjcfxl8beJ4GsfDHwl17T9X4je68WyQWOnWxIPzl45JJJgCBxEhyO69avaL8EX0X9nG9+GI1NJ5rnSL3T2v1h8qMSXAlJKpk7UVpSAuThVAr1aigDn/AN/rup+C9GufE+mDR/ET2yi/sllSRY5gMPtZGZSpI3DnoRnnIroKKKAKOqaDpuuLGupada6gsZJQXUCyhc9cbgcVbhhjt4UiiRY4kUKiIMKoHAAHYU+igArE8YeFYvGWhyaZNqOqaUjur/adHvZLS4G05wJEIIB6EdxW3RQBy/gn4Z+G/h79tbQ9O8m6vn8y8vrmeS6u7phwDLcSs0kmBwAzEAcDFdRRRQB5r43WLxV8XPA3h1jDNBpS3Hia8hcBiGjX7Pagr2zJPJIp/vWvHI48L8MaSP2yPjlrPinVPOPws8GvNomlWattTVrknFzI5HzGMhUBXgMhRTwZVPp914qufD/AIZ+NPxShTzbiygurTTI7g/u2h0yKYAEcH5rtrzvypXFav7JvheLwh+zb8O7GKVpjNpEWoySMMEy3ObmT/x+ZqAPV440hjSONFjjQBVVRgADoAPSn0U13WNWZmCqoyWY4AHrQA6uX+IvjK68BeHxrMOhXmvWsMyfbo9PIM1vbc+ZOsfWXZgEovzEZxnGKs+GPiB4X8bTXkXh3xJpGvS2ZUXKaXfRXJgJzjeEY7c7Wxn0PpW/QBV0vUrXWtNtNQsZlubK7hSeCZPuyRsoZWHsQQazPGfjjQvh7op1XxDqUWm2XmLCjOGd5pW+7HHGoLSO2DhEBY44FXdE1/TvElm93pd5FfWyTy2zTQtuXzIpGjkXPqrqyn3BrxP4Z674e+KP7QXjzUL+6e/8Q+D7ttJ0jTpo28vTLbyoxPOnGzzZpTIpbJfy0QcAnIBsyftIOrt5Xwq+JVxACdsyaCqh17MFeUOMjnBUH1APFejeDPHGh/EHRF1bQNQTULIyNC5CskkMq8NFJGwDRyKeqOAw7it2vF/jBptr8K/EGm/FPSFGnSNqFnp3ieKE7Y9TsppRbpJIgU75oJJo3R+G2K6ZIYAAHtFeQ+KQPhn8b9D8Sxho9E8Z7NB1ZUA2rqCgtY3DAKSSyiW3JyOsGeFFevV5h+0hI1v8L/tUfE9rrmizxNjlWXVLUg/zH4mgC58dIY5PB+kSMis8Pijw+8bEZKsdWtFJHodrMPoTXodeffHJgvgvTyTgDxL4fyf+4xZ16DQAUUUUAFfL0Ou6V8Hf21PGFz4l1KPT9M8Z6NY3NjfXC7LaG4RfINvLKThGcWpdC2A3K53YB+oa8jv9F0/xF+0RrWnarYWup6fceDrRZrS8hWWKQfbrg4ZGBBGQDyO1AGn4q+PvhTRY7a10W9h8aeI75/J0/QPD9zFcXVy/cnDbYo1GWaWQqqgHnOAbHwp8B6j4fl1zxL4ma0m8Y+I5o7i/NmCYrSJI1SG0iZuWSMAnPG55JGwN2B0Xhf4f+F/A/wBoPhzw3pGgG42+d/ZdjFbebjON2xRnGTjPqa36ACiiigAooooAralYjU9OurNpprdbiJojNbSGOVNwI3I45VhnII6GvO7H9nDwHBqFtf6jpt54mv7fDLP4l1S61QbwMCTy7iR4w/oVUY7Yr02qdzrFhZ6hZ2Nxe28F7e7/ALLbSSqsk+xdz7FJy20cnHQdaAJrW0gsbeO3toY7eCMYSKJAqqPQAcCpq5vS/iBo2reNNb8Jxyywa9pMcU8tpcxNGZoJFBWeEniWLcTGWXO10ZTg4z0lABRRRQAUUUUAFFFFABRRRQAV4/a/s1+G9Q8eeK/EHi6zsfHEWqXC3Gnxa/A122mqUAkgQSM0Yj3IrLsRWAJDFgFx7BXlfxh/aQ8H/B2VNLvbmbWPGF3Cz6b4X0mCS5vr2THyIEjVtm48BnwDg4zgigDG8H+GNH+Gf7RMvh3wlbw6Poer+GpdW1HRLJAlrBdRXMMME6RgYiaRJJlO3AfyAcZUmvba+Zvhdq3xX019X8T3nwqudQ8T+Jmhur+bUNVtdNhtYo4lSC0gjEtxIVQb2JkWMlpXJUE4He/8LC+Lv/RIbD/wrYv/AJHoA9corC8F6pr2saHHc+I9Ch8O6mzsGsIL8XiqoOFbzAiDJHOMcetbtABRRRQAUUUUAFFFFABRRRQAV5j+z7/yKviP/sbvEH/p0ua9OrzH9n3/AJFTxH/2N3iD/wBOlzQB3XipdXbwxq48Ptbrrxs5hp7XmfJFxsPlGTHO3ftzjtmvEPi78RrH4lfsq+PbyBHstTttOkttU0m4G240+6G3fDIp5BB6HowwwJBBr6Dr57/bE+EPgvxN8IvGXijU/DGnXniGy0t2i1NoB56hcYy45IAzjOcc0AeweOPiT4V+Gunpe+KfEGn6DbybhEb64WNpSBkiNSdznkcKCea474QLrfinxZ4r8f6rpdzoVjrdvY2OkabfqqXS2duJnEsyAnY0kl1KdhO5QFzg8Vu+Bfgf4A+GV7Le+FvCOk6LfSKUa7trZfO2nGVEhywU4HAOOK7igArk/G+ueLtMudNtvCvha015rrzftF5qOqixtrPaAU34jkkcsSQAiHGOSM5rrKKAPILb4G6l4zjhn+KXiq68XZbzn8OWSLZaJG2VYIYkHmXCoVwPPkcMOSgNet29vFZ28UEESQQRKEjjjUKqKBgAAcAAdqkooAKKKKACiiigAooooAKKKKACiiigAooooA8q/aSW2vvh/puj3UgSLWfEei6cyhgryK+o25dU9TsVz9AT2ru/G2k6Vr3g3XtM111j0S8sJ7e+dn2Bbd42WQlv4cKTz2qHxB4NtvEXiLwzq9zdXKNoFzNeW9rGyiKSaSCSDdICCTtSWTGCOXyc4FbN7ZW+pWc9pdwR3NrcRtFLDKoZJEYYZWB4IIJBFAHy/wDs8+IviL8YNGlsL/xzceFLXw/5MUEVlpFudU1OwlgWSyvp5bjzok82M5KJHkMjgkEED2/4Q6l4nu/Dt9Y+L4pn1vSdRuNOOoyWywJqUKMGgu0VSVw8Tpu24AcSAAYxU3w/+Efhj4YvdP4ftbuF7iCC0ZrzUbm8KwQ7/JhQzyPsjTzHwi4A3HiuyoA+SJvgh4k+PHxK+LNv4s06bw34PXUbhtKaeBZDe3rabHYw3qhuSkMStIuCoMkw5zFX0fbRyQy3Mc0vnyo6q8u3bvYRplsdsmuornW/5CF//wBdv/ZFpoTJvCv/AB73/wD1+SfyFblYfhX/AI97/wD6/JP5CtyhjCiisjxVrGoaFost7pmh3XiO7jeMDTrOaGKWRS4DFWmdEyqktgsM4xnmkBwPxr1zU9cksfhr4bk8jXvE9vMbvUBJt/srTFKpcXQA5Mh8xY4hx877iQENb3jH4V6V4i+Ed34DsohpumrpyWWn+WzZsmiVfs0inO7MTpGwOc5Qdaz/AIR+CtY02bWvFvi5VHjLxDKGmt0ufPj0yzQt9msY2AVSI1ZmZlUbpJJDlhg16PQBxnwa8dH4lfC3w14jlK/bLyzX7YsalVjukzHcIAeyypIv4cV2dcb8LfAU3w80nWrKS9W8jvtc1DVoVRCi28dzcPMIgM/w7z0wMk8V2VAGJeeN/DunaHea1d69ptpo9nM9vc6hcXcccEEiSGJ0eQkKrCQFCCchuOtcHa/tD6b4km2+C/DHiTx5a5ZRqej2kcVgzAkELc3MkUb4IIJQsBXQSfA/4eTeKH8Rv4I8Pvrrym4bUG02IytKTkyFtv3887uue9dvQBQ0G8vtQ0WxudT0/wDsnUJoVeex85ZvIcjlN68Ng8ZHBq/RRQAUUUUAFFFFABRRRQAUUUUAFFFFABRRRQAVzHxM8UzeCvAGva1axrPfWtq5s4G6TXLfLDH77pGRce9dPXnPxHZ/FHjLwd4OiINu9z/b2p9P+PazdGiTkHlrprY9srFJ70AeaftOeC4/Bf7F+o+FrNmulsYNKsPMVNrXDC9tldyo/iclieuSx616j+z64b4B/DZgfl/4RnTTn/t1jrG/aotZrn4E+IZIYzKLOWx1CYD+GG3vYJ5m/wCAxxu34Uv7MOmzaP8ABPTNEuJEkn0i91PSHkjyVY29/cQbhnsRGD+NAGD4J8bfEb4+aDbeLPC17pXgDwjdhzpn9p6c+pX9/GJHUTyJ5kSQKwVWVQZCQ2Sw4FcX4R1jWfjt8YPEfw6+JN7aTaV4NdH/ALN0q2khs/E0i7WM1xuY/JCJbYta5Kb5VLGRQor2L9nHwzrvgn4H+DvDniWxi0/WdGsRps0UE4mRlhZoo5Qw7SIiSY6jfg8g1H4R+CNv4T+LnifxyNZurs6vvMGmPEixWbSpbLcMHHzOXNnb4zgLtOAdxNAGH8TPCVn8OfE/gbxx4asINLaz1C08N6jb2iJFDNpl3OkCpsAxmOd7d1K4IAccg4r2aRWaNgjbWIIDYzg+tc18SvBTfELwbeaLHqMmkXTyQXVrqEMayNb3EEyTwybG4YLJEhKnggEd66egDyb9ltraz+CuhaAlq1hqnhwNo2sWbvuaLUIT/pDE5ORIzecp7rMp710fwz+Flj8MrjxhPZ3c97J4l164164e4C7o5JVRTEpA5Rdny55AOK6+3sbe1muZYbeKGW5cSzvGgVpXCqoZiPvHaqrk9lA7VPQAV45+0FND43XQ/hfZZudX16+tL67WJubHTba6jnmuZODtDGIQpnG55Bj7rY9jpMDOcc0ALXlv7TH/ACSO7/7C2j/+nO1r1KvLP2kJIpvAOm6S0gjuNX8R6LYwZ7sdRgkb8kjkb/gNAFn9pCzjvPgf4vMm7NraC+iKnBEsDrNGfweNT+FelVwH7QULTfAv4ghRl00G9lUepSB2A/MV3FjdpqFlb3UefLmjWRc9cEAj+dAE9FFFABXldtJ/xlLqMeOvg22b8r6f/GvVKzl8PacviB9dFpGNXe1Wya7x85gVy4T6BmY/jQBo0UUUAFFFFABRRRQAVlt4X0lvEi+IW0+3fW1tfsSX7IDKkG4uY1Y/dUscnHXAznAxqUUAeV/HHR9T0ldI+IugJJcax4RWeW406MZOpabIFN3bDkfvMRJLH1+eFVxhiR6J4f1/T/FWh2GsaTdx3+mX0CXFtcwnKyRsMqw/A1oV84/CL4laB4W+L2t+CtDNzeeCddvpbnRNUt7GcadbakFdr3T47gjymBMTzoIztDNMucgCgD6OooooAKKKKACiiigAooooAK4rwz8GfBfg/wAaa54u0vQYYvE2tSGW+1WaSSedyeqq0jMY06fIm1cKox8ox2tFABRRRQAUUUUAFFFFABRRRQAUUUUAFFFFABXmH7Pn/IqeI/8AsbvEH/p0ua9Pryr4Db7W5+Jml799tp/jK+EG4DcBcRQXjgnv+9upMe2B2oA9Vrivjdave/Bfx9bxxGZ5fD+oRrGoyXJtpAAB3zXa1DeRyzWk8cE32eZ0ZUm2htjEcNg9cHnFAGD8NdU/tz4c+FdR+0G7+2aVa3H2hmLGTfCrbsnrnOfxrpKwvAfhOHwF4H8PeGbaeS6t9G0+30+OeUANIsUaxhiBwCQuePWt2gAooooAKKKKACiiigAooooAKKKKACiiigAooooAKKKKACiiigAooooAK51v+Qhf/wDXb/2Ra6Kudb/kIX//AF2/9kWmhMm8K/8AHvf/APX5J/IVuVh+Ff8Aj3v/APr8k/kK3KGMKKKKQBRRRQAUUUUAFFFFABRRRQAUUUUAFFFFABRRRQAUUUUAFFFFABRRRQAV5x8N5JPFHjrxt4uMarYvPH4f058DMsNk8wmk6nrdTXKdsrChxzk9D8TPGsPw5+H/AIh8TTosw0uykuI4Gfb58gU+XEDg8u+1Bx1YUz4W+E5PA3w68O6FcMJLyzso1u5s5824I3TSE9y0hdie5YmgB/xP8LzeOPhr4s8O20ixXGr6Td2EUj/dV5YWRSfYFhXlX7J/jG38RWHi22i86Pz76LxBFayMXECX8KyTxhv9m+j1FCvYoeORXvdfLPhGeT4P/tlXvhi7uZ4tF8X6ddXOlB9pjeQ3DXYizgYKSzaoQB/DNEDkkUAfU1FFFABRRRQAUUUUAFFFFABXlPjaR/F/xz8C+G4YIpbXw2svirUpJoywUtDPZ2canpuZpbiT2+zjpkV2/jrxxo/w58LX3iDXboWmnWaZYgbnkYnCxoo5Z2YhVUckkCuT+CPhHVNN03V/Fnia2W18YeLLldR1C2DB/sUSoEtbMMFXPkxBQxxzI0pyc0Aavxw/5Ir8QP8AsX9Q/wDSaSuh8K/8ivo//XnD/wCgCk8XaBF4s8Ka1ok5xDqVlNZuf9mSNkP6NWF8FtWuNf8Ag74E1O7YNdXug2FzKwGAXe3RmOPqTQB2dFFFABRRRQAUUUUAFFFFABRRRQAUUV5/8XPiJd+D7PS9H8PRWd/438Q3H2LRrC8l2x7gpaW5lC/N5MKBnfaMnCoCC4oA534qahcfFLxI/wAKtEn8u0aKOfxdqEL/ADWlhJnbaIQflnuQpHP3Yt7YyyZ6T4i/Cu08TfDuLQNBjtdAutKlgvtCe3t0WGxu7dxJbkRgYEe5drKByjOBjOa0vhn8Pbb4beGRpyXL6nqNxPJe6nq00apNqF3IxaSaQKMZJOAP4VVFHCiusoA5L4V+Pk+JXgXTtc+ytp164e3v9OkzvsryJjHcQNkA5SRXXJAyAD3rra5nwl4Gt/CGteLL+1nJTxBqS6m9sIwiQyfZ4YXxjqWMO8nuXP1rpqACiiigAooooAKKKKACiiigDzb9pLxFqvhL4C+OtX0O8bT9XtNKme1ukA3RSYwGGR1Ga7jw7b6hZ+H9Lt9WuUvdVitYku7mMYWWYIA7gYGAWyeg69K84/av/wCTcPiF/wBgmX+lesUAFFFFABRRRQAUUUUAFFFFABRRRQAV5X8Ef+Rk+L3/AGOUn/ptsK9Uryb4P3UVj8UPjJoB3tdR67a6uZMAIYrnT7dUUc53BraTPHTae5AAPWaKKKACiiigAooooAKKKKACiiigAooooAKKKKACiiigAooooAKKKKACiiigAooooAK51v8AkIX/AP12/wDZFroq51v+Qhf/APXb/wBkWmhMm8K/8e9//wBfkn8hW5WH4V/497//AK/JP5CtyhjCiiikAUUUUAFFFFABRRRQAUUUUAFFFFABRRRQAUUUUAFFFFABRRRQAUUUUAeb/ErTNT8VePvAOgpaTN4cjupdd1S7QEJvtDE1pAW6fNPIkuM5P2Y8YzXpFFFABXlvx6+CI+MWneH7mw1VfD3inw3qUeq6Rq/2ZZ/JlUgmNlJG6NiqFlzyUXOcYr1KigDgfhb8VIfHC32japHb6P440ZzBrGhCbc8LDaRNGDhngkVkZJMYIcA/MCB31cd8QvhN4a+J0NsdZsWXUrMlrDWLKQ29/Yv/AH4J1w6HODjO04GQRxXMx6T8WfA0pTTtV0j4j6Rzsh18/wBl6lFwoUG5gjeKUDDdYIzz9445APV6K8uh+I3xFspWj1P4R3dwcbll0DX7K5j+jG4a2YH6KR05qcfFDxd/0R/xV/4MdH/+TqAPSqK8yuPif42MLC1+D3iJpzwn2rVdJjiz/tMt27AfRSfY1DN4g+MepQyQ2ngvwlolwR8l3f8AiOe7jXn/AJ5R2iFuP9tfrQB6nXE+PvjN4Q+GtxDZ63rEY1i4QNaaLaKbjULvLbVEVugLtubgHGMg8gAkYK/DLxp4smhfxr4+kFiqozaR4NtpNHieQZz5lz50lwy8jAjeIHHIOcV1ngj4Z+Gvhyt+dA0xbSfUJRNe3k00lxdXbjOGlnlZpJMZONzHGTjrQBxPhDwTrvxE8SWHjj4gQy6etjK0+geDzIrRaadpVbq5K8S3RVmxyUiDkKC2Wr16iigArzD9mW/mvPgX4TgnjSOXTIJNGOw5DCzmktA31YQBj7k16fXlP7Od0q+FPE2lJCIYtH8Wa3ZRjJOUN9LMp5/2ZgPwB70AerUUUUAFFFFABRRRQAUUUUAFFFFABVIaLp66w2rixthqrQC1N95S+cYQxYR78Z27iTtzjJzV2mySLGhd2CKoyWY4AoAdRRRQAUUVk+LvElr4N8Ka1r98Hay0qymvpxGMsY4o2dsDucKaANaiuK+CPia/8afBnwJ4g1WdLnVdU0KxvbyaNVVXnkt0eQhV4HzFuBwK6+6u4LG3ee5mjt4V+9JKwVR25JoAmopscizRq6MHRhuVlOQQehBp1ABRRXi/7Rn7QE/wesbS20HTY9f8QNjUL6zIdl0/So2JuLybYPlXClEyRuduN2xloA9oopFYMoIOQeQRS0AeVftRQvffAvxNpsQHn6sLbSYc9BJc3MVuhPsGlBPsDXqteW/Gu6Orat8P/B0BT7TrXiC3vZd6sdlrYML2RwRwMvDBHz/z2r1KgAooooAKKKKACiiigAooooAKKKKACvGfhj/ycl8bP+uWhf8ApNNXs1eMfDH/AJOT+Nv/AFy0L/0mmoA9nooooAKKKKACiiigAooooAKKKKACiiigAoorD8V+OvDfgS0huvEviDS/D1tM/lxTareR2yO2M7VLsATjnAoA3KK4Hxd8Y9A0X4a6t4t0XULPxLDbwqLSPS51uRdXEjiK3hUx7uZJmRAegLc9DWd+zT4p8R+MfgvoWpeLrmO88SiW8tL+eOJYleSC7mgJ2qABxEOgFAHp9FFFABRRRQAUUUUAFFFFABXOt/yEL/8A67f+yLXRVzrf8hC//wCu3/si00Jk3hX/AI97/wD6/JP5CtysPwr/AMe9/wD9fkn8hW5QxhRRRSAKKKKACiiigAooooAKKKKACiiigAooooAKKKKACiiigAorK8L+KNJ8aaDaa1od9FqWlXaloLqE5VwGKn6EEEEHkEEVq0AFFFFABRRRQAUUUUAFFFFABRRRQAUUUUAFFFFABRRRQAV5h8NZjZ/Fr4t6W+UZ9Q0/Vo07eVNYQwBvqZLOYEf7Oe9en15XodxDpf7TPi2ykZjcax4Y0y9gAXjbb3N5HKCfUGeE++4+lAHqlFFFABRRRQAUUUUAFFFct44+HOlfENbSLWLnVltLcP8A6LpurXNikpbbgyGCRGfbt4BOBuPHoAdRmlrmPAvwz8LfDOxmtPDGh2ujxTlWnaBSZLhgMB5ZCS0jcn5mJJycnmunoAK8j+KvwN+H3ixNc8Q/EK41LUtIjiNzLb3+tXMWn2EccQVmjhjkVF4UsWILZJOe1euV418aPhlB8dvENp4Ru/iBcaNotjbrf6j4b0UQreXb+apt5ZpHDkQqY2wmwBm5JO0YAOg/Z3vNbvvgr4Um8QG5fUTalVlvgRcS24dhbSTZJPmvCImfPO5mzg8VyOo+MvF3xB+JWt6D4c8aaP4HtNHvDp1rb3WnC/vNWuI4IZ7mTY0iBIY1uYVwmWJLEsuVFYWq+ENO8G/GHwHongXV9cvvGAvPtviGTUPEN3fJ/ZKxMkzXUUsrIrSPJF5eEB3rldqqa7L40yT+BfFXg/4kRxSyaNojXVh4gFtHvePT7oRbrkqBllilt7d3xkiMOcECgDe+FvxB1PxJdaz4b8UWEOmeMtA8kahHZktaXMUu/wAm6t2PPlyeW/yN8yMrKc4DN0PxA8K/8J14D8SeGzc/Yv7Y0250/wC07N/lebE0e/bkZxuzjIzjrXm15q2k+Jv2lvAF7oN5aXxHhPVbm5vLNg6zWklxZLb/ALxeHXzFlKjJwQx4zzc/aThv38L+G5Y4dWuPD8Gv2sniGHRTN9ofTikqv8sP710ErQM6x5JVW4IBoAo/AFZfhbNd/CTVYZIJtMa4v9BvNv7jUNMeYviM9pIGlEbxnkAxMMh+Of8A2gtJ8SePvi94R8Jadovh7XNLh0bUNbSx8UO40+W8R4bdJJUWGTz/ACluSwiygJk3FgVWpfGnjqx+KXjj4Zy+B7HWbzXNG8QpcXF3d6DeWcNtpzwSxXe+S4hRMMjABQdxbZgcV6x8QfhfonxIgsTqX2yz1HT3eTT9W0u6e0vbJ3Xa5ilQggMOqnKtgblOBQA74VeAYvhb8PdD8LQ3smoppsHlm6kQR+YxYsxVBwi7mO1Bwq4UcCvHda+M2gfDv9pXxdP4+8Sz+GrG20WwstDsbh5vsl5G7SSz3QQAq0gkxFuGCBGR3r2rwJ4N/wCEF0M6b/buteIcytL9s167+03HIA279o+UY4GO5ro6AMLwb400zx7oqato/wBsbT5GxFLeWE9mZV2hg6LMiMyEMMOBtPYmsnxT4f8ACejzeJvE/iS7t7Ow1TS7fSdUl1K4WK0Fsjz7QzNgLuN3IpJPOV6V2dRXVrBfW0tvcwx3FvKpSSGVQyOp4IIPBHtQB5H+yx4oi134XtpVtqCa3Z+F9Qn8P2mswkNFqFtBt+zzIw4b9y8aMw4Lo+CRzXsNMhhjt4UiiRYoo1CoiDCqAMAAdhT6APMtHm/4Sj9oLX7tZHNt4V0aHSEXBC/abx1uZx74ihsiMf32/DnvF3xy8R2Hxq0jwloHh+z1HRBqtro+p3dzNJHcG4mtpLtxbjbsIgt0SVyxy3mqqgHmuj+BO/U9J8U+JWuPtKeIvEd9ewNs2/6PEy2cBHqGitI2B7hx9a8P/Zpth8Q/j58RNbN9aXmheGfEGo3GmrBcB2nu7siI3eFPzRrbwtCjHIy0oH3eAD67oorC8TeLoPCtxpCXNhqV1FqN2tmLiws3uEtnYHa02wFkQkBd+NoLDcQOaAN2iis/SfEGl699rGmalZ6j9jna1ufsk6S+RMv3o32k7XHdTyKANCivnWT9sKz1D9q2L4J6D4e/teaIY1DXPt6pDassLzSqEVG3lQETll+dmU425P0VQAUUUUAFFFFABXjHwx/5OT+Nv/XLQv8A0mmr2evGPhj/AMnJfG3/AK5aF/6TTUAez0UUUAFFZNp4u0PUPEF7oNrrOn3GuWMay3WmxXSNcwI2CrPGDuUHIwSO49a1qAOM8XfEYeFfH3gTwwNNa7bxRc3cH2oTqgtFgtXnLFOWfcVVeMAbsk9A3Z15Tbyjxb+0rdOhhltPBvh/7K3yZZbzUJUkYZ/hKQ2kR+lz27+rUAFFFZXiXxXongzS21LxBq9joenKwQ3eo3KQRBj0G5yBk46UAatFcp4F+KXhj4mC9fwzqTatb2jBXu4raZbeTJYZimZAkoyrAmNmAxzXV0AFFFFAFPWNWtNB0m91O/nS1sbKB7m4nkOFjjRSzMT6AAn8K8r+CPgtfEWm2/xL8V24v/GHiS1ju1W6Usuk2kiK0dlboxIjVVwXIAaRyzN2A6T4+I0nwL+IyIpZ28N6kAqjJJ+yycVrfDGZLj4beE5YnWSJ9JtGV0OVYGFCCD3FAHg/x2+DGleKvih4V0zwXp2ieFfF9vBeeLm1e1so45bme1kgFtDcFBl4nuJkkYsG/wBR8vPI3f2J/Fp8e/CnWvEptvsQ1jxLqWoi137xD50olKBsDOC55wM9cVa+H+lX/wATNL+J/jbStVittZ8SS3eh6BqisZYrOxtDJb28kZHUNN59xlThvMX0p37H/hu08GeAfFHh+wDCx0rxZqtjbhiSfLim2Lkn2UUAe60UUUAFFFFABRRRQAUUUUAFc63/ACEL/wD67f8Asi10Vc63/IQv/wDrt/7ItNCZN4V/497/AP6/JP5CtysPwr/x73//AF+SfyFblDGFFFFIAooooAKKKKAEryf4J+MvFXxF8QeMPE12VX4eXz26eE42RVmeOPzY7idsDdtldUdNx+4VIAyav/tF6rf6f8I9XtNJnS31bWpbXQbSRpCjJJe3EdrvQggh0WZnBHQpnoK77RdHs/D2j2Oladbpa6fYwR21vbxjCxxooVFHsAAPwoAuUUUUAFFFFABRRRQAUUUUAFFFFAHj+krP8Hvi1JpMjh/B3ji9nu7BmY50/Vihlmtznjy7gJLMuMYkWUY+da9grkPit4CX4keBtQ0ZLj7BqPyXWm6go+azvYmElvOvf5ZFUnHUZHQmpfhd42/4WJ4C0jXZLZrG8njMd7ZMGDWt3GxiuIDkA5SVJEzjnbnvQB1VFFFABRRRQAUUUUAFFFFABRRRQAUUUUAFFFFABRRRQAV5PrFrHpn7UvhfUHmJbVvCWpWKRbejQXdnLnPuJm/75969Yryjxt/ych8LP+wPr387CgD1eiiigAooooAKKKKACvHdFt/j3NbW1vqd58PtPmWSZ7jUIor2+EitITGscGbfywiHaS0jlsA8d/YqKAPNPD3wh1ZdUsNX8W/EDxB4n1K0fzEtrWUaXpoYPuX/AEa3wXAAUbZpJQcHscV6XRRQAV4hpfwJ8VeHdf8AEw0HxrZ6BofiDVp9XvLqx0SNtaZpWZjB9qkd4tiliEYwllXCj1r2+igDlfh78NNC+GelzWmjQSNPdSG4vtRvJTPeX8x6yzzN80jHJ68DoABgV1VFFAHKeD/hT4O+H+p6pqHhrw1puh3uqMGvJrG3WIy4yQDjoMknAwMknrXV0Vz3xA8a2fw78H6l4gvobi6is0Gy1s4zJPcyswSKGNR1d3ZUA9WGcCgDoaK+evhn8VPil8WLNjpGn+HbfTheYuPFDNJLZoAx8y1s4gc3pjwEN1viiZ9+xWCc/QtABRXm3ib4+eGvCup6zp9zbazdXmmXlvpvlWOmSzm6vJoPtC28G0fvJBDiRgOFUgk1Fa/tJfD/AP4R++1TVtcXwu1hN9nu9N8QRtZX0Evl+YsZt3w7MyHcoQNuH3c80AenVgXmoeJF8XWtpa6LYS+HDCHudUm1Fo7hJDv+SO3ELBwNqZZpE+/wDg0eCfHmg/EbQxq/h3Uo9SsfNeB2VWR4pUOHjkjcB43HdWAIyOOaraR8QtP13x5r/hSyt7ua70KGB7+88sLbRSTLvjgDE7mk8vDnapUBly2TigDpmkVFLMwVR1JOMV4T8Vf2i4re61Twv4FjXxHrB06WF9W0ydJYNJ1GaaO1sYZ2wYw8k0rHYWDAQklcHNamrfs3af4m+LWp+Jtf1P8AtvwpeGO8Pg29tVlsTqCwC3+1OGJVz5QwFKfew2SVXFvxP4Z0yLxt8OvBGj6TZaVodvLceIp7WxiSCILZiJIUEagD/X3UEmR/zw754APQ/Cfhqz8G+F9I0DT1K2Ol2kVnAG67I0Cgn3wOa8f+PlxpPwXXRPiRpl7pehXmhw/2fcaTK8Fumr6XvV5bWIMyfvogDLCFP3gybSJDXrfjjUNS0nwXr99ott9s1i20+4msrbYX82dY2MabRycsAMDrmvL/ANnnwR4T1/wdovxBkni8Z+K9csobm+8R6gyXM4lK5kgjwNtuiOWTyYwoXbggkZoAt6H+0vpPjawGp+CvCXi7xronl+YNW03TUtrd+WUrGbuSBpSChB8tWAOATnivRfBfjDTPH/hfT9f0eV5tPvULJ5iFHRlYq6Op5V1ZWVlPIKkdq8u0u8T4e/tHyeGNDuba+0zxfbXWu6lo8KqJNHuolhQ3fy9I7ksAQ4GZVLKx3OK3PgToureGIvHej6laSWlpb+K7+fTFMe2JrS4KXSmI4wV3zyg46MGXtigDufF2iR+JPC2raVNb/a47y1kga3+1SWol3KRsMsfzID0LLkgE8HpX5Y/FDX5PgD4v0zxL8LopvhrrHiDU7rRbrR49SiltbW4tJFt7tJDIvlywlpIZIpXI2MJ8rgqU/Tn4o+Mr/wAB+CdQ1bSfDuo+K9XULDZaTpkReSedyFQM3SOMEgvI3CqGPPAPwl8Ff2EfiPq/xu0HxR8XIbK80TR7ieea2kv/ALSt3KrGSMou5spJO5nfft3HzAUAI3AGN/wS40qJ/iVqWuzK8mqX1hq0c08jFmZEm0p0698zOc9Tu56V+mVfmt8FZr/9lHxTpXxAk0HWfEvw6vtFuLDXW0q38ybw5qitAl4JkznaHsYyS2wYlypbbhvvbwR8YPCnj7wcvibTdXtY9MFt9snN1PGj2sPJ3zDcfLGFJyTjHNAHZ0UisHUMpDKRkEcg0tABRRRQAV418OUaz/aY+MUU6mGS7stDurdXGDLCIZ4y6+qh0ZSR0IxXsteVTWTaZ+1JaXnmCRNa8HTQeXtwYjZXsbZznnf/AGgfp5ffPAB6rXJfFfx0Phv8Pda8QJAby9todljZqrM11duRHbwgLyS8rIvH96utryD4yzQ6n8Uvgv4eniJjn1661bzA3RrSwuCi4xzl5UPts9+ADk9W8CP8A9D8C+NpJzqF9o93KvjDUFx/pseoGJb28f5CxEU8dvKOm2KErwBx73r2u2PhnQdR1nUpxbabp9tJd3M5BIjijUu7YHJwoJ4o8QaHZeKNB1LRtShFxp+oW0lpcwno8UilHX8QTXzTpviC6+IfhLw98EdXkGoeKLLVP7O8TiTfu/suwljk+0vk7sXcf2RAxI3G5kI+4QAD1z9n/QLyw8Ax69rMci+JfFUx17VPO3b0kmC+XBhjwIYRDCBwMRZwCTXpVFFABXEeMPhjD4w+IXgbxNc3SiPwvJdzJYyQCRZ5JohGj5J+RkwSDgnnt1rt65jxn8UPCHw7jV/FHifSdALoZI49QvY4XkUZzsRjufoeFBNAHT0V5CvxS8ceP7W3bwH4HksNOusmPxF4wkFrAI8jbLHZozXEoZckK4hzlecE49L8N2Wp6dodpb6xqaaxqaKfPvo7YWySsSTlYwzbQAQANx6cknmgDTooooARlDKQRkHgivCrb4Q/EXQvDsnw+0LxPp1j4CJEFtrDeYdasLAqQ1pCoXyy44VLhm3IvVGYBq92ooAoaBoVj4X0PTtG0u3W00zT7eO0tbdSSI4kUKigk5OAAOea87+DdvHpXjL4uaXbLss4PFAuY0yTte40+0uJuT2Mskje249q9TrzL4W/8lK+MX/YwWn/AKaLCgD02iiigAooooAKKKKACiiigArnW/5CF/8A9dv/AGRa6Kudb/kIX/8A12/9kWmhMm8K/wDHvf8A/X5J/IVuVh+Ff+Pe/wD+vyT+QrcoYworO8Ra/YeFPD+p63qs/wBl0zTbWW8up9jP5cUaF3baoJOFBOACT2r5d+PHxS+O8Pgjw/408KeG7HwrpsOtWh/sS+ma51TUoZpvJhiniEapAHMke6MOXBYDcrLgoD6zorgvh58Vk8XaneeHtZ0m48K+NLCBLi70O8dZN0LcC4t5V+WeHd8u9cFWG11RsCu9oAKKKKAPMPiRaf8ACUfFf4aeH5IY5bG0mvPE1wH5y1qiQwLj2mvUkB9YR+Hp9eX+E7ceIPj54518RH7Po2nWPhuGXzQVab57y4+Xt8txaDPqp9CB6hQAUVzXxD8d2vw38L3GuXmnatq0UTxxiz0Wxe7uZGdgqhUX3PUkAevSuAvNc+OXiKJr3RvDnhHwjbKrbNP8RXU1/eS4JwW+zFYosjHAeTr1HSgD2SiuU+FvjkfEbwLpevPZSaZeTB4L3T5c77S7ikaK4gOQM7JY5FzjnbnvXV0AVdU1Sz0PS7vUdQuYrKws4XuLi5nYLHFGilmdieAAAST7VT8K+LNH8caBaa3oGpW+raTdBjBeWrh432sVbB9QykEdiCK4D4+aVD4oHgDwzflm0XWvE8MOo2wAxcww2tzdrE2QfkMtrFuA6gEZ5qh+yuv27wDruvxn/QPEfijWNYsQwIb7PLeSCMnt8wXcMEjDA5oA9korP/4SDS/7c/sX+0rT+2PIF1/Z/nr9o8ksyiTy87tpKMN2MZU+laFABRRVfT9QtdWsbe9sbmG9srhFlhuLeQSRyoRkMrA4II6EUAWK8o0+H/hWfxumsokEPhzx0kl5EqoRHBrEKgzKMLgG4gHmcnlrWVsZcmvV64b4z+D73xh4BvU0cKPEumsuq6JK235L6A74RluAHIMbZ4KSODwaAO5orG8G+KLTxt4R0XxDY5FnqtnDexK3VVkQMAfcZwfcVs0AFFFFABXIfFPxtc+AvCq39hYxajqd1f2el2VvcTGGEz3NxHBGZHCsVRWkDHCk4BwK6+snxJ4X07xZZ2ttqcBnhtr221CJQ5XbNBMs0TcHnDopx0OMGgDzvSfgfqWrOmoeOPH3ifXdSliPnWOk6nLpGmwOWB/cx2pjkIUfKPMkckZJ5PGfrOh3HwO8Y+Hdc0nUdc1Lwnq13BoOraVqmsXGoeRNcTLHa3kJuZGZSJXEciq2CkgYLlOfaq8f+Il1/wALK+KHhvwNpyzyW/h3UbPxJ4gu4ZUWOBUEslnbkZJZ5J4o5CuOI0JyNy0AewUUUUAFFFFABRRRQAUUUUAFeVfEG3ntfjx8JdUMe6ykj1jSWfcMrNLbx3CcehSym5+nrXqted/E7/kevhJ/2Mtx/wCmfUaAPRKKKKACiiigAooooAKKKKACiiigArmviT8QtI+FPgXWfFuvSSR6VpUBnm8ld0j8hVRBkAszFVGSBlhkgc10tea/H/H/AAhOk78eX/wlPh/fu6bf7XtM59qAOE8D+Kvj74o8Gv42bTvCUMGoMNR07wbcRzC8+xFVKQG8EgjSZ0BbLRsAzgMVHyp658O/iRovxO0H+09HkmjeKQ297p95GYbuwuABvt7iI8xyKTgjoeoJBBPUAYGAMCvI/CLWq/tO/ERdMaKWKTQNHfU2hffsvRLeqqvz8j+R5R28fLsOOckA9drxX9prR/HmueGRb6BaWmpeEEXz/EOm29zNBq1/bIwaS1tWRSP3iAqRlWYZUEbuOl1rwH4ovPjl4d8XWPiGOz8L2emT2Oo6KFk33jsS0bsdxQhCQR8oYfN8xDYHcaxrWn+HdLuNS1W+ttM062XfNd3kyxRRL6s7EAD6mgCh4H1PQdY8G6Je+Fmtm8Nz2cT6d9jj8uEQbRsCpgbABgbcAjGCBjFbleHfs161Z3OsfEXSvDci6l4DtdY+26LqsCYtne53S3VtAwUI6RTbiGTIxMFz8te40AfNOj2Ulv8At16ppl9BBPbtoVz4q0+UqS0Uk0em6cx54DBbKUAjnbOw716LrHwdNz+0T4c+JVkLGEW2i3mk6kJFJnn3PE9uycYyuJQWyDhgOQeO+bw1pUniSLxA2n251uO0ewTUPLHnC3Z1dot3XaWRWx6itOgCta6baWNxdz29rDBNdyCW4kijCtM4VUDOQPmIVVXJ7KB2rnvDfw/tvDPjbxh4jgvLiWXxNLaz3FtKF2QyQQCAFCADhkRMgk8qcdcV1VFABXmXwzVfGHjXxb46kUNC87eHtJZgp22lpI6zOCCf9Zdef35SKE4GK1vix4u1Hw3otlp+gRxzeKdfuxpekrMR5cUrI7vcSDukMUckpA+9sCjBYGtvwR4RsvAXhDSPDunbjaabbJbpJIBvlKj5pHwAC7HLMccsxPegDcrzzxB+zz8M/FOrXGqar4F0K81G5YvPdPZIHlY9WcgDcT6nmvQ6gvryHTrK4u7h/LggjaWRsZwqjJP5CgDE8G/Dvwv8O7OW18L+HtN0CCZg0q6dapD5pGcFyoBYjJ5OetdFXmXwN8aeNPH2hf294n0rStP0jVrW31XRG02V2dbacOywXAc8ypGIWZ1CqxlIAGwk+m0AFFFFAHmHi74Lz33iC81/wd4rvvAWs6iFXU2sbW3ura/2jAeWCZGXzQMDzFwxXg7hjHK+C/2RfDukawNT8U3Vv4vmjYPBaf2NZ6dZKwORJJBbRos7gk7Wl3bcnaATmveaKACiiigAooooAK8p+IFxLpPx8+E93CVP9oRavo0yMM/u2t47rcD2IeyQfRmr1avI/j1c/wBl698I9STbFNF4yt7UTlQSqT2l1Cy57Bt6r9SO+KAPXK8Y+K3/ACcR8DPTz9aH/kga9nrkfiV8Ph8QNJskt9TuNC1rS7tdQ0rVrVQ72lyqMgYoflkRkkdHRuGV2GQcEAGn408ZaR8P/DN9r2uXa2enWcZd2Y/M5/hjRerOxwqqOWJAHJrwqz0Hx14E8RX3xlu7Q3E+vGCLxB4PtITLLaaYmFtnhZFLSXVuGleVeVkEsipjy4y3f+Hfg3qNx4i0/X/H/ilvHOp6W7SaXANOjsrGycgDzlgDOWnHzASM52hvlCnJPqNAHMeBfiZ4W+JdhLeeGNcs9YihbZMsD4kgb+7JGcMh9mANdPXJ+JvhJ4G8bakNQ8Q+DPD+vX+wR/atT0uC4l2jou90JwMnjNdLY2Ntpdlb2dnbxWlpbxrDDbwIEjjRRhVVRwAAAAB0xQBPWfJ4e0qbW4dZk0yzk1eGIwR6g1uhuEjJJKLJjcFyTwDjmtCigAooooAKKKKACiiigAryz4GzSaxqPxM16SIwnUPFt3bovOClnHDYgg98m1Y/Ukdq7bxz410n4c+EdU8S69cNa6RpsJnuZkiaQqoIGdqgk8kduOp45rlv2d9BuPD3wT8IQ3vnf2jdWQ1O9W4GJFubpmuZ1I7YkmcevHNAHo1FFFABRRRQAUUUUAFFFFABXOt/yEL/AP67f+yLXRVzrf8AIQv/APrt/wCyLTQmTeFf+Pe//wCvyT+QrcrD8K/8e9//ANfkn8hW5QxnJfFbwCPih4D1Dww+oSabDfPB500aby0STxySREZGVkRGjPPRzweh5r9qTRf7c/Z2+IUPmGF7fR57+NlXJ326+eo/FogM9s5r1KoL6yg1KyuLS6hjubW4jaKWGVQySIwIZWB4IIJBFIDx/wCO1zaTfDnQfijYxML3wrNbeILeaPaJWsm2reQ7iD8r20knyggF1jP8Ir2evmKbVH8TfsZ+CPClqjza54s0qz8J28bAny7jyTHcySYBwsKQXEjf9ciOpr6doAKKK5X4q+ILjwr8NfE+rWYY39rp072ioMs0+wiJQPUuVH40AYP7Pv8Ap/w1tvED2728/ia7utedZDl9lzM8kIJ77YDCg9kHTpXpFY3g3w1D4L8H6H4ftpGmt9JsYLCOSQYZ1ijVAT7kLWzQAVyHxQ+Itt8NfDkd61rLqWqX1zHp+l6XbbfOvbuU4jiXcygDqzMSAqKzHpXX14h/wz74n1z4hN4y8RfFTVn1W1EsOkW+iaZZW9rpsMnDhI7mO5zIygAy5DEZXO04oA7z4P8Ag2+8C/D3TdN1a5F5rkzTahqlwuNj3tzK9xclMAAJ5srhRgfKF712deS6Xrfif4afEbS/DvibW7jxX4c8Ss8Wk61eW8EN1Z3scbSNaTiCOON0kjSR43CAgxurZypHrVAHiv7Xnh/WdS+Ces634ev10/W/C8Nzrds7qSHCWdxFKgxyGMM0uw9nCZ4zXf8Awnk0uT4WeDm0Pb/Yp0az+w7c48jyE8vrz93HXmrnjzxlpnw/8J6hr2riZ7G1VVMNtCZpp5HdY44o0HLO7uiKO5YdK+X/AAz8NfFfh3xn4fsfF2v6t4N8JeM7i6u7Lw34RvzZ2+i6m6+d9jlnGZHEsaySfu3SMTJKFTa60AfSuufCzwl4m8aaL4t1TQLK98SaMjR2GpSJ+9hUnOAe+DkjOdpZsY3HPN/tG/E2T4T/AAq1PWopJrKSYrp8erRwecmmSzgxxXUibW3IkrR5UKScgAHODQ8Aza18P/ilL8Pb/XbzxRot5pEmt6VfatIJL+18uaOKe3llAHnJmaNkdvnGXViwCmvIv+CgPxCTwnb/AA90691CSy0iTURrVxDDEzyXjWV1ZERcfwiOaaYg9TAn4gHmXiT9rD4p+A/hL4jikhS6uL/XrnwxoE+t3Cr4hs2McbpLcW0cIicxrKgJBysssasG7/dXgPwnbeAfBHh/wzZMz2ejafb6fCzdWSKNYwT7kLXwF8UPhL4i079l/wAZfE3xnp82l+Kte1mHUF0syN/xKbOfU4533rkhZGIh3E8qkECnaVYV+jKsGUEHIPIIoAWiiigDzb4Iwy6NbeMfDTRxx2+g+JLuC18sk/uLhY75Ac/3RebAB0CAV6TXnPhW2h0n44eP7aNm3alp2lau6scjzD9ptW2jsNlrD+Jr0agDk/iRY+MtU0e0tPBWqaZol7Ndqt5qGpW7XDW9rtbe0EY+Vpt2zAf5cbs9q5m1+BLXl4bzxL4/8beI7kx7Nia0+lQIc/eWKw8gZ7fMWq/8SfidqHw+8TeGom8O6hfeGLwXLaprNjZT3rWRRB5SCGBHfLs33yNoCEcluIdJ+OWneKdbsdN8OeHPFGsmZ8XN5Lo0+n21lHuUF5JLtYt3BJCxh2O08d6AO50DQ7Xw1pNvptk109tBu2te3ct3McsWJaWVmdzknlmNaFFFAHHfFfx+vw58G3WpQwC+1mdhZ6Rpo5e+vpARDAozk5YZYj7qK7HAUmj4U+AT8PfCcdpeXX9p6/eOb7WtUIAa+vnA82XgDC5AVFwAqKijha564sT4q/aOhNyVay8IaBHd2sJzk3d/LPEZeuMpDaSIM54uH6V6lQAUUUUAFFFFABRRRQAUUUUAFed/E7/kefhJ/wBjLP8A+mfUa9Ery/45TyaZc/DfVoT+9svF9lHtI4ZbmOazcfgtyW/4DQB6hRRRQAUUUUAFFFFABRRRQAUUUUAFYfjbwbpnxC8I6v4b1mHz9M1O2e2nUY3AMOGUkHDqcMrdmUHtW5RQB5XF4I+K8ejx6Z/ws3RtqRiH+0v+EVY35Ucb9xvDD5hH8Rh2552dq7D4f/D/AEf4aeG49G0aOXy/Ma4ubu6kMtze3DnMlxPIeZJXPJY+wGAABL468a6b8O/Cd/4h1bzzZWYXMdrCZZpXd1jjjjQcs7u6KB6sMkDmuN8N/GrUNS8T6Rpeu+APEHhC11t3h0q+1WS1cTypC8xikjhmdoXMccjAMMHYRkHAIB6jVbUNNtNXtWtb61hvbZmVjDcRiRCVYMpIIxkMAR6EA1ZooAKKKyPF/ia08E+E9b8RagsjWGkWM9/cLCoZzHFG0jBQSMnCnHIoA16K8D8L/ED4j2vjD4av4mvdFbTvHP2gtodrYOkulBLOS5RVuPOPmsNiq5KAEklcDFe+UAFFFFAHkfhH4c+J5vjt4v8AGXiq+W60a32WnhSxEoYWsUkEP2qXbj5WZ41Uc54k4wwz65RXN/ET4g6J8LfCF74n8RXL2mjWTQrPPHE0hTzJUiU7VBJG51zgdKAOkryT9qzWzovwJ8RIL6DTjqb2ukPcXEqxKsV1cxQTHexAUiKSRtx4XaWPAr1uvg3/AIKtfEuK18DeFfh1agSalrN8uoz4PMcEWUQY/wBt3OD/ANMm9aAPtPwHr3hzxN4P0q/8JXlnfeHGhEdlNp7Aw+WnyBVx027SuO23Hat+vG/2O/CLeCf2Zvh9p7yLNJNpq6izr/08s1xj6gSgfhXslABRRRQAUUUUAFFFFABRRRQAV518eFDeCdMJAJXxP4eIOOh/tmzGf1r0WvMf2l451+B3iq/tZWhvNHhi1u3kUA4lspo7tMg9V3QDPtmgD06imxyLLGrowdGGVZTkEHvTqACiiigAooooAKKKxte8ZeH/AAtj+2td03SNw3D7fdxwZHr8xHFAGzRXBD46eCLhium61/wkG07WPh+0n1NUOM/M1sjheO5Irm3/AGmNGbzvJ0O+ZEZlElzqelWobHcpNeLIo+qA+1AHsNFeGP8AtOWH2VJjqXw/tGOd1ve+N4xLH7N5NvKv5MawtQ/bE0ezVQdb8BMWcL/oHiG71B+fSKKwyfzFAH0hRXgNx8bPFuoKs/h+w1HWkklWNLW18CahEwBz8xnvLm1iIyOoPerOoePPjJLCE0/4fX3mNkNJdrptuE9wV1ObP4rQB2/x6+HN38XPg/4p8H2N7Hp13q9obeO5mUlEO4H5gOcHGDj1rvFURqFUBVUYAAwBXzhp8P7QWt3AjaK48PgKS1xfazpckbHsAkWnyMPxJ+tSXXgv9pKQAWvjjQbc9zNJFL+g01f50AfRtFfOln8HfjPr0jP4n+JzWpVNqf2DN5OT6kCBB+mfet/Svgb4lsbd473xnqusyMc+dda3qUTD2AgnjX9KAPbK474ifF7wl8KY9KfxRrEOmDU7tbO2VgXZpG77Vy20HALYwNy5IzXnN9+zSuqSM1/cyahuG1heeIdcmVh6ENekEex4rHk/Yx8HSRNGfBng8o33lMN5g46Z/f8ANAH0YJoz0dT+Ip9fMkP7Efg62vIbmHwZ4LWWF1kTfb3zLuByMqbnBGexGK9oa2+If8Oo+GR9bC4/+PUAdnRXmfiLRvi5qFmseleKPCmkXAkDGdtFnnyuDldrXAHPHPtWr4Fs/iPa6jcf8Jlq3hfUrDysQjQ9MuLSbzMjlzJcSgrjPAAOcc0AdvXOt/yEL/8A67f+yLXRVzrf8hC//wCu3/si00Jk3hX/AI97/wD6/JP5CtysPwr/AMe9/wD9fkn8hW5QxhRRXFfE7QfFXiyysdE8Paqnh3T72Rl1fWoZCL6C2A5S0G0hZZCdvmsf3YBYBm24QHiX7Kei3fji5TxJqVp5OieE77WNN0HcCftVxPezNdXgOB8qqVt0wTyLj1AH1FXkn7KulWuhfA7RtNsYvIs7O91O3hi3FtiJqNyoXJJJwB35r1ugArgfjP5Fz4a0jTZpFV9Q8QaTDHG2f3my+hmdf+/cMh/Cu+rgfHytf+PvhrYpbtOYdUutTlbAKxxRWFxDuP8A20uoQPcigDvqKK83/aM8R614R+CPi/WPD8slvqlpZ71uYY/Me3j3qJplX1jjLuPTbmgD0K1vIL6HzbaaO4i3Mm+Jwy7lYqwyO4YEEdiCKmrn/h/4e0Lwp4J0TSvDAh/4R+2tY1snt5BIkkZGRJvH3y+dxf8AiLE85rkfEnx90C11W48O+FCPHXjNNyDRNGlEggcMVJupxmO2RWGGLncOysSFIBV+LtzFqvxI+E2gWr+dqseuya3LAqk+XZwWVzFJM5Awo8y4hQZxkvxnBx6xXAfC/wCHd94Ym1XxD4mvoNY8ba4yPqF5bRlLe3jUYjs7YN8wgjycE/M7M7tgtgd/QB5p+0M0lr8Nl1Jba4uodJ1rSNVuo7WJpZRb22o2007qijLbY43bA7Ka5P8AaF+IXhPxR8KZ9M0TxBZ6r4q1RILvwtaaRdRy3k18siyWk0Sgk7FkVGZ/uhA2SBmvd6wfD/gHwx4TvLy70Pw5pOjXV42+5n0+xigedsk5dkUFjyeT6mgCpceBluPihp/jL7YyvaaPc6R9j8vhhNPBL5m7PGPIxjHO7rxzt3WhabfapY6lc6fa3Go2AkFpeSwK01uJABII3Iym4AA4IyAM1eooAq6lplnrWn3FhqFpBf2NwhimtrmNZIpUIwVZWBBB9DXl+ifCXxl4BjttP8HfENY/DdrB9ntdH8TaMuoraRg/IkU0UtvLtRflUSNIduOeBXrVFAHCeH/CfjdfFFvqviTxvbX1jbRMkej6Ho32C3ldgQXnMk08jkAjaFZACMkGu7oooA89mkMP7QFoiAAXPhiYynHLeXdxbPy86T/vo16FXnsy+d+0BZsmG+z+GJxLgjKeZdxeXkf7XlSY/wBw+lehUAFFFFABRRRQBz1h4RSw8fa14mW5Zn1PTrKwa2KcJ9nkuXDhs87vtRGMcbB610NUtZ1rTvDumz6jq1/a6Zp8ABlu7yZYYowSACzsQByQOT3q4DkZHIoAWiiigAooooAKKKKACiiigAryv9oP/kD+Cv8AsctF/wDStK9Uryz9oL/kD+C/+xy0X/0rSgD1OiiigArgvj14p1PwR8FvG+v6NOtrq2naRc3NrO0ayCOVYyVbawIODzgjHHNd7Xm37Smnzap+z78Rra3TzJm0C9KqOrYhZsD34oAtW3xKPgf4X6JrvxOktPDOsSQww3ttC/nBrwjBjgWPc0jMQSqJubHrgmq+hfGj+0/EHh/S9S8F+J/DA18SDTbrWIbZY5nSFpjGyxzvJE/lo7bZUQ/IwOCMUzwz4R/4TDx2vxD1PUoNX09YF/4RO3t8mG0tZoEMlyQVBM8pLjdztjwo+8+aHirUx4s+P3grQNNdJv8AhFo7rXtYkVWYWxlt3tbWBmA2h5RcTyBSc7YCcYINAHrNFFFABRRXJ+F/ix4M8ca5e6P4d8UaTrupWUfm3Fvp12k5jXIXJKkjgkA88E0AdZRRRQBy3xQ8Bw/EzwDrPhqW7k09r6IeTewgl7WdGEkMygEZKSIjgZGStcf8UNWtdU+L3wn8MQuJ9Sh1S4165hiYM9vaxWF3CsrqPuo006IGOATkDJBx2vxE17XvDPg+/wBS8M+Gm8X65CYxb6Mt6ln5+6RVb964KqFUs3IOduO9eT+A/gL48tda8QeK/EvxPutO8S+ImhlvbfwvptmtrbCNNscCPdQzO6ICcH5MlmYrliaAPfK84b9oPwTDr/8AZdxe31mhvG05NUutKuodNkuldkaBbxoxCXDIV+/gngEnik/Z+8Waz40+HEWo6zM+oH7ddwWOryQrAdUskndbe78tVUJ5kYVuAAfvAAMBWX4b8n47fDbx74U8SzTSyRazq2gXrRIsTxILh2tihAwStvJbMGweRzk5oA9crL8U+HLLxh4Z1fQNSVn07VbOaxuVjbaxilQo4B7Hax5rkfgD4w1Xx18JdC1bXJY7jWD9otLu4hjEazyQXEkDS7Rwu8xbsDgFsDiu9uLmKzhaaeVIYl+9JIwVR9SaAPlr4N69cyftFS+D/HGoWD6z4C0k6NoMrlQdVa42TyXEeUX9+lolmkiJ03yH7r8e1/Hb4lXHwp+Gep67p9g2q6yWistMsUjaQz3c8ixQrtT5mG5wSq8kKQOSK8o+O9t4f8NWXjq1n8SW0/jHXdRtfEXhfR9Pszc6tbapb2kMUTRxIXd0Y2a5YIoCySqxwc17L4k8Hp8Vvh3b6d4htrjQ766it7wizuQbjTLxCkqPFKBgvFKoIbGDt5BBIIBzv7OeseNte8B3F544N5JdtfSCwn1PS00y7ltQiYaa1Vj5R8zzgoOGKBCRkms/4v8AiHxzr3jnR/APw71yw8NapJYTazqmtX1iL37Lbq4jgjSIkKWllLDLYwkUhXJXFdr4B0/xvpa3Vv4v1rRtejjSJLS803TpLOaXAPmPOjSyJuJ242YHXgcAZXjj4WX+teKovFfhbxRc+EvEws106eb7Ot5aXlssjSIk1u5GWRnkKujIw8xgSQcUAd5Yrcx2Nut7JFNeLGomkgjMcbvgbiqlmKqTnALEgdz1rx39si3iu/2c/FMM0aywyS2CujjIYG+t8giu+8B6H4t0WO9HirxVaeJ2kKfZ2tdIFh5IGdwIEsm/OV9MY75q5488EaV8SPCOpeG9biebS9QQRzpG5RiAwYYYdDlQc+1AG904HAr8qP2pPEVz8VP21neAytaeHbV7bTJIoA/7+3aSKEMPRtSYxZbsynpiv01+I3i+P4f/AA/8SeJZVWRdI064vhG7YDmONmCZ/wBogD8a/OD9lHwDL4w/bR1exu3lWLwnaQrqf7xmFzeWbQCYF887tQUTk852nsc0Afpd4V8P2/hLwvo+h2efsmmWcNlDk5OyNAi/oorUryD44XNx4h8XfD34em7urDSPE91dyapNYXDQTzW1rB5pthIhDIsrFA7KQ2wMoPzZDvg9oJ+HnxA8beB7C9urnwzZWunatplteTyXD2IuTcxywLJIzM0e603gE8GVhQB67RUV1cLaW8s7h2SJC7CONpGIAycKoJY+wBJ7VmeEfF2kePPDtlrug3qahpV4rNDcIrLnaxVgVYBlZWVlKsAQQQQCKANiiqGva9p3hfRb3V9WvIdP0yyiae4urhtqRIoyWJrmPhr441r4gWtxq1z4ZbQPD8x3aVLeXR+23cXaWS28sCBWHKguzEH5lXpQB21FFFABRRRQAVz3xE8Ny+M/h/4n8PwSpBNq2l3VgksgJVGliZAxx2BauhpD0NAHH/BnWD4g+EHgbVDH5JvdCsbkx7t23fbo2M98Z61p+OG8Sr4XvT4QXTW8RfILX+2A5th867y4QhjhN5ABGSACQOa+e/BfiT4yzfB34baD8OfB2jwWh8K6S/8Awl3iLVFFsrG0jLotrEGlJHA3NgZz8pHNehQ/AW88XafD/wALJ8Z674qleLbcaVZXh03TAxwWUR2wieVQRwZmbgdBk0Ac54y1bW/DF/O/ir9orRPC0xXMem6fo9jbcKOdsdzJcSuxPYN1OAK52x8ZeKNYuLNNF8dfFDxbb3SkrLpfgixsIj1/5eL22iiH1yRx619A+Ffhr4R8Clz4c8LaNoLPje2m2EVuz4GBuKKCep6+tdJQB8jeKvBPxisfDN74gk8beJPCWmWCPc3I1C/i1q/aJRk4tLO0jQN3wszj1xya4jwP4+0rXNKa48WftCfEqIXAwunWXhuXT54sMR8zJDcH5gARscEZ7HgfeFFAHyfd/DXwX8QtPZX+GHxY8d2NvIVhutf8RXVskpxnckV9qEMgUjHzeUBVLT/2SYLqNZdH+EnhHwkGfJ/4STXr/WJdno1vG6xq30mYcY75r69ooA+cbT9j+2e+je7m8GWdkFw8OjeBrVJD7iS7kusH/gJ+ldFpv7I/gq0uluLqfUb10YPH5AttM8sj0NhDbn8zXtlFAHA2vwD+HFqzyN4J0S+uJHMj3Wo2aXk7sepaWUM5P1NdppumWej2cVpYWkFjaRDEcFtGscaD0CgACrVFABRRRQAUUUUAFFFFABRRRQAUUUUAFFFFABXOt/yEL/8A67f+yLXRVzrf8hC//wCu3/si00Jk3hX/AI97/wD6/JP5CtysPwr/AMe9/wD9fkn8hW5QxhRRWb4k8R6b4P8AD+o65rF2ljpWnwPc3NzJkiONASxwOTwOgBJ6DmkBwvwBkx4X8RWqKqQWnivXIokUYCqdQnfH5ua9Mrzr4A6Nfab8NLK/1SI22ra/PceILy02lfsst5K1wYMHn92JAhz1Kk8ZwPRaACuD1CR5PjroEfSOHw3qTfUvdWP/AMb/AFrvK4C8YD496QueT4ZvSPwurXP8x+dAHf0nXg0tFAHlk37MPw2meQDQZ4LOSQyNpltqt5Dp5JOWH2RJhDtJJJXZtOTkcmvRND0DTPDGlw6bo+nWmladAMRWljAsMSD/AGUUACr9FABRRRQAUUUUAFFFFABRRRQAUUVx/wAUvFV94a8ORwaKkcviXWJ10zSI5QTGLl1YiR8A/u4kWSVvVYmA5IoAzPhara/rXjHxdM6yf2hqcmmWW1t3l2di724XoPvXAu5e/Eq88V6HWP4P8M2vgvwtpWhWTO9tp9slukkpy8m0YLse7McsT3JNbFABRRRQAUUUUAV9Q0+11axnsr62hvbO4QxzW9xGJI5FIwVZSMEH0NeA/A3wf408L/GDxHGvhbU/BXwwitJodP0q916G/t5Ljz0Mc1tAhZrVCglJi3bQXAAGMD6GooAKKKKACiiigAooooAKKKKACvLv2gUY6H4PkCsUj8YaGXIGdoN9EoJ/4Eyj8a9RrzL9o52j+FU7oxV11fR2VhwQRqdqQR75oA9NooooAKyfFmh/8JR4V1nRvN8j+0bKa083bu2eZGybsd8ZzWtRQB8u6H+05oPw1/Zx+GttZRTa/wCOtT8N2kGj+FrCMzXd1OkAiDNGpysPmRtlz2VsZIxWz8JvC/xl0nRZJHs/Dug6lrF5JqOsat4inl1HUJ5yNoJtrcxwxIESJEjW4YIiKCSc1m/sj6LY+FfEPxE0ew8OWek2/h7UZtIvtZuZw99emOV2s1xn5YY7JrfkgBmdiBkOT6P4g/aM8LQXMmleFJH+IXic5SPR/DJFztfcF/fzrmK2QMRuaVlwM4BxigB/hXxb4w0v4sjwX4qvNF1iO70STWLS+0jT5bExmKeOKSOSOSebcD50ZVgwxhgR0Neo15x8Nfh/rFjr+q+M/GV1a3ni/VIltUhssm20uyViyWsLEBn+Y7nkIG9scAKor0egArL8M+GdM8G6BY6Jo1othpVlH5VvbIzFY0HRQSScfjVH4g+I9U8JeD9S1bRvD114r1S3QG30ezlSKS4YsFwGfgAZyTycA4BPFcFNe/Fn4jYs4tIt/hXpDSBbnULq8h1DVnj4LC3ijDQRE8r5jvJjOfLzigD1+iorWE21tFCZZJzGgQyykF3wMbjgAZP0qWgDx/S/2nPCcsetX+s3Vp4d0S1vpdP064vL6N7vVZIZXimMVpHulAEkZVRgu452gYzV1JPFvx8C2IsbvwT8OWuP9LlvHlttY1qFCCY0iXa1pBIcgszCVlyNiBs16VpPw+8LaDr15rmmeGtH07W73f8AatStLCKK5n3MGffIqhmywBOTyRmugoAqaTpdnoel2em6fbR2dhZwpb29tCu1Io0UKqKOwAAAHtXmuv8AgHxh4X8aar4k+HlxohTXTE+r6LrzTpBJcRoUF1DJHu8uRkESOvlkMIlOQck+q0UAcV8GvAVz8Mvhro3h29vY9Qv7cSzXVzChSN55pXml2A8hd8jAZ7AV02uaDp3ifR7vStXsbfU9Mu4zFcWl1GJIpVPZlPBFX6KAOY8HfC/wf8PQ/wDwjHhfSNAaQFXk0+yjhdwSCQzKASMgdT2HpXT0UUAFFFFABRRRQB85ftzfEaLwP8JrW0JtXl1C9Wd4LvJSSG0U3bKR3V5IYYSD1E+K8p/4JaeALi38BeLfiDqc0lzqPiHUTbxyT5Z2SIbpZS5OWLyyMDnvEDk5rif+ChPj2+8cfGCw+FHh9HvNVvbS00oWygAZubmO4lUk9Cxg0/DDACibPt9jfsv/AAzvfhD8C/CvhbU4kh1O0hkluo42Vgkksryldy8MV37cjg7eKAJvjR4Z1ea48K+MvDmmrrGveE7yW5Gned5T3trLA8VxBGT8okOY3Xd1MQXI3E113hPxdonjDwpp/i3S54jpmpWcd0l1IAh8rBYBz2K7mBBPyncPWqHxM+IkHw60GG4Wyk1jWb64Sx0nRreRUlv7pzhI1ZuFUDLO54RFZj0r588K/BuTRPixp3h/4mXFrr2heKUv9a0vwxDcTf2RpuopMs09utu3y3CskxlUyDAaKYrGu7gA+m/Dfi7Q/GVjJe+H9a0/XbOOUwvcabdR3EayAAlCyEgMARx15FV7/wAD6JqGg6lo32L7FYajLJPdLps0lm8kjvveTzIWVwzNyWBBOTk8151rXh+1+G/x08C6loOnQaZp3ia3n8O6nDaIIoXa3tnuLFyi4XdGkFxEpxna4XoqgafxO8ReK/EF7c+CPBFhd2Oo3Eca33iy5j2WekwybtzxZINxcbVO1E+VWZS7KOCAeV+Br2++Kmifs/eG9Yu21a2bRW8U62t7I7Pe/ZUhitxIf+Wn+kXCSkNnJhBPTB+pK8c1z4b6h8NdV8Da54C0NdatfDmly+HbnQzcrHczafI0DK8MsrqnmxvboSJCA6u/zBttbeh/HTStbewt/wDhGfGmn6jdzpAbO+8LX0fkFnCbpJvKMCoM7i3mEYB5PSgD0iiiigAooooAKzfEmvWnhXw7qutX7MtjptpLeTsgyRHGhdiB3OAa0q84/aPvHsPgD8RJYwN50G9jGe2+Flz+G7P4UAXPgLYz6Z8Dfh3Z3MZiubfw5p0UsZ6qy20YI/Aiu7qppOmw6LpVnp9vn7PaQpBHuOTtVQoz+Aq3QAUUUUAFFFFABRRRQAUUUUAFFFFABRRRQAUUUUAFFFFABRRRQAUUUUAFFFFABXOt/wAhC/8A+u3/ALItdFXOt/yEL/8A67f+yLTQmTeFf+Pe/wD+vyT+QrcrD8K/8e9//wBfkn8hW5QxhXPeNPAul+PrTTrTWBPLY2d/DqBtI5SkVzJES0aTKP8AWRh9r7DwWjXOQMHoaKQBRRRQAV538WJ38K33hrxujCO20a6NpqrMcD+zroqkrH5TgRyrbTMeMJA/POD6JUF7ZW+pWc9pdwR3VrcRtFNBMgdJEYYZWU8EEEgg+tAE9FePw6P48+DdqbDwtpi/EHworYsdLutRW11HTI+0KzS5S4hXGF3ssiDAzIBle/8ABnii+8UWM8uo+GdV8LXUEvlNa6q1u5c7Q26NoJZFZOcZyDkHgUAdDRRRQAUUUUAFFFFABRRRQAUUVmeJNP1DVdDvLTStVbQ9QmTbDqCQJO0DZHzBHBVjjPXjmgCPxb4s0vwP4cv9c1m6Wz06zj8ySRup5wqKOrOzEKqjlmYAAkiuR8B+FNV1vXI/HXjCFYNdkgaHTNHVt0ei20hBZM9HuH2p5knQbQifKCzyeHfgroul6xb65rV7qXjLxFA5ki1TxBcecYGPeCBQsEBHYxxqcHqa9BoAKKKKACiiigAooooAKKKKACiiigAooooAKKKKACiiigArzD9pH/kk91/2FdI/9OdrXp9eYftJf8kluv8AsK6R/wCnO1oA9PooooAKKKKAPBbL4O+Ddd/aK+I7a/4X0LxEb7TNH1ZG1TS4Lh4JH+12zqrOpOCLONvqTXuGl6VZaHp9vYadZ2+n2NugjhtbWJYoo1HRVVQAAPQVDDoFhb+ILvW47cLql3bQ2c9xuOXhieV41xnA2tPKcgZ+fnoMaFABRRRQAUUUUAFFFFABRRRQAUUUUAFFFFABRRRQAUUUUAFJ05NLXnf7RHjA+AfgT4+16PUBpV3Z6LdG0vNoby7lo2SDAIIJMrRgAjGSM0AfH/7Kekn4+ftufEn4vTTRahoejSSwaXcRHCuWLW1q2NuD/o0UjHv+8jPev0Erwr9iv4VzfCn9n3w3bajC0ev6pCmo6i0jln3MirDGck48q3SCLA4/dk4yTXutAHjnhWJPEn7THjy81T/SJ/C+nafZ6OkjHbaRXUbyXEiLnG6Ro1UvjOIQoOMgt8SeNNI8efG7wBoHhy/tNau/Dt7e6vrL2Vwkq6fGLKe0WOUqTtkeW6XCdcRuSMCuw8cfBfwN8StRtr/xP4X07Wr22Tyo7i5hy/l5J8tiPvJkk7WyvJ45rpNA8N6T4U01NO0TS7LR9PjJKWthbpBEpPUhEAA/KgDB+Ifgm58YP4XubHUP7OvdC1y31aN2QOsiKHiniIP9+CaZQezFT2rr6KKACiiigAooooAKKKKACvMf2nP+Te/iF/2Brj/0A16dXmP7Tv8Ayb38Qv8AsDXH/oBoA9OooooAKKKKACiisLxz4y074e+D9Y8SatKIdP0y2e4lOQC2Bwi+rMcKo6ksAOTQBu0V4joPwf8AFPijwmdd1/xp4j0D4g6kw1FG0/UZRY6O5CtHaLZb/s80cYAR96lpCXO4FgR7HpKX0el2ianNb3GorEouJrWJoonkx8xRGZiqk5wCxI9TQBbooooAKKKKACiiigAooooAKKKKACiiigAooooAKKKKACudb/kIX/8A12/9kWuirnW/5CF//wBdv/ZFpoTJvCv/AB73/wD1+SfyFblYfhX/AI97/wD6/JP5CtyhjCiiikAUUUUAFFFFABRRRQAUUUUAFFFFABRRRQAUUUUAFFFFABRRRQAUUUUAFFFFABRRRQAUUUUAFFFFABRRRQAUUUUAFFFFABXl/wC0p/ySS7/7Cukf+nO1r1CvL/2lP+SS3f8A2FdI/wDTna0AeoUUUUAFFFFABRRRQAUV5D8YhJ8QvGHhv4YW88kNhfo+s+Int52ik/s2F1VbcMuGHnzMikhgfLimFN+BCweEfEvxD+Hdq909h4c1C3utNjuJDKtvZXdukiQq7EsdsyXPDZwrIAccAA9gooooAKKKKACiiigAooooAKKKKACiivLpfEWu+M/jdNoOkajNpPhvwnbxTazJCkbNqF5OA8Np88TbY0hHmOUYMfPiAxgmgD1GiiigAryf9oj4a6p8WtH8I+HLaGCfQZPElnd+IEuGAV9Pg3zNHjILb5I4UwOfnz0BI9YooAKKKKACiiigAooooAKKKKACiiigAooooAK85/aOsn1D4A/ESKMgONBvZBnuUhZ8fjtx+NejVw3x2/5Ij8Qv+xd1H/0mkoA63R9Si1rSbLUIMiC7gSePd12soYfoauVz3w7/AOSf+Gf+wZa/+ilroaACiiigAryf4vRt4w8efDzwTEZPKk1H/hI9T8twFFpYlWjVweoe6ktePRHPavWK8t8IRjXP2gviFq/2Vlj0nTdL8PxXJbKtJia8mUD/AHbq2z9BQB6lRRRQAUUUUAFFFFABRRRQAUUUUAFFFcH4X8Za74j+KnjPSfsNpB4U8Pra2S3RZjcz38kKXEg64EawzwDpncTyRwADvKKKKACiiigAooooAK51v+Qhf/8AXb/2Ra6Kudb/AJCF/wD9dv8A2RaaEybwr/x73/8A1+SfyFblYfhX/j3v/wDr8k/kK3KGMKKKKQBRRRQAUUUUAFFFFABRRRQAUUUUAFFFFABRRRQAUUUUAFFFFABRRRQAUUUUAFFFFABRRRQAUUUUAFFFFABRRRQAUUUUAFeY/tHxtN8KZ40UtJJq+joqgZJY6pagAfjXp1eXftBSMuheD4wzKkvjHQ1cA/eAvonAP/AlU/hQB6jRRRQAUUUUAFFFcx8TfGifDvwBrviIwG7lsLVnt7UZzczn5YYRgE5eRkQcHlqAOT+E4l8T+PviL4ym8z7PNqCeHtN8yNR/othuWRlI6g3ct5yecIPQAeoLEiyNIEUOwAZgOTjpk/ia5j4WeCz8Pfh3oHh6SVbi6srVRdXC5/f3LZeeXnnLys78/wB6uqoAKKKKACiiigAooooAKKKKACiiigAryr9nKRNa8G6z4tSaSdfFmvX2sRPIMZt/M+z2pA7A21vAcH1NdX8VvE0ngv4YeLtfgcRz6XpF3eRMcH544WZevXkDipPhj4Xl8D/Dbwp4dnZHn0jSbWwkaP7rNFCqMR7EqaAOmooooAKKKKACiiigAooooAKKKKACiiigAooooAKKKKACuH+On/JEfiF/2Luof+k0ldxXnf7Rd62n/AP4iTKMv/YF9Gv1aB1B/M0AdH8PP+RA8M/9gy1/9FLWze39tptuZ7y4htYNyp5kzhF3MQqjJ7kkAepIqLRdLj0TR7DTomLRWdvHbox6kIoUH9K8B/a/07WPEl/8I/D+mwW9tBfeLY3fWb23ju4LWVLW48pDbMw80tl2BPyqYueSKAPouivFr7S/jF8O9Nn1hfFlj8SYLdo5bjRJNAS0vJYVb96LWSKYL5uzJVXRgxUDIzXqPhHxbpPjvw1p+v6HeJf6VfxCWCdMjI6EEHlWUgqynBUgggEEUAbFeY/s7tBqXw9n8RQgsfEmr6hrJlYfNJHLdSCAn6QLAvsFA7V2njbxB/wiXg3Xtc2LJ/ZlhcXu1jgHy42fB/75rL+EGgz+F/hP4L0e5h8i60/RbO1mjIwVkSBFYH3yDQB11Fcf8Uvit4d+DvhpNd8TXUltYPcx2q+TGZZCznlgg5IRA8jYyQkbnBxiuRtvjd4h8ZKJ/AHw71DxBpDSFItc1i9i0qynGAfMiDB55IyCMOItrdiaAPXqK8nk8O/GfX7NxdeM/CnhN2k3Kmj6FNfSxp2Tzp51Vj6t5IzjoOlSr8F9fuGjnvvi742musL5v2X+zreFmAGdsa2nyg+mSfc9aAPU6KKKACiua+InxC0b4W+F5/EXiGWa20e3lhjuLiKBpRCJJFjEjhQSEBYFm7DNbmm6nZ61p9vfafdwX1jcIJYbm2kWSOVCMhlZSQQfUUAWaKK8x+OfxI1vwBH4HtPDmnx6lq/iPxPZaOIpUZlSBt8txIdvKhYYpDuwdvXBxQB6dXlnwF8++j+IOs3EnmvqfjDUih7CO2KWKAf8BtBXe+LvElt4N8Ka1r94Ga00qymvpguMlIo2dgM98Ka5b4BeG7rwn8GfB9hficao2nx3Wofas+abuf8AfXBfPO4yySZzznrQB39FFFABRRRQAUUUUAFc63/IQv8A/rt/7ItdFXOt/wAhC/8A+u3/ALItNCZN4V/497//AK/JP5CtysPwr/x73/8A1+SfyFblDGFFFFIAooooAKKKKACiiigAooooAKKKKACiiigAooooAKKKKACiiigAooooAKKKKACiiigAooooAKKKKACiiigAooooAKKKKACvLP2g/wDkD+Cv+xy0X/0rSvU68r/aE/5A/gr/ALHLRf8A0rSgD1SiivnT4+/GHxjc/Ejw78MvhHdWcvjNhJqOsSXPl+TY2qIojSUurD52mRmVAZAi5AG9SQD6LorxXwB8ZfF2n+IrXwz8WvC1n4T1S/lNtpWsaXdG50zVJlzmNWI3Qu4XfHHJyykj7ykH2qgArzb4sMmseKPh14ZM237brg1OeFSQWgsonuA30FyLPP8AvV6TXnkQbWvj9O/nL5Xh7w2sYiC5JkvrksxJ7YXT04/6aUAeh0UVyvxL+Iul/C7wnc63qe+ZgywWdhbjdcX90/EVtCg5aR24AA45JwASADqqK8y+C/jnxN4juPFWh+NYtNtfFOh3sXmW+lB/JFtPbxzQkFyS+GaaLfwGMDHA5Fem0AFFFFABRRRQAUUUUAFFFFAHmn7RFuup/DOTRmI261qmmaS6E43xT30Ecyj/ALZNJ06AE9q9LrzX4gW3/CR/Ff4baIRC1vYy3viWdZCdx+zwrbRgY/6aX6vz/wA8vwPpVABRRRQAUUUUAFFFFABRRRQAUUUUAFFFFABRRRQAUUUUAFeZ/tMKW/Z8+IeBnbol0x+gjJJ/IGvTK4z41WMup/Bvx5ZwRGea40C/iSIDJdmt5AF/EmgDslYMoZTkHkEV5P8AtBWkv/FttUVQbfS/Gmmy3HOCFmEtmpHr+8uo8+2T2rtfhrqUetfDnwrqEUv2iK70q1nSX++GhRg345zXIftPTPp/wS1/VY8edo0lnrEQPRntbuG4Cn2Jix+NAHqdeV/AlbaHUPihb2D7tNh8ZXfkBXLorvb20lwFJPH+kvcZA6MWHGMV1PxO+IFt8NfCNzq8sDX14zpaadpsbBZb+8lYJBbp/tO5Azg7RuY8Kar/AAj8F3vgbwTFZatNa3Gt3l3d6rqUtjGyQG6uriS4lWPcSxRWkKKW5KopOOlAFD9oIyS/BrxVYwyLFPqlqNIiZum+6dbZc/jKK9Crz74xSfaLfwhpHlPK2qeJtPQbP4fs7m9JPqNtoR+Neg0AecfGvw/rd7pugeIfDlmmq6z4X1IapHpMhAGoRNBLbzwKxICuYbiQoTxvVQeCa3/hn4p8OeL/AAXp194UEUOjIn2eOzihEBs2T5Wt3iwPKdCNpQgYxXUV5Z41+FupaXrl340+Hd1FpHiqQF7/AEy4ydO13C4VbhAR5cowAtwmGHRt6/KAD1OqVxrWn2mqWemz31tDqN4kkltZyTKs06x7fMZEJywXemSBxuGeorC+GfxCsfiZ4Tg1i0iks7hXa2v9NuARPp92nE1tKCAQ6Nx0wRhhkMCfEf27PFFx4C8FeCfE2jynT/E9p4kittO1VYI5WtBNbzpOSrjDqYt3ycAsqZ6UAfTFef8Ah34+eAPFniiPw9pHiW3v9Slklig8uOTyLmSJQ0qQzlfKlZVOSqOxA5IrxD9ob9n/AFPwP8IPEes/DS+8SX3jC7sxYauhnkv7jxDDMyRSNMDkiWNSzo0W3aN6gbWwPavix8LbLxN8H9R8NaLYW9jdWFmZfD4tQYBp97ChNpJEUwYyjhfu9sgggkEA9DkjSaNo5FV0YFWVhkEHqCK+SPA/xSvNH8eXPh74S+H11DS/GEcus6Vaatci307S3t7u4ttRlzGHZIpHjt2jRAQWnZvlyVr6R+GXjS2+JXw68O+JrcKItVsYrh4twbypGUeZExH8SPuQ+6msXSPg1puh/FtPG9ncG2jtvDcfhqy0aCFY7a1gWczMy47tiJcAAAR98jABq/Cv4gR/E/wHpniFbGXSri4Dx3em3DZlsrmN2jmgfgcpIjLyATjOBnFeM6/8NdY0r9pDwX4t8R6yuuPd+Jri30MK0iDTrJtHvmeDyc+WGLomZBln2gkj7o9o8L/Dyz8I+LvFmt2F1cLF4jmgu7jTjtFvFcpH5bzRgAYaRRHvznJjB71jfHLwjqfijwnp1xoVmt/4g0PWbDWLC3aZYRI0Nwnmpvbhd0DTJ/wLHQ4IBS/aGVNW8I6N4VkjklXxVrtjpEscefmt/M8+6ViOQDb284JHr+Neo15nqMJ8VftA6VA43WXhLRn1ErvYD7Zeu0ELYHBKQwXY56eeMe3plABRRRQAUUUUAFFFFABXOt/yEL//AK7f+yLWJ4H+Id1q/jbxd4Q12O1s9d0e4FxaJb71F7psoDQXCh+pU74X2kgPGegZRW23/IQv/wDrt/7ItNCZN4V/497/AP6/JP5CtysPwr/x73//AF+SfyFblDGFFFFIAooooAKKKKACiiigAooooAKKKKACiiigAooooAKKKKACiiigAooooAKKKKACiiigAooooAKKKKACiiigAooooAKKKKACvKv2hf8AkD+Cf+xz0T/0rSvVa8q/aE/5A/gn/sc9E/8AStKAPVa8d1Xw7pugftHeB306yitH1DTPEF7dtGuDPOz6YrSMe7EKo+igdBXsVeW+PJP7P+PXwqvHGYrq21nSlx1EskUFypPtts5B9SKAOy8eeCdN+InhS/0HVUkNtdINssL7JoJFIaOaJ/4JEYKysOhUGsX4F+LLnxx8HfB2tX8xuNTudMhF/IyhW+1IoScEDoRKrgjsQRXcSSLFGzuwRFGWZjgADua8t/Zhjb/hSeiXBRkivrm/1C3LDBeCe+nmhfHYNHIjf8CoA9Urgfhgy6prnj3XF8xorzXXtIGkXH7u0hitnUf7IniuSP8AePvXfVw3wRgZfhboN3JN9ol1WOTWZJNu3LXkr3TDHsZiPwoA7mvKdb8J3Nx+014W8QT28mo6ZD4av4bcyRM0WmXSzwZlRs7VknimdDwG2wYBwWFerUUAeX+HXitP2kvHMMkkcc954a0WeGIsA0qR3Goo7AdwpeME9t6+or1CvG7gf8Zh2B/6kO5/9OEFeyUAFFcl8UviHb/CvwbP4lvbSS7sLW4to7rymCtFFLPHE0vPBCCTcRxwp5FYHiz4ma9eeKLvwn8P9Es9c12xRX1K/wBWuXttO00soZI3dEd5JmUhhGg4VgzMoIDAHplFfMXhn4teLfj144174Zy3Nn4Mm8OuRr2reHr6SSW/QEIY7BpIo3iCyB45ZNpKFVCElww7TVtOb4G+PPCd/Y6zrV34U8RXqaBqGn6xql1qQt7qQO1pcxPO8jxlpB5LqGCt5sZwCnIB3PiTwTe6l488M+KdN1ZrG40uO4sruzmQywXdnNsZ1C5GyUPDEyyDsGVgwIx19ed/HTxVqPgzwhpmq2N4mnWsev6TFqV2+391ZSXsMcx+bgAq+Ceysx7V5p+07rWveJfih8MvhTomq3Gl2Hi4X414wxrmTT440Miq5GVZl3qCMY39+lAHu/hbxnoHjiwlvvDmuadr9lFM1vJc6ZdR3EayAAlCyEgMAynHXBHrWzXjug6Mnw5/aIfS9LWOw8N+KPDv2uPTLfKww3lg0FuzJGBtjDW81smFwCIBkcCvYqAPPLSEX37QWqTMgJ0vwxaJE/cfarq4Mg/8k4/yr0OvP/AaT3fxK+Jl/PIHWG/stLgXHKRR2MM+M9xvvJD+Jr0CgAooooAKKKKACiiigAooooAK4u++LOi6V8SrXwTqEN/p+oXtuJrG+urYpY3j/MTBFNnDTKqlinXHTPOO0rlPij8P7f4neCdQ0Ga5k064lCzWWpQjMtjdRsHguI+QdyOqtwRnBGeaAOroriPg348uPiF4DtdQ1GOC2161mm03V7S3bKwX1vI0UygZJVSy71Dc7HQ967egAooooAKKKKACkbBUgjIxS0h6GgDz79nf/kgHwz/7FnTf/SWOj4/32jW/wd8V2muXPkW2qWE2mQqkZllmnnRo4o4o1BaSQsw2qozn6Zo/Z3/5IB8NP+xZ03/0ljru7mxtrx7d7i3ine3k86FpEDGN9pXcuehwzDI5wxHegDwz9n2LxB8YLHwv8VPGxtUmXTFj0PSLXa62pkQLc3krDjz5SCoVeIo8ryzvXvVea/s+iG1+H91p0KrEum69rNkIV4ESpqVx5agdgIymPYivSqAOH+IK7vF3wz9vEMx/8pWoV3FcT4+/5Gz4a/8AYfm/9NV/XbUAFUNe17TvC+jXuratew6dplnE01xdXDhY40AySSaj8SWep6hod3b6NqUej6o6jyL2a1FykTAg5aMsu4EAgjcOvBFee2PwNm1rVLXVPiD4r1Dxzc2sont9NaNbHSYJFfcjraRn94ynGDO8pGMg55oAk+Akd5qFj4v8UXGny6XaeKtefVtPtblCk/2UWttbxySIRlGk+zmTaeQHXPOQOh+KXwo8O/GLw7b6H4mtnubCC+t9QRY32N5kThgN3UAjcpxg7WYAjOa7CigAooooAo6LoeneG9Oj0/SrG302xjZ3S2tYxHGpdy7EKOBlmY8dyavUUUAFFFcZ8XvEl/4b8C3p0dlXX9QePS9KLdFu7hxFFIRg5VC3mNx92NqAMf4Ix/2xD4s8YNsZvEmuXE0DLGV/0S322dueeoZLbzQen7416XWX4V8OWfg/wzpOhaerLY6ZaRWcAY5OyNAi5Pc4HJrUoAKKKKACiiigAooooA8r+L/leH/HXwu8U/NG8OttodxKhPNvfQvGqMO4NzHZn2I7DNdk3/IQv/8Art/7Itcp+0pDdj4KeJdRsGjS+0NIdegaQZAeymjuxx7+QR+NdPHPHdXN3NE6yRSSK6OpyGUxoQQfSmhMteFf+Pe//wCvyT+QrcrD8K/8e9//ANfkn8hW5QxhRRRSAKKKKACiiigAooooAKKKKACiiigAooooAKKKKACiiigAooooAKKKKACiiigAooooAKKKKACiiigAooooAKKKKACiiigAryv9oT/kD+Cf+xy0X/0rSvVK81+LtqmpeKfhRZTc28nirznTsxh02+njz9JIkb6qDQB6VXmnxQt2b4lfB+4x+7j1+7Qn0LaRfY/9BNel141+1FqSeHfCvhHxFcGWPT9E8WaXfXk0MbSNFB5pichVBZs+btwASd2Mc0AaXx81C41rw/F8OtJAOu+NobjThK0bOllY7At5dvgj/VxyBVGRukliHQnHpOl6bb6Nptpp9pH5VrawpBDH12oqhVH5AV5r8IvDer63rF98SfFttJY+INYthaafpMsQjbSNMEjPFA4ySZpMrJKSeGCoAAnPqlAGZ4m1L+x/DerX+/y/stpLPvP8O1C2f0qh8OtH/wCEd+H3hjSd/mfYdLtbXf8A3tkSrn9Kp/GAkfCXxsR1/sO+/wDRD10umqF061A6CJB+goAs0UVU1bVrHQdNuNQ1O9t9OsLdDJNdXcqxRRKOrMzEAD3NAHk9x/yeDp//AGIlz/6cIK9X1DWtP0mS0jvr62s5LyYW9stxMsZnlIJEaAn5mIB4HPBr5YuPiJrnxT/aggl+Gkdvb2zeELi0j8Ta3A/2V4hfQGW5tYRhrkKfkUsY0ZgSGZV+b3Hwb8GdP8O6+niTWdV1Lxl4sRGSPWNbdGNqrKA620KKsVurY52KGIOGZqAO01zRbLxLouoaRqVut3p1/byWtzbv92SJ1Kup9iCRXkn7H/hHVPBHwL0zSdfsbiy8Rw6hqI1N7pT511OL2ZfPZz/rd6BGEmSGUrg4xXtNFAHz18Dvhn4z8PeNrWbXtGtdI0vw+mvWtvfpfrPLqwv9TS7RxGq/u40WP+NtxZvujk16D8dv+RJ0z/saPDv/AKebOvRKrahptrqsCw3ltFdQrLHOscyBgJI3WSN8HurqrA9ioNAGZ448IWHxA8G634a1Pf8A2fq1nLZTtHjeqyIVLKSCAwzkEg4IBq1/wjumtrltrclpFLrNvaPYx37IPNELsjumR2Zo0Yj1UVpUUAYV/wCD7HUvGWjeJpWmGoaVaXVlAqsBGUuGhaQsMZJzbpjkYy3XPG7RWP4y8QR+EvCOua5KjSRaZYz3ropwWWONnIH/AHzQBzHwZt0m8P6xrQ8wvrmuX9/ukOd8YnaGBl/2TBDCR7Gu/rnPhvoTeF/h74Y0d0KPYaZbWrK3UMkSqc++Qa5P4o+EfiH428TaPpuheLI/B/goxM+q3mlxg6zJIN22OF5EeOOM5Qltpb5SOhoA9Por4i8L/ET4r/Bb41ahoN3a+MfG/h7VtTk0PSLbxW6xxCYBWguxqQgEbLKqXBMKruUbOHbIH054Q0v4k32vQap4u1rRdN06ES7PDvh+2eUSFgoQz3c3zPs+Y7Y4oskgkkDbQB5v+3F43vfD/wAI7fw3pS+Zqvi+/TRYoxuzIjKzvENoPMu1YPbz85GMj2r4f+GH8E+A/Dfh2W8bUZNI022sGvHUgzmKJUMhGTjdtz1PXrXj37UXgmXx34w+DNhHf/2QU8TNcxag0HnJHPDay3MSspZQdzQbcZGecV9AUAFFYPhnwmvhe71qSLVdTvrfUrxr1bXULjz0tGYDekBI3LGWG7YWIUk7do4rkv8AhoPwlL478J+ErSe4vtV8Rz6jBb+TGAsH2IzLM0u4hlUvbyopAO4occAmgD0uvMf+FpaH8N/FWjeBPEXiS81fX9UnY2t1NYnCLNLIbaGaSJRGrEJIiEgFxCxPOSfTq+PPgvrZ+Nf7RPinULOxgbTNB8W3eqX+pNbtiV4LH+zLG2G7owU3E5JyQcYC7qAPsOivPPj54ou/DPwv1SPSp/s/iHWTHoejMswiYX124ghdW7bGfzDgEhY2PaqvwO8VaveafrPhDxTew6h4t8I3Kafe3sXym/haJZLa8KEkqZI2w3bzI5QOBwAUrFo/AP7RN7ZkCHTfHeni9g+c4Op2YCTgL0BktmgPbP2Zu/X1qvM/jhDLar4D123lEU+keLNP42AmSO6ZrB0z2+W8Lf8AAB9R6ZQAUUUUAFFFFABSHoaWqWtata6Bo9/qd/MLexsoJLmeZuiRopZmP0AJoA4r9nf/AJIB8NP+xZ03/wBJY69Crgf2f7eWz+A/w4gnjaGePw3pqPG4wysLWMEEdiDXfUAeZ/C2a0s/iL8WtIi/d3K65bakYsHHlz6baqHB/wBqSCf8VPrXpleceGgB+0B4+wAM6BoZPv8AvtS/wr0egDhviWzWer+ANRZSbWz8RIJ2BA2Ce0urWM8nvLcRL/wKu5rjfjFp8+pfDDxILNS2o2to1/ZbV3EXUGJ4DjviWNDj2rqNK1S11vS7PUbGZbiyvIUuIJlzh43UMrD6gg0AWqKKKACiiigAooooAKKKKACvPNZc+KvjLoemRjfZeF7V9Zu24wLqdZLe1Xrn/V/bWIxx+7PcV6HXn/wZJ1bQ9W8UuPm8TanPqUTbCu61GILRgCejW8ML/VzQB6BRRRQAUUUUAeM+J/2gNS0W/wDF17p/g9tW8HeELlbXXNXXUFjuEYRJNcNBbeWfNSGORGcs6E5IQNtr2OGZLiFJY23RuoZW9QRkGvnrS9Bm1yx/aJ+HhcWXiTXLi8vrKC4UqJbS80+K3huFbGHTzYpUO0nayEHGRn2H4YeIm8W/Drw3rEljPpk93YQyTWN0jJJbS7AHiYMqnKsGXOBnGRwaAM/4a/EqTx3JrdhqOgX3hfxBo1yYLvTb4BgY2LeTPFKPllikVSQw6FWBHHPb1z+n+NLLUPG2s+FhFcQanplrbXrmUL5c0M5lVHjIYkgNDIpDAEEDqCCfP9a/aO03S/jzpvw3h0yS6ikMdvqOuecEg0+8mhlmtbVgR80kiQMcZGN8fUtwAeleKrXTNU8P3ul6xJAthqkbafIlw4RZfOBj8vkjJbdgAcnPFeZ/AHWJNc+EPhe4nfzLuOwt7W6J6i4hhSKYH3Ekbg+4NY/7RWtt4u0PxHonhrTLvWvGHgGfRPF6afGo2XRW6eVIVwdzsUtZvlABJZACScVc/Zz1TSte+Gn9r6HMs+japq2p6hZsoA2xTXs0qKR/CyhwpXqpBB5FNCZ6l4V/497/AP6/JP5CtysPwr/x73//AF+SfyFblDGFFFFIAooooAKKKKACiiigAooooAKKKKACiiigAooooAKKKKACiiigAooooAKKKKACiiigAooooAKKKKACiiigAooooAKKKKACvKfFzDWP2jfh1pyXRK6VpGr6zNa7jtDE21tDIR0LYmuFB7Av68+rV5ZoMUGp/tLeMbuSL/SdJ8M6VZwPuPCT3F7JLx7mGH/vj3NAHqdeYftKfaY/g7qt3aqzSafeadqTFeCkdvf288j+wVI2b8K9PrhvjrYzal8EviBaW0bS3E3h+/jijUZLMbeQAD3JxQB3NFU9G1SHW9HsdRtnWS3u4I7iNlOQVdQwIP0NXKAOR+MH/JJfG3/YEvv/AEQ9dNp//Hhbf9cl/kKq+JtGTxH4b1XSZDiO/tJbVs+joVP86peAda/4SPwPoGplVjkurGGWSNXD+XIUG9CR3VsqfcGgDfr558e/D3WNP+Ldz4s8S+GZ/i/4WkjRdK01BC0/h+QZL7LSVkhmDsFPn585cBeVGa+hqKAPIvh/4b8SeJ/itdfEbxFow8KQJo7aHpeiS3CT3Rha4EzT3BjJSNjsjAjRnwC2WzxXrtFFABRRRQAUUUUAFFFFABXD/GxZbr4W6/p0Hl+dq8aaMhlJChruRLYE/QzZruK4f4pFLpvB+lyFwl/4htPuY6wB7xc+2bUUAdxRRXnfx3+I2u/DHwDJqnhnwpe+MdenuI7Kz0+zjZ1WSTOJJdoJEa45PclRlc7gAed/tLfFLw9oXxC+GXhq8upP7VtdWTxHJbW8RmmeCOOaGOKKJcvLNNNKqIiA8JIzbQuT634A8QeKPE0d7e+IPDCeFbNmUafaTXq3F66ZbLzqg8uIkbMIrvj5sntXKfAX4PTeA9HfxB4qeLWfiZrg+1a7rcihpPMbkWsTZOyCIbUVFIX5N2BmvWKAPHP2pES+8A6fpdjDNP4zvtVt18LC3Yh4dTQl47gnawEUSLJJJkY8tXHcVyXwz+Hd78WvDt7feK/Hfj2w8b2lw2na1Z2GsyabBp94iqSsEEIWMxFWSSN2D70kRiSSa9D+M3h7XLjVvAnijw7pMmvX/hrWGuJtMiniikntZraa3mMZlZE8xRKHUM6g7SM81D8KNK8Q/wDCwPiF4i1PQbzwzpOuSWEttp2pT20twbiKAwzzH7PJIqoyJbKF8wnMTHC7uQDR+CPi7VvEvhW+0/xG3neJ/DmozaJqlyIhEl1LEFZLhVHAEsMkMuAAAZCAMCvmrwR4Uj8BaOPi5NbR3Ztvidqtxe3jD5rPSGuL3TnJOCwjieWScgcfM5Pcj7G0vw/p+i3eq3NjbLbz6pdC9vGUk+bMIo4d5BPB2Qxrxj7uepJqe40uyvNPuLCe0gmsbhXSa2kjVo5VfO8MpGCGycg9cnNAFlWDKCDkHkEV4Za6a3wB+LHiTULXR9avPAvjHGpzLo9pPqP9n6wGYTubeGN5FS4QxtvGVDxMCBvFeseDfBOjfD/Q00fQbVrHTI3Z47YzySrFk/dTezbUHZFwqjgACtygDyDwXpOs/FD4gRePPEemXGjaFpMckHhjRb5THcB3LJNf3ETKDHI6BUjQnKI0mQC5AseMLR/D/wC0J8PtdtoQsWu2V/4cv5Fc5dlj+22uVzghBb3YDdR5pHevVZIxLGyEsAwIJVip59CORXlfhX4R+JrPXPC9z4o8df8ACT2Hhfzn02IaYLe5mleF4Flu5zK/nOsMkq/IsYZnLMCQMAFn9pCQ2nwf1bUF/wBZpl1YanH7tb3sEwH4mPH416bXl/7SbLcfCPUtJV1+261c2mlWURODLPNcRooA74BLHHRUY9q9QoAKKKKACiiigArhvjt/yRH4hf8AYu6j/wCk0ldzXnP7R162n/AH4iSoAXOgXsYz2Lwsmfw3Z/CgDpfh3/yT/wAMf9gu1/8ARS10NU9G0yPRdHsdOhJMNpBHboW67UUKP0FGsWt1e6Te29jenTb2aB44LwRLKYJCpCybG4bacHB4OMGgDzj4SyXHifx78RfGDkR2VxfR+HrGEL96LT2mSSUtnktcTXK4xwI15OePU6wfAvgyx+HvhPTvD+nSXE9tZo2bi8lMs9xIzF5ZpH/id3Z3Y8DLHAHSt6gArgvgv/xL/Cdz4cJYP4a1C40dY3JLJbxtutASep+yyW5z713teceJFXwN8UNG8QxjytM8RlNE1UgYUXA3Gynbjgli9vn+IzQj+EUAej0UUUAFFFFABRRRQAUUUUAcL8XtSuf+EftfDmmzNBq/ie5GkW8yEBoI2RnuJxyOY4Emdf8AbCDvXFeOfjc/wg+JGkeDrTwjNfeEbLw+NSvrvSvmm0y3WYQK624GXijAG8Jlgp3AEKQet0eZvF3xg1i/XnTfC9r/AGPC2R897OI57k/ePCRC0UHA5klHOKx/GinSf2kPhnqEcPlJqWlaxpE90sfEjAW1zDCzeuIbh1H+y/vQB61XGeKPi94a8Ja8dEvJNTu9VW3S6ktdI0a81F4YnZlR5Ps8UmwMUfG7Gdpx0rsJY1mjeNxlWBU844NeHfsZ+EV8MfBKxku5W1DxDc3d3DquqzO0k13Jb3Mtsm52JYqkcKIoPQL0BJoA9W8FeOtA+I2gx6z4b1W31fTXYx+dbk/K4+8jqcMjDIyrAEZ6Vs3N1DZ28txcSpBbwoZJJZGCqigZLEngADvXkXxKs7X4W+PtA+IVizabY6nqEWkeKihxbTQSo0dtdTKeA8U/kR+b12SsGJUDb6d4o0GLxV4Z1fRZ5Gig1Kzms5JI/vKsiFCR7gGgDzH4oXUy2vhf4v8AhEf23Bo1nNNdWtvgNqejXCJJL5WRzIpihmQcbtjLn569Y0rVLTXNLs9S0+4jvLC8hS4t7iFtySxuoZXU9wQQQfevMv2dvFttd+BbDwXfGOy8X+EbSHR9X0p2/eI0KCNZ1BALQyqokRwMENjOQQHfs/2Z8N2fjPwfFIZNM8MeIZrHTQc/urSWCC7jhySSRF9qMYyfuov0oAteM/C+o2/xp+H/AIt0qBpUaO90HWNkZbFpLCbiKRj0UJPbIue/n49q5bwL+yrpnhX4Ral4P1HX73WdZ1HV5PEM/ifYIrpNTLq0d1ECzbHTy4/4juw2eGIr3SigDzf4a/Baz8D69qnirVNQbxJ451Ysuoa/JbpbGSLbEqQrFH8qxosEeAdxzuO752zr6NoOm+GUutO0jT7XS9PjuGZLWzhWKJS4DuQqgAEszMfUknvXY1zrf8hC/wD+u3/si00Jk3hX/j3v/wDr8k/kK3Kw/Cv/AB73/wD1+SfyFblDGFFFFIAooooAKKKKACiiigAooooAKKKKACiiigAooooAKKKKACiiigAooooAKKKKACiiigAooooAKKKKACiiigAooooAKKKKACvL/hjCJvi18Yb1wXmGq2FisrZOIo9MtpFjHsHuJWx6yH1r1CvJv2dYbg6b4+vbhXJvfGusvHK/JkSO4Nupz6KIdg9AgHagD1msjxh/yKWt/wDXjP8A+i2rXrH8Yf8AIo65/wBeM/8A6LagDB+B/PwV8AH/AKl/T/8A0mjrtq4f4Ftu+CXw+Pr4e08/+S0ddxQAVxXw5b+yLnxH4bn4urDUri+TjAktryeW4jcD0DNNF9YG7EV2tcL8QtPvdH1TS/Gmk2UuoXmkpJbX1jbIGmu7CQqZVjGMtJG0aSIo5ba6DmTNAHdUVS0XWrHxFpNpqmmXUV9p93Gs0FxC25JEIyCDV2gAooooAKKKKACiiigAooooAK4bx4Y7nxv8OLTzFEyatcXvlnqyJp91GSPo08f513NeZ+N5Nvxw+GKf3rfVz+UUNAHplFFFABRRRQAUUUUAFFFFABRRRQAUUUjAspAO046jtQB5fdMPHXx8tbYN5uleCLI3Uqqx2/2ndqUiBHQtHbeacHoLtD3Feo1zngHwLp/w98Prplg0txJJK91eX90Q1xfXLnMk8zADc7H8AAqgBVAHR0AFFFFABRRRQAV5b+0/Ix+AvjC0iikuLrUbZNLtYYly0lxcypbwoPrJKg9s16lXmP7QGow23hfw1YuW+06l4t0G3tkVSd7pqUFw/wBAIoJWz/s0AenUUUUAFFFFABWR4u8K6f428N6hoeqRtJY3sRjfYcOh6rIh/hdWCsrDlWUEciqvxD8ZW/w78CeIPFF3BJc22j2M188ERAeQRoW2gngE4xz61U+GXxG074oeFYtYsY5bOeORrW/025G240+7TAltpl/hdCfxBVhwwNAGb8KvGGoalDf+GfE0iDxloLLBekKEF9Cf9TexqP4JVHIHCyLIn8Nd9XhvxO8I3PiH9oLwXFF4h1PR3n0PU57afT1t1ls5YJrMblZomLpItw6vFJujbahChlDV7hGpjjVWcyFQAXbGW9zjigB1FFFABRRRQAUh4B4zS0UAcf8ACbQdQ8P+B7RNYgW11m9nuNTvrdZBIIZ7md53i3Dhthk2ZHBCDFc1+0DJJo1j4J8TRyLCuheKtPlnlcgIlvcM1jMWz2CXbHjoQD0Br1WuX+KHguL4ifDnxN4Zl2Aarp89okjoG8uRkISQA91bawPYqDQB1FeV/s+tNYaT4z0CeFrdtE8WapAkbDkQzzfbYjnuDHdoR9cdq9A8LPqsnhnSG12OGLXGs4Tfx25zGtxsHmhT/dDbse1cB4s8FeJ/DPj668ceA4NN1K51S2jtdb0DUrg2kd95IfyLiK4WNzHMgcoQylXTaMqUBIBS/awtjrHwXvtAikjivtf1HTdIs/NJC+dNewqpOAeAMseOimvYK8s8L+BfEfizxda+MPiCtra3GmknRPDOnXTXFppzsmx7iWUonn3DBnUHaFjUkKCWZj6nQBxnxA+Dfgn4qPaSeLPDdjrc1oCIJrhCJI1PVQ6kNtPpnFangjwD4e+G+hLo3hjSLXRdMWRpfs9qmAzsfmdj1ZjxySTgAdAK36KACiiigArnW/5CF/8A9dv/AGRa1tY1iy8P6TeanqV1FZafZwtPcXMzbUijUEszHsAATXCfDvxJqHjDw4Nb1PTm0me/mkuIrOQESR27HNv5gJ+WQw+WWXsxYdqaEzq/Cv8Ax73/AP1+SfyFblYfhX/j3v8A/r8k/kK3KGMKKKKQBRRRQAUUUUAFFFFABRRRQAUUUUAFFFFABRRRQAUUUUAFFFFABRRRQAUUUUAFFFFABRRRQAUUUUAFFFFABRRRQAUUUUAFeU/stxz/APCj9Bup4nh/tC4v9TiEnVobm9nnif8A4FHKjf8AAq7H4meJJPBvw38V6/CAZtK0m7vkDdC0ULuP1WovhToDeFPhd4O0Rn81tN0azsy5GNxjgRM47dKAOqqvqFjBqlhc2V1H5trcxNDLHkjcjAhhkc8gnpViigCtpum2uj6da2FjBHa2VrEkEEES7UjjUBVVR2AAA/CrNFFABRRRQB55qPw81jw9q99q/gTVrbS3vWM15oepwNNp1zMTlpk2Mr28rfxMm5Dks0bN81dnoEmqy6PavrdvZ2uqlf8ASIdPneaBWyfuO6IxGMdVH9a0KKACiiigAooooAKKKKACiiigArl9c8ELrXjvwv4lN40LaHFeRi2EeRN9oWNSS2eNvl+hzmuoooAKKKKACiiigAooooAKKKKACiiigAooooAKKKKACiiigAooooAK8k+NiLqvjv4OaNkxyS+KG1AS4yAttYXUhXHqxIHtya9bryb4rq0fxh+Cty42266xqEBlPCh30y52KT6na2PXFAHrNFFFABRRRQBmeJvDth4v8OapoWqQ/aNN1O1ls7mLcV3xSIUYZHI4J5HSvIv2XdQ0zVtN8VFrpdR8Y6Rqsnh3X9SDsG1B7ItFb3LxliA7w7NzjksrAk7AB03wn+IGvfELxF47lu4NOtPDuj61PolhDCshu2e32rLLK5baVZidqqoKgclutO+HHwP0v4ZfELx94o0y8nYeLp4LmawdQI7aRDKzlT1O+SeRznpnA4oA534qaX471b42eD5vBVlZW/8AZ+ialHd63rcUj2UAuJ7MKsaxkGWYC3dthZFxglux1tF/Z50P7daat4u1LVfiBr9vKLiO91+5LQQSDacwWke2CIBlyMIWGcbjXqlFABRRRQAUUUmaAFoqrqmpW+i6Xeahds62tpC88rRxtIwRVLMQqgsxwDwASewrxS58ZfE7VNBm8ZNqXh74e6BJNHHpmjeI9HnurqRJXSKBruSO4TyXkkdcRqrFA6hiSGAAPdaK8u8P/FLXNE8TaX4X+Imi2ui6nqhaLTNZ0q4afTNRmVdzQguqvBMVDMI5AQwU7XYgivUaACiiigAooooAKKKKACiiigDzvUPhvqfjbxY174v1G3u/DdjcrLpfhuzjP2d2TlJ7tm5mcHlYwBGhAOHYBh0Tf8hC/wD+u3/si10Vc63/ACEL/wD67f8Asi00Jk3hX/j3v/8Ar8k/kK3Kw/Cv/Hvf/wDX5J/IVuUMYUUUUgCiiigAooooAKKKKACiiigAooooAKKKKACiiigAooooAKKKKACiiigAooooAKKKKACiiigAooooAKKKKACiiigAooooA8w/aSWW8+EWpaPbzx282vXlhoQeQ/wXl5DbSYHc+XK5/CvT68r+LEcfiD4lfCnw40BuFXVrjX5wOkcVnbOqOe3Fxc2v44x7eqUAFFFFABRRRQAUUUUAFFFFABRRRQAUUUUAFFFFABRRRQAUUUUAFFFFABRRRQAUUUUAFFFFABRRRQAUUUUAFFFFABRRRQAUUUUAFeQ/tB/8hT4R/wDY8Wf/AKS3devV5D+0F/yFPhJ/2PFn/wCkt3QB69RRRQAUUUUAeS/APTZdB1b4r6XOyPLD40u7oNHnBS5t7a6TqOoE4U+6mvWq8j0sf2D+1NrdpbJ5Ft4g8LQalcLztmuba4MBkHbcIpYUb1Cx+leuUAFFFFABRRRQAV498clt/C/jX4YePr0kaZoeqzadfSMF2W0N/D9nW4YsQFCzi3Ut2SR69hrM8T+HbHxh4b1XQtTiM2nanay2dzGDgtHIhRgD2OCeaANOvK/2kg9v8O7TVHEj6Zo2uaVq2pxxQmUmyt72KWZioBJVFUyHAPEZrq/hjpHiHw94J03SfE99b6pqtgrWn9oW+7/S4UYrDNIG5WVowhcAkby2DjFdRQBynjPwroHxc8CtZXNx9p0u8SO8s9S0252vE6kSQXNvMh4ZSFdWBx9QSDD8GfEF/wCLPg/4G1vVJvtOp6loVjeXU20L5ksluju2AABliTgDHNcpffs1aEE1Gy0HX/EPg/w9qalb7w9oN1FFYTBiS+xHidrfeDhvIaPI9ySfU9L0u00TTLTTtPto7Ows4Ut7e3hUKkUaKFVFA6AAAAe1AFqiiigAorzfV/iVa+Ite1XwLpOu/wDCHeOoHSS0XWbASC7hUh2lgQuouImVXU7HDJznaQK7PwzaaxY6NDDr2pWur6mpbzLuzszaRuCSVxGZJCMDA+8c4zxQBq0UUUAFFFFABXOt/wAhC/8A+u3/ALItdFXOt/yEL/8A67f+yLTQmTeFf+Pe/wD+vyT+QrcrA0tm0yOdRiTzZml5GMZxx+lXf7Vf+4v50Bc0qKzf7Vf+4v50f2q/9xfzosFzSorN/tV/7i/nR/ar/wBxfzosFzSorN/tV/7i/nR/ar/3F/OiwXNKis3+1X/uL+dH9qv/AHF/OiwXNKis3+1X/uL+dH9qv/cX86LBc0qKzf7Vf+4v50f2q/8AcX86LBc0qKzf7Vf+4v50f2q/9xfzosFzSorN/tV/7i/nR/ar/wBxfzosFzSorN/tV/7i/nR/ar/3F/OiwXNKis3+1X/uL+dH9qv/AHF/OiwXNKis3+1X/uL+dH9qv/cX86LBc0qKzf7Vf+4v50f2q/8AcX86LBc0qKzf7Vf+4v50f2q/9xfzosFzSorN/tV/7i/nR/ar/wBxfzosFzSorN/tV/7i/nR/ar/3F/OiwXNKis3+1X/uL+dH9qv/AHF/OiwXNKis3+1X/uL+dH9qv/cX86LBc0qKzf7Vf+4v50f2q/8AcX86LBctHT7U363xtoTerEYRc+WPMEZIJTd12kgHHTIFWKzf7Vf+4v50f2q/9xfzosFzSorN/tV/7i/nR/ar/wBxfzosFzSorN/tV/7i/nR/ar/3F/OiwXNKis3+1X/uL+dH9qv/AHF/OiwXNKis3+1X/uL+dH9qv/cX86LBc0qKzf7Vf+4v50f2q/8AcX86LBc0qKzf7Vf+4v50f2q/9xfzosFzSorN/tV/7i/nR/ar/wBxfzosFzSorN/tV/7i/nR/ar/3F/OiwXNKis3+1X/uL+dH9qv/AHF/OiwXNKis3+1X/uL+dH9qv/cX86LBc0qKzf7Vf+4v50f2q/8AcX86LBc0qKzf7Vf+4v50f2q/9xfzosFzSorN/tV/7i/nR/ar/wBxfzosFzSorN/tV/7i/nR/ar/3F/OiwXNKis3+1X/uL+dH9qv/AHF/OiwXNKis3+1X/uL+dH9qv/cX86LBc0qKzf7Vf+4v50f2q/8AcX86LBc0qKzf7Vf+4v50f2q/9xfzosFzSryv9oLS5bjS/A+rQyKG0bxjo9y0TKT5qzXAs2HB4IF2Xz/sY716F/ar/wBxfzpG1IsMNEpGc8+3IosFzTorN/tV/wC4v50f2q/9xfzosFzSorN/tV/7i/nR/ar/ANxfzosFznvG3gGXxJ4s8FeIrG6jstR8PX0rs8iswns5oWjngwCB8x8lwTnBhWuzrN/tV/7i/nR/ar/3F/OiwXNKis3+1X/uL+dH9qv/AHF/OiwXNKis3+1X/uL+dH9qv/cX86LBcuxzO9xLGYJERNu2Viu2TPXGDnjvkDrxmpazf7Vf+4v50f2q/wDcX86LBc0qKzf7Vf8AuL+dH9qv/cX86LBc0qKzf7Vf+4v50f2q/wDcX86LBc0qKzf7Vf8AuL+dH9qv/cX86LBct3FjbXc1tLPbxTS2z+bA8iBmicqVLKT907WYZHZiO9T1m/2q/wDcX86P7Vf+4v50WC5pUVm/2q/9xfzo/tV/7i/nRYLmlRWb/ar/ANxfzo/tV/7i/nRYLmlXOt/yEL//AK7f+yLWh/ar/wBxfzrP25nnl/56vvx6fKB/SmgHUUUUyQooooAKKKKACiiigAooooAKKKKACiiigAooooAKKKKACiiigAooooAKKKKACiiigAooooAKKKKACiiigAooooAKKKKACiiigAooooAKKKKACiiigAooooAKKKKACiiigAooooAKKKKACiiigAooooAKKKKACiiigAooooAKKKKACiiigAooooAKKKKACiiigAooooAKKKKACiiigAooooAKKKKACiiigAooooAKKKKACiiigAooooAKKKKACiiigAooooAKKKKACiiigD//2Q==)"
      ],
      "metadata": {
        "id": "Rc844qf5dEy9"
      }
    },
    {
      "cell_type": "markdown",
      "source": [
        "# **Gamma Distribution**"
      ],
      "metadata": {
        "id": "CKNK8YlQd8Gc"
      }
    },
    {
      "cell_type": "markdown",
      "source": [
        "🎓 Introduction to Gamma Distribution:\n",
        "\n",
        "\n",
        "\n",
        "\n",
        "\n",
        "Gamma Distribution is a continuous probability distribution that is used to model the waiting time until a specified number of events occur in a Poisson process. It is a two-parameter family of distributions that has many applications in fields such as physics, engineering, and finance.\n",
        "\n",
        "📈 Probability Density Function:\n",
        "\n",
        "The probability density function (PDF) of the Gamma Distribution is given by  f(x)=(1/Γ(α)βα)x(α−1)e(−x/β)  where α and β are the shape and scale parameters, respectively, and Γ is the gamma function.\n",
        "\n",
        "📊 Cumulative Distribution Function:\n",
        "\n",
        "The cumulative distribution function (CDF) of the Gamma Distribution is given by  F(x)=P(X≤x)=I(α,x/β)  where I is the incomplete gamma function.\n",
        "\n",
        "🔍 Expected Value and Variance:\n",
        "\n",
        "The expected value of a Gamma Distribution is given by E(X) = αβ, and the variance is given by  Var(X)=αβ2\n",
        "\n",
        "."
      ],
      "metadata": {
        "id": "33FOC5KEd4OU"
      }
    },
    {
      "cell_type": "markdown",
      "source": [
        "* The Beta distribution is a flexible distribution that can take on a wide range of shapes, from U-shaped to J-shaped to bell-shaped, depending on the values of α and β.\n",
        "\n",
        "* When α = β = 1, the Beta distribution reduces to a uniform distribution over [0, 1].\n",
        "* The Beta distribution is conjugate to the binomial distribution, which means that if the prior distribution of the probability parameter of a binomial distribution is a Beta distribution, then the posterior distribution is also a Beta distribution.\n",
        "\n",
        "*"
      ],
      "metadata": {
        "id": "A5cS6UNUeuaY"
      }
    },
    {
      "cell_type": "code",
      "source": [
        "alpha = 10-1\n",
        "beta = 6\n",
        "\n",
        "r = 30\n",
        "\n",
        "from scipy.stats import gamma\n",
        "gamma.cdf(r, alpha, beta)"
      ],
      "metadata": {
        "colab": {
          "base_uri": "https://localhost:8080/"
        },
        "id": "1aYYNSbjeNQl",
        "outputId": "2d4db622-d1c7-4b3c-d1d1-45374c0d11a5"
      },
      "execution_count": 8,
      "outputs": [
        {
          "output_type": "execute_result",
          "data": {
            "text/plain": [
              "0.9998494373023702"
            ]
          },
          "metadata": {},
          "execution_count": 8
        }
      ]
    },
    {
      "cell_type": "markdown",
      "source": [
        "![lambda2.jpg](data:image/jpeg;base64,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)"
      ],
      "metadata": {
        "id": "9JHeFdTUfdFs"
      }
    },
    {
      "cell_type": "code",
      "source": [],
      "metadata": {
        "id": "a3iTLLsVff20"
      },
      "execution_count": null,
      "outputs": []
    },
    {
      "cell_type": "markdown",
      "source": [
        "🤝 Joint probability mass function and joint cumulative distribution function: In joint distribution, we are interested in analyzing the behavior of two or more random variables simultaneously. We use joint probability mass function and joint cumulative distribution function to study the joint behavior of discrete random variables.\n",
        "\n",
        "*  Covariance and correlation: Covariance and correlation measure the relationship between two random variables in a joint distribution.\n",
        "\n",
        "* P(X = x | Y = y) = P(X = x, Y = y) / P(Y = y)-Discrete Variables:\n",
        "\n",
        "* f(X = x | Y = y) = f(X = x, Y = y) / f_Y(y)-Continuous Variables:\n",
        "\n",
        "* The sum of all the probabilities in the joint PMF over all possible values of X and Y must be equal to 1."
      ],
      "metadata": {
        "id": "DVmjV3zPhq6Y"
      }
    },
    {
      "cell_type": "code",
      "source": [
        "import numpy as np\n",
        "\n",
        "# Define the joint PMF as a 2D array\n",
        "joint_pmf = np.array([[0.1, 0.2, 0.05],\n",
        "                      [0.05, 0.15, 0.2],\n",
        "                      [0.05, 0.1, 0.1]])\n",
        "\n",
        "# Calculate the marginal PMF of X by summing over Y\n",
        "marginal_pmf_x = np.sum(joint_pmf, axis=1)\n",
        "\n",
        "# Calculate the conditional PMF of Y given X=2\n",
        "conditional_pmf_y_given_x2 = joint_pmf[2, :] / marginal_pmf_x[2]\n",
        "\n",
        "# Print the results\n",
        "print(\"Joint PMF:\")\n",
        "print(joint_pmf)\n",
        "print(\"Marginal PMF of X:\")\n",
        "print(marginal_pmf_x)\n",
        "print(\"Conditional PMF of Y given X=2:\")\n",
        "print(conditional_pmf_y_given_x2)"
      ],
      "metadata": {
        "id": "BJQhQkmkjCwZ"
      },
      "execution_count": null,
      "outputs": []
    },
    {
      "cell_type": "markdown",
      "source": [
        "The joint CDF approaches 0 as both of its arguments approach negative infinity.\n",
        "\n",
        "The joint CDF approaches 1 as both of its arguments approach positive infinity\n",
        "\n",
        "Suppose we have two discrete random variables X and Y. The joint CDF for X and Y can be defined as:\n",
        "\n",
        "F(x,y) = P(X ≤ x, Y ≤ y)"
      ],
      "metadata": {
        "id": "OZwyn6yRj_l3"
      }
    },
    {
      "cell_type": "code",
      "source": [
        "from scipy.stats import randint\n",
        "\n",
        "xk = [1, 2, 3, 4, 5, 6]\n",
        "pk = [1/6, 1/6, 1/6, 1/6, 1/6, 1/6]\n",
        "X = randint(a=1, b=7)\n",
        "Y = randint(a=1, b=7)\n",
        "\n",
        "# Calculate joint CDF for X and Y\n",
        "F = lambda x, y: X.cdf(x)*Y.cdf(y)\n",
        "\n",
        "# Calculate joint CDF for x = 3, y = 4\n",
        "F(3, 4)"
      ],
      "metadata": {
        "id": "4kK75cOfkUkv"
      },
      "execution_count": null,
      "outputs": []
    },
    {
      "cell_type": "code",
      "source": [],
      "metadata": {
        "id": "Iac-Wa0NkaFy"
      },
      "execution_count": null,
      "outputs": []
    },
    {
      "cell_type": "markdown",
      "source": [
        "![joint prob.jpg](data:image/jpeg;base64,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)"
      ],
      "metadata": {
        "id": "jIYRVG70lSJv"
      }
    },
    {
      "cell_type": "markdown",
      "source": [
        "# **Covariance and Correlation**"
      ],
      "metadata": {
        "id": "R3sER-MfljRo"
      }
    },
    {
      "cell_type": "markdown",
      "source": [
        "📊 Covariance:\n",
        "\n",
        "Covariance is a measure of how two variables vary together. It measures the degree to which two variables are related to each other. A positive covariance means that the two variables tend to move in the same direction, while a negative covariance means they tend to move in opposite directions.\n",
        "\n",
        "Covariance can be calculated using the following formula:  cov(X,Y)=E[(X−E[X])(Y−E[Y])]"
      ],
      "metadata": {
        "id": "5MHgZ_j_l0X3"
      }
    },
    {
      "cell_type": "markdown",
      "source": [
        "📈 Correlation:\n",
        "\n",
        "Correlation measures the strength of the linear relationship between two variables. It ranges from -1 to 1, where -1 indicates a perfectly negative correlation, 0 indicates no correlation, and 1 indicates a perfectly positive correlation. Correlation is standardized, which means it is not sensitive to the scale of the variables.\n",
        "\n",
        "🔍 Formula:\n",
        "\n",
        "Correlation can be calculated using the following formula:  corr(X,Y)=cov(X,Y)/(std(X)∗std(Y))"
      ],
      "metadata": {
        "id": "l0v3OkBomGw-"
      }
    },
    {
      "cell_type": "markdown",
      "source": [
        "![corrleatiomn.jpg](data:image/jpeg;base64,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)\n",
        "\n",
        "* ρ(X, Y) = Cov(X, Y) / (σ(X)σ(Y))"
      ],
      "metadata": {
        "id": "VCRCBRnNmIjO"
      }
    },
    {
      "cell_type": "code",
      "source": [
        "import numpy as np\n",
        "\n",
        "# Sample data\n",
        "X = np.array([1, 2, 3, 4, 5])\n",
        "Y = np.array([5, 4, 3, 2, 1])\n",
        "\n",
        "# Calculate covariance\n",
        "covariance = np.cov(X, Y)[0][1]\n",
        "\n",
        "# Calculate correlation\n",
        "correlation = np.corrcoef(X, Y)[0][1]\n",
        "\n",
        "print(\"Covariance:\", covariance)\n",
        "print(\"Correlation:\", correlation)"
      ],
      "metadata": {
        "colab": {
          "base_uri": "https://localhost:8080/"
        },
        "id": "K_qSY8O3mk--",
        "outputId": "a4a38525-de0e-478b-b6d4-a251eaa563c0"
      },
      "execution_count": 12,
      "outputs": [
        {
          "output_type": "stream",
          "name": "stdout",
          "text": [
            "Covariance: -2.5\n",
            "Correlation: -0.9999999999999999\n"
          ]
        }
      ]
    },
    {
      "cell_type": "markdown",
      "source": [
        "# **imp points :-**\n",
        "\n",
        " 33. What is the expected value and variance of a continuous random variable?\n",
        "Answer: The expected value is the mean value of a continuous random variable, while the variance measures the spread of the values around the expected value.\n",
        "\n",
        "23. What is the expected value of a discrete random variable?\n",
        "Answer: The expected value of a discrete random variable is the sum of the product of each possible value and its probability.\n",
        "24. What is the variance of a discrete random variable?\n",
        "Answer: The variance of a discrete random variable is the expected value of the squared difference between each possible value and the mean of the distribution."
      ],
      "metadata": {
        "id": "_hhE2cu2uNwm"
      }
    },
    {
      "cell_type": "code",
      "source": [],
      "metadata": {
        "id": "5xcxYvWyuWYn"
      },
      "execution_count": null,
      "outputs": []
    }
  ],
  "metadata": {
    "colab": {
      "provenance": [],
      "include_colab_link": true
    },
    "kernelspec": {
      "display_name": "Python 3",
      "name": "python3"
    }
  },
  "nbformat": 4,
  "nbformat_minor": 0
}